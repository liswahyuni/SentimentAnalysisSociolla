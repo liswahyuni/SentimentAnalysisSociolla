{
 "cells": [
  {
   "cell_type": "markdown",
   "metadata": {},
   "source": [
    "<center><h1><b>Proyek Analisis Sentimen</b></h1></center>\n",
    "<center><h2><b>Sentimen Review Sociolla</b></h2></center>\n",
    "<center><h3><b>Created by: Lis Wahyuni</b></h3></center>"
   ]
  },
  {
   "cell_type": "code",
   "execution_count": 9,
   "metadata": {},
   "outputs": [],
   "source": [
    "# Import necessary libraries\n",
    "import pandas as pd\n",
    "import numpy as np\n",
    "import seaborn as sns\n",
    "import matplotlib.pyplot as plt\n",
    "from sklearn.model_selection import train_test_split\n",
    "from sklearn.preprocessing import LabelEncoder\n",
    "import tensorflow as tf\n",
    "from tensorflow.keras.preprocessing.text import Tokenizer\n",
    "from tensorflow.keras.preprocessing.sequence import pad_sequences\n",
    "from sklearn.metrics import classification_report, confusion_matrix\n",
    "from tensorflow.keras.callbacks import ReduceLROnPlateau, EarlyStopping\n",
    "from tensorflow.keras.layers import BatchNormalization, SpatialDropout1D, MaxPooling1D, Embedding, LSTM, Dense, GlobalMaxPooling1D, Conv1D, Dropout, Bidirectional, GRU\n",
    "from tensorflow.keras.optimizers import Adam\n",
    "from sklearn.utils.class_weight import compute_class_weight\n",
    "from tensorflow.keras.models import Sequential\n",
    "import re\n",
    "from sklearn.utils import resample\n",
    "from nltk.corpus import stopwords\n",
    "from collections import Counter\n",
    "from textblob import TextBlob\n",
    "pd.set_option('display.max_colwidth', None)\n",
    "pd.set_option('display.max_rows', None)"
   ]
  },
  {
   "cell_type": "code",
   "execution_count": 2,
   "metadata": {},
   "outputs": [
    {
     "data": {
      "text/html": [
       "<div>\n",
       "<style scoped>\n",
       "    .dataframe tbody tr th:only-of-type {\n",
       "        vertical-align: middle;\n",
       "    }\n",
       "\n",
       "    .dataframe tbody tr th {\n",
       "        vertical-align: top;\n",
       "    }\n",
       "\n",
       "    .dataframe thead th {\n",
       "        text-align: right;\n",
       "    }\n",
       "</style>\n",
       "<table border=\"1\" class=\"dataframe\">\n",
       "  <thead>\n",
       "    <tr style=\"text-align: right;\">\n",
       "      <th></th>\n",
       "      <th>product_url</th>\n",
       "      <th>rating</th>\n",
       "      <th>review</th>\n",
       "      <th>scraped_at</th>\n",
       "    </tr>\n",
       "  </thead>\n",
       "  <tbody>\n",
       "    <tr>\n",
       "      <th>0</th>\n",
       "      <td>https://www.sociolla.com/face-cream-lotion/16544-sky-rose-moisturizer</td>\n",
       "      <td>4.8</td>\n",
       "      <td>udah mau dua minggu pake, honestly aku ngerasa ini bagus banget. sempet bingung antara yg blue moon sama yang ini tapi condong ke dia dari awal beli. teksturnya ga terlalu tebel, tp pakenya jgn terlalu banyak kalo kalian tipe muka berminyak. jadi lembab banget, cocok!</td>\n",
       "      <td>2025-01-29 14:16:01</td>\n",
       "    </tr>\n",
       "    <tr>\n",
       "      <th>1</th>\n",
       "      <td>https://www.sociolla.com/face-cream-lotion/16544-sky-rose-moisturizer</td>\n",
       "      <td>4.8</td>\n",
       "      <td>Sudah hampir 2 bulan pakai ini. Claim nya melembabkan kulit wajah dan diperuntukan bagi dry skin. Yang aku rasakan efeknya memang cukup melembabkan. Aku pakai di malam hari, ketika bangun tidur wajah terasa moist, tapi gak sampe berminyak banget. Selain itu aku merasa kulit wajah keliatan agak lebih glowing. Alhamdulilah gak ada keluhan aneh-aneh untuk kulit sensitif ini. So far aku suka, tapi mau ganti moisturizer karena mau coba yang lain bukan karna gak cocok. Hehehe</td>\n",
       "      <td>2025-01-29 14:16:01</td>\n",
       "    </tr>\n",
       "    <tr>\n",
       "      <th>2</th>\n",
       "      <td>https://www.sociolla.com/face-cream-lotion/16544-sky-rose-moisturizer</td>\n",
       "      <td>5.0</td>\n",
       "      <td>awalnya beli produk ini karena emang mau nyari moisturizer trus pas dateng suka banget sm packagingnya ada spatula trus lucu aja gitu dan ternyata cocok, kulitku jadi lebih halus padahal kulitku kombinasi cenderung berminyak gitu tapi ini ga bikin berminyak sih di aku dan paling penting ga bikin jerawatan atau bruntusan so far aku sangat sukaa</td>\n",
       "      <td>2025-01-29 14:16:01</td>\n",
       "    </tr>\n",
       "  </tbody>\n",
       "</table>\n",
       "</div>"
      ],
      "text/plain": [
       "                                                             product_url  \\\n",
       "0  https://www.sociolla.com/face-cream-lotion/16544-sky-rose-moisturizer   \n",
       "1  https://www.sociolla.com/face-cream-lotion/16544-sky-rose-moisturizer   \n",
       "2  https://www.sociolla.com/face-cream-lotion/16544-sky-rose-moisturizer   \n",
       "\n",
       "   rating  \\\n",
       "0     4.8   \n",
       "1     4.8   \n",
       "2     5.0   \n",
       "\n",
       "                                                                                                                                                                                                                                                                                                                                                                                                                                                                                       review  \\\n",
       "0                                                                                                                                                                                                                udah mau dua minggu pake, honestly aku ngerasa ini bagus banget. sempet bingung antara yg blue moon sama yang ini tapi condong ke dia dari awal beli. teksturnya ga terlalu tebel, tp pakenya jgn terlalu banyak kalo kalian tipe muka berminyak. jadi lembab banget, cocok!   \n",
       "1  Sudah hampir 2 bulan pakai ini. Claim nya melembabkan kulit wajah dan diperuntukan bagi dry skin. Yang aku rasakan efeknya memang cukup melembabkan. Aku pakai di malam hari, ketika bangun tidur wajah terasa moist, tapi gak sampe berminyak banget. Selain itu aku merasa kulit wajah keliatan agak lebih glowing. Alhamdulilah gak ada keluhan aneh-aneh untuk kulit sensitif ini. So far aku suka, tapi mau ganti moisturizer karena mau coba yang lain bukan karna gak cocok. Hehehe   \n",
       "2                                                                                                                                   awalnya beli produk ini karena emang mau nyari moisturizer trus pas dateng suka banget sm packagingnya ada spatula trus lucu aja gitu dan ternyata cocok, kulitku jadi lebih halus padahal kulitku kombinasi cenderung berminyak gitu tapi ini ga bikin berminyak sih di aku dan paling penting ga bikin jerawatan atau bruntusan so far aku sangat sukaa   \n",
       "\n",
       "            scraped_at  \n",
       "0  2025-01-29 14:16:01  \n",
       "1  2025-01-29 14:16:01  \n",
       "2  2025-01-29 14:16:01  "
      ]
     },
     "execution_count": 2,
     "metadata": {},
     "output_type": "execute_result"
    }
   ],
   "source": [
    "# Load data\n",
    "df = pd.read_csv('sociolla_reviews.csv')\n",
    "df.head(3)"
   ]
  },
  {
   "cell_type": "code",
   "execution_count": 28,
   "metadata": {},
   "outputs": [
    {
     "name": "stdout",
     "output_type": "stream",
     "text": [
      "<class 'pandas.core.frame.DataFrame'>\n",
      "Index: 13900 entries, 0 to 11228\n",
      "Data columns (total 6 columns):\n",
      " #   Column            Non-Null Count  Dtype  \n",
      "---  ------            --------------  -----  \n",
      " 0   product_url       13900 non-null  object \n",
      " 1   rating            13900 non-null  float64\n",
      " 2   review            13900 non-null  object \n",
      " 3   scraped_at        13900 non-null  object \n",
      " 4   sentiment         13900 non-null  object \n",
      " 5   processed_review  13900 non-null  object \n",
      "dtypes: float64(1), object(5)\n",
      "memory usage: 760.2+ KB\n"
     ]
    }
   ],
   "source": [
    "# Check the information of the dataframe\n",
    "df.info()"
   ]
  },
  {
   "cell_type": "code",
   "execution_count": 3,
   "metadata": {},
   "outputs": [
    {
     "data": {
      "text/plain": [
       "0"
      ]
     },
     "execution_count": 3,
     "metadata": {},
     "output_type": "execute_result"
    }
   ],
   "source": [
    "# Check for duplicates\n",
    "df.duplicated(subset=['product_url', 'rating', 'review']).sum()"
   ]
  },
  {
   "cell_type": "markdown",
   "metadata": {},
   "source": [
    "The dataframe has no missing and duplicate values."
   ]
  },
  {
   "cell_type": "code",
   "execution_count": 4,
   "metadata": {},
   "outputs": [],
   "source": [
    "# Set stopwords\n",
    "stopwords_set = set(stopwords.words(\"indonesian\"))"
   ]
  },
  {
   "cell_type": "code",
   "execution_count": 5,
   "metadata": {},
   "outputs": [],
   "source": [
    "# Preprocess text\n",
    "def preprocess_text(text):\n",
    "    text = text.lower()\n",
    "    text = re.sub(r'[^a-zA-Z\\s]', '', text)\n",
    "    text = ' '.join(filter(lambda word: word not in stopwords_set, text.split()))\n",
    "    return text\n",
    "\n",
    "df['review'] = df['review'].apply(preprocess_text)"
   ]
  },
  {
   "cell_type": "code",
   "execution_count": 10,
   "metadata": {},
   "outputs": [],
   "source": [
    "def get_sentiment(text):\n",
    "    # Create TextBlob object\n",
    "    analysis = TextBlob(text)\n",
    "    \n",
    "    # Get polarity score\n",
    "    polarity = analysis.sentiment.polarity\n",
    "    \n",
    "    # Classify sentiment based on polarity\n",
    "    if polarity > 0:\n",
    "        return 'positive'\n",
    "    elif polarity < 0:\n",
    "        return 'negative'\n",
    "    else:\n",
    "        return 'neutral'\n",
    "\n",
    "#Apply sentiment analysis to the review column\n",
    "df['sentiment'] = df['review'].apply(get_sentiment)"
   ]
  },
  {
   "cell_type": "code",
   "execution_count": null,
   "metadata": {},
   "outputs": [
    {
     "data": {
      "text/plain": [
       "sentiment\n",
       "neutral     7172\n",
       "positive    4809\n",
       "negative     600\n",
       "Name: count, dtype: int64"
      ]
     },
     "execution_count": 11,
     "metadata": {},
     "output_type": "execute_result"
    }
   ],
   "source": [
    "# Display distribution of sentiments\n",
    "df['sentiment'].value_counts()"
   ]
  },
  {
   "cell_type": "code",
   "execution_count": 13,
   "metadata": {},
   "outputs": [
    {
     "name": "stdout",
     "output_type": "stream",
     "text": [
      "\n",
      "Review: udah minggu pake honestly ngerasa bagus banget sempet bingung yg blue moon condong beli teksturnya g...\n",
      "Sentiment: positive\n",
      "\n",
      "Review: pakai claim nya melembabkan kulit wajah diperuntukan dry skin rasakan efeknya melembabkan pakai mala...\n",
      "Sentiment: positive\n",
      "\n",
      "Review: beli produk emang nyari moisturizer trus pas dateng suka banget sm packagingnya spatula trus lucu aj...\n",
      "Sentiment: positive\n",
      "\n",
      "Review: if you have dry skin i recommend you to use this product oily makenya tipis aja udah melembapkan ban...\n",
      "Sentiment: negative\n",
      "\n",
      "Review: pake gak ngelembabin muka ku banget rada gitu enak sih wanginya tp gak mengganggu wanginya bikin muk...\n",
      "Sentiment: neutral\n"
     ]
    }
   ],
   "source": [
    "# Display some examples to verify\n",
    "for index, row in df.head().iterrows():\n",
    "    print(f\"\\nReview: {row['review'][:100]}...\")\n",
    "    print(f\"Sentiment: {row['sentiment']}\")"
   ]
  },
  {
   "cell_type": "code",
   "execution_count": 15,
   "metadata": {},
   "outputs": [
    {
     "name": "stdout",
     "output_type": "stream",
     "text": [
      "Total Undersampling Neutral:  4591\n"
     ]
    }
   ],
   "source": [
    "# Down sampling positive data\n",
    "df_positive = df[df['sentiment'] == 'positive']\n",
    "df_negative = df[df['sentiment'] == 'negative']\n",
    "df_neutral  = df[df['sentiment'] == 'neutral']\n",
    "\n",
    "undersampling_neutral_count = abs(10_000 - (df_positive.shape[0] + df_negative.shape[0] + df_neutral.shape[0]))\n",
    "undersampling_neutral_count = df_neutral.shape[0] - undersampling_neutral_count\n",
    "print(\"Total Undersampling Neutral: \", undersampling_neutral_count)\n",
    "df_neutral = df_neutral.sample(undersampling_neutral_count)"
   ]
  },
  {
   "cell_type": "code",
   "execution_count": 16,
   "metadata": {},
   "outputs": [
    {
     "data": {
      "text/plain": [
       "sentiment\n",
       "positive    4809\n",
       "neutral     4591\n",
       "negative     600\n",
       "Name: count, dtype: int64"
      ]
     },
     "execution_count": 16,
     "metadata": {},
     "output_type": "execute_result"
    }
   ],
   "source": [
    "df = pd.concat([df_positive, df_negative, df_neutral], axis=0)\n",
    "df['sentiment'].value_counts()"
   ]
  },
  {
   "cell_type": "code",
   "execution_count": 19,
   "metadata": {},
   "outputs": [
    {
     "data": {
      "text/plain": [
       "sentiment\n",
       "positive    4809\n",
       "neutral     4591\n",
       "negative    4500\n",
       "Name: count, dtype: int64"
      ]
     },
     "execution_count": 19,
     "metadata": {},
     "output_type": "execute_result"
    }
   ],
   "source": [
    "# Upsample negative class\n",
    "df_negative_upsampled = resample(df_negative, \n",
    "                                replace=True,\n",
    "                                n_samples=4500,\n",
    "                                random_state=42)\n",
    "\n",
    "# Combine all the data back together\n",
    "df = pd.concat([df_positive, df_neutral, df_negative_upsampled])\n",
    "df['sentiment'].value_counts()"
   ]
  },
  {
   "cell_type": "code",
   "execution_count": 20,
   "metadata": {},
   "outputs": [],
   "source": [
    "df['processed_review'] = df['review'].copy()"
   ]
  },
  {
   "cell_type": "code",
   "execution_count": 25,
   "metadata": {},
   "outputs": [
    {
     "data": {
      "text/plain": [
       "count    13900.000000\n",
       "mean        27.732086\n",
       "std         15.853283\n",
       "min          0.000000\n",
       "25%         18.000000\n",
       "50%         23.000000\n",
       "75%         32.000000\n",
       "max        340.000000\n",
       "Name: processed_review, dtype: float64"
      ]
     },
     "execution_count": 25,
     "metadata": {},
     "output_type": "execute_result"
    }
   ],
   "source": [
    "# Check length sequences\n",
    "df['processed_review'].apply(lambda sent: len(sent.split())).describe()"
   ]
  },
  {
   "cell_type": "code",
   "execution_count": 29,
   "metadata": {},
   "outputs": [
    {
     "name": "stdout",
     "output_type": "stream",
     "text": [
      "\n",
      "Word frequencies across sentiments:\n",
      "          word  positive_freq  neutral_freq  negative_freq   total\n",
      "0        kulit           2893        2574.0         2528.0  7995.0\n",
      "1       banget           3115        2530.0         2304.0  7949.0\n",
      "2        toner           3220        2440.0         1999.0  7659.0\n",
      "3           ga           2160        1844.0         2050.0  6054.0\n",
      "4        bikin           1838        1644.0         1781.0  5263.0\n",
      "5         pake           1806        1697.0         1501.0  5004.0\n",
      "6           yg           1893        1374.0         1686.0  4953.0\n",
      "7        cocok           1343        1455.0         1588.0  4386.0\n",
      "8          nya           1385        1142.0         1446.0  3973.0\n",
      "9          sih           1325        1016.0         1100.0  3441.0\n",
      "10         gak           1109        1032.0         1265.0  3406.0\n",
      "11        muka           1163        1196.0          951.0  3310.0\n",
      "12       bagus            919        1153.0         1143.0  3215.0\n",
      "13        suka            966         963.0         1128.0  3057.0\n",
      "14  teksturnya            900         803.0         1256.0  2959.0\n",
      "15      produk            970         917.0          927.0  2814.0\n",
      "16       pakai            862         881.0          840.0  2583.0\n",
      "17         bgt            996         714.0          864.0  2574.0\n",
      "18         aja            925         758.0          867.0  2550.0\n",
      "19        skin           1039         298.0         1130.0  2467.0\n",
      "20        gitu            775         667.0          903.0  2345.0\n",
      "21        udah            859         737.0          618.0  2214.0\n",
      "22         pas            796         679.0          694.0  2169.0\n",
      "23        kalo            728         622.0          817.0  2167.0\n",
      "24        beli            759         724.0          628.0  2111.0\n",
      "25   sunscreen            731         545.0          809.0  2085.0\n",
      "26      kering            753         676.0          647.0  2076.0\n",
      "27       wajah            736         808.0          447.0  1991.0\n",
      "28        enak            603         718.0          633.0  1954.0\n",
      "29     jerawat            633         739.0          472.0  1844.0\n"
     ]
    }
   ],
   "source": [
    "# Create empty DataFrame to store word frequencies\n",
    "word_freq_df = pd.DataFrame()\n",
    "\n",
    "# Get word frequencies for each sentiment\n",
    "for sentiment in ['positive', 'neutral', 'negative']:\n",
    "    # Get all reviews for this sentiment\n",
    "    reviews = df[df['sentiment'] == sentiment]['processed_review']\n",
    "    \n",
    "    # Count word frequencies\n",
    "    word_counts = pd.Series(' '.join(reviews.astype(str)).lower().split()).value_counts()\n",
    "    \n",
    "    # Add to DataFrame\n",
    "    word_freq_df[f'{sentiment}_freq'] = word_counts\n",
    "\n",
    "# Fill NaN values with 0\n",
    "word_freq_df = word_freq_df.fillna(0)\n",
    "\n",
    "# Add total frequency column\n",
    "word_freq_df['total'] = word_freq_df.sum(axis=1)\n",
    "\n",
    "# Sort by total frequency\n",
    "word_freq_df = word_freq_df.sort_values('total', ascending=False)\n",
    "\n",
    "# Reset index to make word column\n",
    "word_freq_df = word_freq_df.reset_index().rename(columns={'index': 'word'})\n",
    "\n",
    "# Display first few rows to verify\n",
    "print(\"\\nWord frequencies across sentiments:\")\n",
    "print(word_freq_df.head(30))"
   ]
  },
  {
   "cell_type": "code",
   "execution_count": 30,
   "metadata": {},
   "outputs": [
    {
     "data": {
      "text/plain": [
       "'kulit, banget, toner, ga, bikin, pake, yg, cocok, nya, sih, gak, muka, bagus, suka, teksturnya, produk, pakai, bgt, aja, skin, gitu, udah, pas, kalo, beli, sunscreen, kering, wajah, enak, jerawat, lembab, bener, it, lumayan, ringan, ya, the, karna, coba, dipake, melembabkan, tp, thick, berminyak, efek, lengket, to, kulitku, oily, and, so, i, gampang, cepet, tekstur, kali, cair, my, this, repurchase, jd, langsung, moisturizer, ku, pemakaian, meresap, worth, harganya, dry, oke, make, sensitif, harga, kayak, aman, emang, hydrating, product, mudah, dipakai, makeup, cepat, skincare, for, up, nggak, benton, bha, a, base, ngga, deh, abis, essence, super, kaya, hasilnya, berasa, menyerap, packaging, but, botol, packagingnya, si, tuh, nyaman, acne, menurutku, gel, kental, exfo, is, texture, jg, kandungan, moist, bruntusan, love, exfoliating, far, udh, kulitnya, glowing, murah, produknya, keliatan, habis, wanginya, krn, baunya, tonernya, texturenya, kerasa, no, isinya, whitecast, sampe, aloe, salah, breakout, air, watery, efeknya, cerah, good, its, ml, nyoba, pokoknya, kapas, dikulit, wardah, apply, review, perih, beneran, halus, of, tipe, komedo, bau, spf, affordable, jerawatan, cuman, tetep, spray, cobain, kusam, trus, pump, wangi, mild, white, diskon, pagi, nyerap, gaada, mist, dimuka, seger, aneh, wajahku, berat, muncul, overall, bangett, mencerahkan, susah, sensitive, lembut, not, mukaku, dikit, warna, beruntusan, jujur, kenyal, kombinasi, calming, lg, greasy, yaa, bekas, terjangkau, tinggal, in, malam, sm, nyerep, nyobain, biar, gt, semoga, berjerawat, bersih, tau, dapet, best, minggu, membantu, awet, utk, x, normal, buy, ngelembabin, kadang, cast, parah, prone, gentle, after, hehe, menghidrasi, cari, im, on, blend, ingredients, pori, kemerahan, cuci, cream, pakenya, seminggu, butuh, daily, sebenernya, sesuai, yul, kotoran, hasil, liat, tone, sehat, putih, mata, engga, with, ngelembapin, first, klo, efektif, out, orang, sayangnya, bangettt, ilang, pyunkang, gue, benerbener, ngerasa, emg, trs, ngaruh, sociolla, nempel, serum, ukuran, sebagus, sayang, minyak, try, that, size, mahal, gimana, semprot, jenis, huhu, too, malem, really, cenderung, gede, iritasi, like, rutin, mengandung, recommended, berkurang, one, rada, have, very, bantu, takut, originote, me, gatau, minyakan, use, cinta, you, panas, botolnya, jugaa, kebanyakan, perubahan, hidung, simple, merah, light, minus, an, ganti, melembapkan, at, penasaran, pricey, fragrance, terhidrasi, kemasan, tangan, layer, ok, fresh, ss, kentel, pengen, ngefek, diwajah, dibawa, kayanya, eh, works, exfoliate, sempet, pakainya, mengurangi, type, sorry, as, water, kena, kasih, face, jar, ngilangin, brand, all, ngebantu, diblend, gw, baguss, finishnya, dr, lembap, kayaknya, time, segi, makenya, iseng, rice, barrier, wkwk, bahan, sisa, aromanya, from, kemasannya, acid, kyk, will, warnanya, jdi, seneng, varian, purging, tpi, holy, apapun, dicoba, heavy, dibanding, lgsg, hilang, grail, travel, jarang, ganggu, korea, temen, finish, recommend, doang, diaplikasikan, praktis, plus, menimbulkan, sinar, alkohol, bgtt, rose, price, bening, dewy, adem, hehehe, uda, kek, ngasih, lucu, over, signifikan, matahari, alhamdulillah, menyengat, much, berbau, sensasi, double, tidur, snail, isi, gabikin, using, nemu, luv, nih, gini, gtu, ampuh, loh, tahan, hydrate, kantong, yaaa, aroma, inii, bingung, segar, nyari, effect, uv, dingin, kandungannya, dgn, sebulan, mengganggu, bulanan, sehari, wajib, be, bangetttt, guys, segitu, meredakan, formulanya, promo, melindungi, gada, krna, reapply, kondisi, abu, bilang, mati, sukaa, which, ever, cleansing, pemula, bad, g, purchase, beda, jerawatnya, friendly, mukanya, terbaik, area, belom, moisturizing, seharian, pokonya, prep, jatuh, macem, nampol, dikulitku, wow, just, game, paginya, sihh, redness, well, alcohol, or, nyerapnya, fine, ramah, btw, maybe, creamy, dipakenya, kaget, gituu, break, tertarik, yes, nyerepnya, diaku, n, higienis, ngangkat, kemana, used, segini, dont, sticky, hate, spatula, pa, definitely, kempes, vera, hemat, soothing, oil, nyengat, been, berharap, rekomen, setelahnya, seharihari, next, combination, tap, socobox, even, has, yah, pdhl, bangun, your, d, blue, hidrasi, aha, duper, kl, menenangkan, meresapnya, memiliki, mulus, blm, bunga, long, reaksi, menghilangkan, dah, akuu, moisture, dijadiin, jam, favorit, minusnya, exfoliator, lokal, merk, bgttt, basah, say, better, tumbuh, chemical, cekit, sukaaa, sel, asli, neko, mengangkat, lightweight, skrg, aplikasiin, ninggalin, sumpah, hihi, ill, tube, hati, membaik, aqua, doesnt, matte, biru, pelembab, sunscreennya, siang, ruangan, nge, bedak, because, bkin, free, rangkaian, get, besok, less, bngt, can, berkali, easy, lembabnya, memudar, hahaha, feel, memperbaiki, ragu, beauty, mantul, if, also, hidrasinya, combi, ive, dipakein, bagusnya, tumpah, masuk, namanya, gabisa, kecintaan, besoknya, sabar, day, plump, ditambah, plumpy, kalinya, care, iya, little, shield, other, least, rekomendasi, top, than, go, diaplikasiin, mending, still, teksturenya, auto, mingguan, peeling, rumah, fungal, retinol, kualitas, kemarin, claim, kuat, full, think, only, bhanya, bawa, calm, money, brightening, step, jari, ngurangin, mantap, anessa, poripori, pertamaku, stop, okay, baca, bo, feels, ttp, before, bermasalah, pipi, any, pumpnya, eksfoliasi, semenjak, klaimnya, elsheskin, cm, tebel, gara, facial, rasain, dehidrasi, haha, set, bit, sempurna, pke, lbh, mawar, bentuknya, kusem, nacific, negatif, haple, pink, cosrx, must, ajaa, layering, keren, pastinya, aktif, u, formula, ingredientsnya, gerah, mencoba, about, rb, cerahan, tutupnya, duh, anak, does, jidat, cpt, pyungkang, pemakaiannya, iniii, gatel, b, lotion, plastik, basic, favorite, mendingan, kompres, dpt, apaapa, sumuk, powder, fungsinya, obat, hydrated, fav, lihat, aga, gemes, okee, berwarna, meninggalkan, primer, k, blackhead, kesan, kuning, nyesel, dalemnya, tutup, strong, belinya, suncreen, mikir, moon, manfaat, sedih, soft, lembabin, teksture, give, claimnya, nyatu, lupa, nice, helps, wash, minimal, fungsi, diserap, samsek, rendah, am, extract, kalem, spfnya, ukurannya, timbul, ditimpa, angkat, c, boros, dagu, perlahan, membersihkan, bentuk, when, ngeluarin, ribet, cause, great, diapply, kasar, more, ngerasain, lebay, daya, mengecil, would, krim, work, pelajar, spraynya, versi, jerawatku, klairs, pakek, glow, order, ter, orangorang, harian, masker, ketarik, menit, dalem, physical, dg, sii, beras, buka, alami, encer, skintype, ny, spot, saking, melembabkannya, glowy, bagusss, tebal, tenang, was, always, tipis, tapii, mengatasi, maksimal, keangkat, ni, ituu, hyaluronic, bottle, nyegerin, kelembapan, non, st, routine, rekomendasiin, nunggu, bruntus, penggunaan, huhuhu, dibagian, gua, hydratingnya, some, becek, pecah, menyegarkan, kelopak, active, quite, rusak, pribadi, skingame, enakk, gasuka, kelembaban, masi, nyangka, salicylic, wajahnya, barengan, nama, sadly, tetes, memakai, case, night, sembuh, since, sure, nimbulin, pembelian, tekturnya, sebentar, mini, patches, mayan, nenangin, subtle, nambah, mugwort, tergolong, expect, thanks, bunganya, meradang, wkwkwk, bnr, makes, cantik, secinta, job, aloenya, protection, t, mantep, smooth, matang, cakep, pao, rewel, natural, ngerti, sun, licin, keracunan, scent, terserap, soco, ngebersihin, pelan, buruk, moistnya, mah, products, jadiin, whitecase, jarte, menjaga, pedih, preloved, kaca, are, kenyel, memutuskan, aplikasikan, ngeset, samping, sawo, pakein, ac, combine, pengalaman, lho, males, kecewa, holygrail, expensive, oh, hype, bawang, merata, aktivitas, untung, dehh, upnya, bareng, dikantong, gradakan, menarik, outdoor, bbrp, bahannya, satunya, menyerapnya, habisnya, happy, bought, temenku, thank, klaim, badan, milky, tried, keras, what, intinya, andalan, pilih, notice, daerah, gapapa, essencenya, sesuka, how, feeling, fix, nangis, way, smpe, jga, enaknya, samar, bersihin, mask, paparan, store, comedogenic, dark, reviewnya, permukaan, sma, juara, diratakan, sengaja, badak, stock, sekian, moisturizernya, alhasil, again, keringetan, diwajahku, berkalikali, dll, penyelamat, memudarkan, cooling, semingguan, dipakainya, ko, recomend, nyaa, konsistensinya, ruas, sale, kualitasnya, ketemu, creamnya, gapernah, bs, taunya, dokter, dibawah, semuka, hitam, mois, berani, impression, cover, second, dijadikan, sukak, whitehead, terangkat, recomended, untungnya, kesekian, by, dibilang, dehydrated, luntur, tho, pilling, dann, gaterlalu, gausah, pemilik, disemprot, nahan, hatihati, kudu, mateng, skip, gila, anehaneh, kebutuhan, zone, now, dahi, amazing, puas, dimana, wasnt, keluarin, deket, pegang, texturnya, hydra, jangka, kenceng, treatment, ordinary, loose, kokoh, sakit, safe, org, ngempesin, pores, box, jual, travelling, merawat, though, surprisingly, rajin, negative, ketiga, sukanya, lagii, kilang, tricky, alus, komedoan, emng, unik, dilayer, green, tdk, dimata, jugaaa, dear, ngebuat, pikir, pyunkangyul, sehabis, real, repurchased, keknya, lengkap, mencerahkannya, share, dibuka, jgn, traveling, annoying, dlu, gaperlu, know, ph, pindah, hydration, keep, could, berbeda, uvb, effectnya, experience, minyaknya, ekspektasi, vitamin, abisnya, uva, aplikasi, alias, sky, consistency, extra, wudhu, pretty, byk, ngehydrate, ngelupas, centella, head, sblm, serapnya, mosturizer, glass, menemukan, merasakan, tingling, cairannya, smell, see, sebum, chery, krimnya, lepas, dri, tipenya, point, lebi, runny, timpa, dibandingkan, value, new, week, mencegah, screen, tzone, along, drying, sunblock, ama, kekurangannya, perfect, selebihnya, calendula, tua, keringnya, maaf, serumnya, sbnrnya, kerontang, berefek, bangeet, literally, mama, tuang, ambil, fokus, alpha, bnyk, kemaren, diluar, refresh, cocokan, restock, oiya, kirain, afternya, sulit, manfaatnya, gelap, minim, harinya, sebotol, sooo, goes, whiteheads, refreshing, look, based, discount, significant, random, personally, thats, coklat, big, niacinamide, penggunaannya, perbedaan, bland, hydrates, result, bekasnya, body, exfoliasi, lgi, main, maju, dikasih, mahasiswa, produksi, keset, kesukaan, tipikal, beraktivitas, murce, enough, slightly, bocor, cobacoba, makan, perlindungannya, khas, keberapa, soon, buru, diratain, ratain, cmn, skinprep, plusnya, contains, kombi, there, pm, transparan, indonesia, sekalii, berpengaruh, blackheads, paonya, sukaaaa, ngeredain, everyday, kucoba, want, pencet, merahmerah, alkoholnya, instant, luvv, disc, langganan, ber, jepang, mundur, every, mendem, menggunakannya, siih, cotton, most, belang, gatal, kontrol, bangeeet, dimukaku, kesayangan, socoboxxwardah, ingredient, sat, jatohnya, somehow, healthy, kinclong, drpd, packingnya, semi, viral, had, another, actually, berlebih, saranin, tambahan, okelah, sebulanan, heran, mengontrol, tapiii, help, packing, leaves, pekan, enteng, life, aplikator, cap, under, irit, aplikasinya, influencer, mean, high, sensation, milih, giving, sejujurnya, ibuku, berhasil, need, ngeresap, bedanya, disarankan, blind, bagussss, gmn, tiktok, suprisingly, times, parfum, leher, dead, metode, dibeli, nekoneko, csman, dempul, lahh, pilihan, effective, buatku, trlalu, mawarnya, menyebabkan, luka, pelembap, higenis, rosenya, rempah, months, macemmacem, bgus, memilih, yaudah, geser, semprotannya, lovee, arah, bln, sdh, harsh, proses, nga, alergi, instan, keringg, dikompres, stlh, alhamdulilah, cute, mix, vlogger, mencari, terlindungi, pol, dirumah, anti, hybrid, avoskin, kemanamana, sisasisa, knp, proteksinya, tester, ditengah, pengaplikasian, segede, re, sebanding, simpel, prefer, hijau, sebelah, hormonal, pokoknyaaa, menyatu, student, habisin, benarbenar, numbuh, diblendnya, dilengkapi, essense, got, dipegang, bee, gunain, keliatannya, paraben, harum, kepo, dateng, hihihi, khusus, ceramide, noda, garagara, nget, gaenak, mengecilkan, mengalami, cekat, kaki, usap, serangkaian, elshe, biarpun, tubenya, ngabisin, elegan, side, hidungku, highly, ngak, khawatir, skincarean, month, jugaaaa, item, airless, problem, terkontaminasi, weeks, black, takes, hrs, pudar, uang, padat, mostly, berfungsi, ngeliat, akuuu, gapake, sizenya, doi, ad, turns, lapisan, setahun, teman, rasakan, csm, longsor, nglembabin, dibaurkan, ketauan, whitecastnya, bner, dikocok, batu, absolutely, selesai, paket, gacocok, denger, ngelembab, balance, into, parfumnya, almost, exfoliation, mesti, gituuu, ngeblendnya, nyerahin, few, maret, cuaca, keluarnya, saran, berhenti, ngeresep, made, aloevera, memudahkan, special, definisi, kombinasiku, spt, sekaliii, gagal, residu, w, gives, serius, luvvv, menempel, label, hidrating, waterbased, vit, tampilan, jadikan, sold, why, ngeringin, mereda, ditangan, asam, ampe, umat, detik, gk, ngasi, bet, teksturnyaa, worthed, wear, standar, poll, cocoknya, muda, patch, theres, digabung, mudahan, makeover, awalawal, working, sukaaaaa, kecilnya, nemuin, dalamnya, favourite, morning, beruntus, kadar, cant, bertekstur, omg, leave, toko, veranya, perlindungan, walopun, loveee, tahap, sbg, ngehidrasi, milk, nyumbat, cekitcekit, memuaskan, yesss, floral, teskturnya, nekat, essential, cleanser, suami, lamalama, spatulanya, repot, pad, ajaib, relationship, package, bulky, although, bintik, amanaman, diatas, lsg, kukit, fragrancenya, model, teringan, leaf, back, hahahaha, quickly, bgtttt, whitening, diliat, barang, excited, people, terbiasa, touch, chance, penolong, bebas, ditumpuk, hamil, moisturize, them, penyerapan, skeptis, debu, she, dituang, gas, makeupnya, perawatan, lembapin, mucin, melt, castnya, ngecilin, effectiveness, barbadensis, wkt, cocokk, down, perubahannya, without, bangettttt, pengiriman, kecilkecil, berlayer, bru, types, productnya, mewah, jdnya, reviews, toning, sihhh, kulkas, dew, lembapnya, kagak, tas, sejuta, idung, dibarengin, dikapas, skg, adikku, wadahnya, punyaku, terkenal, leleh, pads, barier, murahh, soo, efektifitas, adek, dlm, dapetin, course, ikutan, favoritku, kind, meratakan, rekomended, gamau, looks, worthit, imut, who, wishlist, kakak, same, semaleman, their, bruntusanku, mengecewakan, tepuk, insecure, keluhan, do, absorb, kupake, dibandingin, berbulan, susu, mencuci, bertahan, ketimbang, supple, slow, thankyou, yuk, tementemen, propolis, content, wkwkw, nonton, cium, yaaaaa, rambut, wangian, shopee, kinda, wa, kemuka, telapak, anything, rugi, tergantung, hbs, flawless, kusuka, aplikatornya, blendable, effort, should, absorbs, da, diragukan, flip, butiran, sisi, feelnya, kertas, ehehe, y, cons, jelek, foto, aktifnya, bentukannya, kulut, sblmnya, buruburu, tbtb, setting, faktor, pandemi, explore, meleleh, ud, nyium, dibersihkan, soso, mager, such, tu, depannya, beralih, thing, risih, secretion, sociola, improves, ilangin, seri, kalah, pengganti, bismillah, remaja, kulitt, pingin, lembabb, barriernya, eksfo, harumnya, korean, murmer, nothing, usual, lot, hygienic, jaga, ttep, makasih, nyebar, tea, taruh, lengketnya, isengiseng, sabun, perkenalan, enakkk, shiny, flash, kerja, open, series, cocokkk, fyi, lumanyan, dijual, secocok, gosong, isnt, la, kebeli, percaya, terbuat, ky, direkomendasikan, juaranya, waw, lingkungan, washnya, terima, hilangin, banyakk, arbutin, hits, filtrate, sgt, serasa, rd, utamanya, urusan, memenuhi, many, her, arbutinnya, mempan, mengembalikan, muncrat, nerima, nyembuhin, forehead, kegiatan, mulu, gpp, kecium, acidnya, gonta, gimanagimana, facewash, mengelupas, slim, ekstra, menang, saver, lasting, list, seringsering, tt, keringku, wajar, bersahabat, pulang, habishabis, menghilang, tahunan, sunscreens, couple, sadar, clogging, voucher, crack, titik, aj, aktifitas, kyknya, stelah, suitable, range, pekat, fw, meriah, daaan, ituuu, test, original, emina, bandel, didnt, offline, brighteningnya, minimalist, instagram, unfortunately, hygiene, nilai, cica, secair, petal, kimia, ehh, eye, inget, triple, blendnya, disaat, smoothing, tonertoner, dispray, bahagia, rich, holly, dibaurin, kesannya, nulis, otw, ilangnya, gosok, rekom, p, maintain, slalu, diraguin, milia, bnget, parfume, repeat, ato, lendir, rapet, akibat, thin, okeee, berac, teksturny, beres, utama, ready, mmg, combo, yet, itself, permasalahan, sensitifku, poin, mandi, ribuan, overclaim, kuliat, bayi, minimalis, looking, menyamarkan, brutusan, comfort, nampak, unscented, dipakek, getting, hmm, kesukaanku, perbedaannya, being, lid, berekspektasi, off, end, tajam, okey, online, berubah, due, skali, changes, nyisa, part, thicker, oren, terpenting, finishingnya, paham, padet, kelembapannya, tmn, enakan, purchased, jafi, seringan, gonna, brightens, loves, sensi, nggk, konsentrasi, alumunium, taro, mba, lanjutin, rid, diusap, asiatica, tunggu, probably, bentar, jalan, direkomendasiin, kecuali, bosen, hyalucera, last, bauan, kliatan, gimanaa, kempesin, did, makai, ntar, drastis, senang, kenal, quality, brighter, cz, however, version, skrng, musti, belanja, website, pengaruh, eksfoliasinya, mencobanya, merek, honestly, micellar, found, barengin, sliweran, aloeveranya, years, bagusssss, pricy, pure, bcs, kotor, beliin, vegan, retinolnya, irritating, finished, trying, banding, wanita, smells, toners, local, rencana, we, konsumen, improved, teratur, bangeettt, line, kencang, huhuuu, worry, technology, kota, kukitku, pimple, rawan, ngelembabinnya, kalai, then, niacin, packging, dam, bright, tektur, mubazir, irritated, pdhal, guess, jodoh, fall, fan, performa, woi, slight, kesini, xixixi, slowly, unexpected, pesan, halo, besttt, jatuhnya, rapi, rekomendasikan, tbh, kenyall, underestimate, sister, liquid, while, pk, menyebar, tergiur, heboh, complexion, sebenrnya, kebantu, cairan, perbaikin, bersihan, redain, especially, pergi, deskripsi, merekomendasikan, maskeran, ringkih, diterima, lebab, sangka, typical, ig, trial, acneprone, th, polll, meningkatkan, stay, besarnya, berguna, barangnya, dipencet, mnrt, scoop, efektifnya, mukaa, block, cerahin, sunscreenya, bgs, terbilang, kapasnya, diambil, sangatttt, fikir, banyakkk, opinion, nyata, matter, elegant, dikasi, kepikiran, kasi, wkwkwkw, konsistensi, malang, kegunaan, diteken, please, kedepannya, cell, kmu, disesuaikan, sunscren, foundation, seenak, uk, yabg, glad, kurleb, terkelupas, nyetok, lumer, thankyouu, imo, ditepuk, ajak, anymore, penyesuaian, dioles, beliau, murahan, berlayerlayer, meninggal, kemakan, mengeksfoliasi, tonerr, khasiatnya, sleeping, e, either, bermunculan, fyp, minutes, gets, kebakar, ngeblend, tingkat, they, plum, awett, improve, suits, bali, tipistipis, tolong, polusi, bengkak, dongg, ngesetnya, cakey, waterproof, ori, ternyaman, solid, kaum, ngeresapnya, merem, mengkilap, halal, kardus, bangeett, efektivitas, harganyaa, yaaaa, ahh, small, gelnya, amin, ditepuktepuk, menganggu, launching, keringet, contain, ngelindungin, netral, never, improvement, reda, bb, adain, huhuu, moiz, secepet, menguras, halangan, tekturenya, suamiku, pecinta, function, artificial, kambuh, racun, disentuh, hm, flek, yahh, squeeze, terang, dasar, tonerku, claims, control, komedoku, kak, biyu, iklan, cushion, fast, mudar, yay, struggling, sungguh, konsisten, ekspektasiku, proteksi, ultimate, ngerasanya, pokoknyaa, spesial, didiemin, may, youtube, anaknya, dikirim, star, stok, selingan, beginner, wewangian, terkena, sekental, penuh, honest, pouch, repurches, kondisinya, finally, teks, soothe, baguuus, bsa, dirasain, pertamanya, formulasi, finishing, ngeganggu, dramatic, variannya, simply, snailnya, melembutkan, kokk, gold, dl, nyampe, tepuktepuk, menstruasi, tok, ajaaa, cairrr, siii, gaa, empties, doctor, herbal, ditaro, mngkin, cas, noncomedogenic, terhempas, plis, ringannn, terkesan, scr, foundie, dunia, ngontrol, ahabha, gils, soooo, bantal, sesi, pokok, berhubung, bisaa, budget, banjir, patchy, ntah, catching, glowingnya, mgkin, cumaa, totally, days, soothes, orange, acnenya, mu, dikemas, sore, mgkn, clean, ulasan, ngatasin, efect, gaj, kesimpulan, terbarunya, seriously, problems, tulisan, worse, ditimbulkan, menutrisi, baget, yaak, dompet, lo, ngecover, efisien, method, wktu, each, takutnya, video, telaten, spots, might, omgg, prosesnya, hahah, seling, terkadang, kehitung, find, kepake, dinginnya, blom, kuu, inituh, mengaplikasikannya, dipagi, pantai, heheh, ditap, right, menghabiskan, stlah, pakee, akuuuu, lipatan, bumpy, absorbnya, effects, kosong, bangt, sampek, afraid, diawal, aslinya, dm, reformulasi, nenek, lan, nanya, selembab, perjalanan, tinted, salut, perlahanlahan, exfoliant, magic, mistnya, mamaku, sales, aplikasiinnya, adaptasi, hard, storenya, spesialis, lumayaann, beradaptasi, mengeluarkan, available, tersumbat, ribu, bernama, lapis, needs, keana, loveeee, dimukaa, efektivitasnya, beruntung, samasekali, dibantu, cmiiw, terharu, silcot, mutusin, couldnt, negatifnya, menolong, cest, kekulit, formulas, melembapkannya, easily, mind, kupakai, mo, exp, indeed, jaman, mnrtku, sheet, musim, keterangannya, fungsional, sekedar, cucok, potongan, ekstrak, those, apk, berekspetasi, cells, segerr, sejuk, gegara, stick, mendadak, sensationnya, memerah, maklum, inj, against, tonernyaaaaa, combinasi, keliatann, du, memaksimalkan, sekilas, rather, breakouts, entire, tonner, bay, clay, seharga, adik, pemakain, lucuuu, gausa, jni, melted, dimiringin, tibatiba, kulittt, ayo, terfavorit, manamana, wet, takaran, pdahal, yaampun, textur, official, sample, bangus, were, chat, gedean, kerjanya, gitasav, approved, smoga, waternya, kinds, copot, juli, ingridients, simpen, bahanbahan, menerima, already, pokonyaa, jinot, laser, ampun, applying, gais, daann, terbaru, serap, kataku, xixi, dikiit, pakeknya, berangsur, slama, pusing, bangettapi, trnyata, semarang, mengenal, td, preferensi, produkproduk, def, hehee, biore, bintang, kawasan, multifungsi, komedonya, round, lambat, laneige, hormon, lol, sekusam, cek, finisihnya, bibir, abiss, tanda, remove, noticed, applynya, pengguna, resap, muter, juta, pikiran, ndak, fullsize, sepaket, cheap, didalamnya, comes, donk, ala, convenient, semprotan, absorbed, having, kurangnya, usage, selang, didalam, sunburn, disaranin, kemampuan, tgl, rentan, selamat, feelsnya, liburan, apalgi, bintikbintik, semalaman, dehhh, berbentuk, calmingnya, usually, wkwkwkwk, ngelembapinnya, kategori, plastic, whenever, blg, dipakenyaa, positive, terfavorite, hehehehe, pastiin, separah, pd, clear, program, kaka, ngarepin, note, key, ceratinol, nongol, packaginya, kakadu, taoi, deff, pemulihan, kalii, something, enakeun, bagusbagus, terbukti, perihnya, radang, bertahap, menghaluskan, besokannya, kesimpulannya, glowingg, moisturizingnya, diemin, habisss, jrwt, grgr, pms, kurangi, saudara, cintaa, lakukan, complex, samaa, gedegede, meresep, terkontrol, malemnya, harii, haluss, meleber, duluu, ohyaaa, sifatnya, geng, bruntusannya, happen, occlusive, answer, pengirimannya, lets, iniiii, mobil, bangga, transfer, kerennya, taptap, baubau, dasarnya, drynormal, seawet, concern, paki, rp, isian, exfonya, impulsif, airy, kluar, mumpung, quick, saranku, piling, kagett, menyesal, ngaruhnya, ngecewain, terimakasih, moisturizes, minum, kelembabannya, tertinggal, digabungkan, terpapar, fragrances, purgingbreakout, satset, repurchasing, health, cobaa, low, bkn, drysensitive, shooting, komposisinya, daki, usenya, memperkuat, tipical, penyerapannya, dipakee, pengaplikasiannya, year, stinging, jamur, baguuuss, dna, doong, vanilla, allah, disekitar, menggangu, going, kaliii, jelasinnya, penny, slimy, masuknya, dicari, tersisa, benerin, aluss, valuenya, keunggulannya, bertahuntahun, ajasih, canggih, cb, longer, terjaga, single, memutihkan, dikurangi, brings, nyerepnyaa, iki, berminya, sometimes, ketagihan, santai, dy, dn, tacky, kehabisan, ccok, konsentrasinya, bermanfaat, menyembuhkan, jeda, lavender, karen, penuaan, scar, youre, during, our, hope, jatoh, keserap, itt, pumps, forget, nominasikan, lamaaaa, perasaan, yess, rlly, hiks, update, kapok, wise, makeupan, grand, considering, beraroma, sprayer, moisturising, exflo, deal, flower, brighten, acnes, sebening, bangeeettt, tanggal, scars, tapiiii, gabakal, pimples, enaaak, moisturized, glycerin, banyakbanyak, kusammm, manis, baruu, bring, wort, petals, ternyataa, napa, thought, bagiku, toneupnya, ijo, klinik, minimize, anakku, wkw, kmrn, kombo, ofc, irritation, seen, cleanse, ngeratain, bepergian, nonacnegenic, check, sisain, pyukangyul, teracuni, produknyaa, syukur, modelan, sekolah, campuran, maksudnya, ingredientnya, co, cus, skincarisma, preparation, winter, brp, hasilnyaa, pinggiran, reccomended, komposisi, agustus, xoxo, wlwpun, bat, gratis, ditunggu, ngilang, sisanya, dibarengi, compact, oilnya, typicalnya, inflamasi, bulu, berminyakk, parts, matinya, olahraga, babies, rapih, lucuu, loo, promonya, purpose, nor, berkat, ngerusak, uneven, kocok, guyss, softer, essencetoner, scentnya, krg, berulang, ituuuu, sukakkk, ekonomis, bestie, efektifitasnya, parahh, cocokcocok, pindahin, ngatasi, unyu, ngg, gaakan, siput, these, tree, meminimalisir, panasan, pr, jugak, ditutupin, skinbarrier, ckup, kece, ah, terusss, user, boom, booming, ttg, munculnya, capek, beruntusannya, hbis, boxnya, thiss, tempatnya, heads, gahabis, gr, lock, mineral, lgsung, suddenly, kekuningan, wish, karnaa, ha, setahunan, toneup, tandatanda, rekomend, dapatkan, akalin, poriporiku, teksurnya, pgn, numpuk, senengnya, berusaha, maksain, bf, lohh, dicampur, ges, tercocok, salahnya, kedepan, messy, berkualitas, semalam, dilanda, falling, lamaa, gaberasa, skintypenya, overal, kiri, klop, disappointed, kanan, manjur, smua, dibersihin, mantull, lepek, prices, teraman, ringann, pyukang, standard, tersedia, cowo, cumuk, idea, dirasa, scrub, buang, dannn, ih, casenya, berpaling, innisfree, soalny, woy, jawabannya, term, sukakk, beta, barrierku, jarak, gengges, ngeletek, diracunin, shop, words, prepping, tonerrr, dibuang, skintone, balas, minat, sedihnya, kalangan, girlie, mohon, s, hhe, berbahan, teruss, cool, konsul, nuang, normaloily, compare, stress, around, cerahnya, instead, two, believe, dupe, nutrisi, gangerti, tahapan, prepare, ruang, stars, ongkir, perbaiki, berkomedo, syg, spectrum, sensitiv, pack, booster, akal, anyway, kecintaanku, perskincarean, amount, buyy, fashion, menangkal, kesempatan, relatif, lil, once, untk, berenang, nihh, lovely, mempermudah, sekaliiii, duanya, lamaaa, ditaptap, put, upgrade, kekurangan, seller, away, fragnance, weight, kotorannya, ohiya, lab, design, dulunya, gong, reason, satusatunya, diskonn, memperparah, defense, embel, dijamin, deg, idk, hai, soothingnya, reduce, kelupas, urban, hmmm, sejenis, menyenangkan, kelebihannya, eksfoliating, insyaallah, effortless, keduaku, ringaan, de, bersisik, gag, mens, haid, tempelin, pro, variant, segel, newbie, bund, root, comfortable, fotonya, matanya, kuliah, fave, minimum, rate, nd, berdasarkan, pntg, gift, baguus, retouch, mungil, eksfoliate, gabuat, putting, ulang, dimalam, airnya, abisin, swipe, jujurly, ketara, sekelas, relax, calon, radiant, dimanamana, mukaaa, sulfur, cowok, moisturaizer, sodium, dikitdikit, baguusss, alternatif, membandel, bleber, sumpahh, iyaa, gone, dibalik, calendulanya, sangatt, turned, riview, comby, aging, dapetnya, claimed, narik, khasiat, period, bangeeeet, betaglucan, ur, nose, iritasinya, jadii, hair, meresapp, yaah, gently, nagih, merahnya, petalnya, nude, ngomong, fits, hinyai, radiasi, bunch, presentasenya, pha, boong, wont, masknya, three, everytime, exfotoner, berkegiatan, kya, jrawat, done, results, applied, checkout, keesokan, umur, pore, leaving, elastisitas, searching, melembab, gengs, lucky, situ, fantastic, ps, deep, kadangkadang, dianjurkan, kelebihan, important, dilanjut, senyaman, lngsung, caricari, cling, bawahnya, gellike, struggle, gaban, shimmering, jenisnya, semprotsemprot, condition, hyaluronate, nutupin, bonus, cintaaa, havent, efficient, mencolok, colorblend, kekentalan, cairr, etc, safety, membuatnya, kantor, taun, elshskin, bangeeeeet, kepepet, hempas, menitan, currently, disociolla, wanna, nyemprot, choice, foam, sukakkkk, move, formulasinya, activities, menyesuaikan, bgttttt, kemerahannya, berkurangg, ngincer, duit, beleber, lembutt, terusan, ngrasa, melebabkan, minggat, peradangan, cegah, sederhana, shake, gabegitu, dosa, bolak, tersamarkan, lohhh, repuchase, skincareku, aaa, nambahin, spread, aaaaa, nyemprotnya, bbrpa, residue, dull, ngamuk, balanced, beraktifitas, bersifat, buanget, lhoo, barunya, dipindah, mbak, kolagen, terganggu, yak, nyobanyoba, repurchasee, solusi, coz, beruntusanku, sulfurnya, ngurangi, dikombinasiin, melembabkann, expo, indo, dikeluarin, kempesnya, urutan, mudarin, bnyak, menambah, packagingnyaa, kebuang, gajadi, persentase, kalengkaleng, goto, rban, ngehabisin, irritate, bentonnya, niat, tesktur, alasan, ngeh, gaes, penyebab, moisturiser, mehong, kotak, kecoklatan, clekit, sugesti, andalanku, felt, expectations, pls, makek, pale, inovasi, hihii, mari, loved, skintific, didalemnya, gilaaa, belii, resiko, jerawatt, repurchese, bouncy, repair, drama, berbulanbulan, twitter, pesen, pewangi, nggaa, balsem, rame, application, teratasi, ingridientsnya, diset, membutuhkan, pkoknya, putuskan, heheheh, sengaruh, brasa, thx, balasan, everyone, testurnya, sejatuh, deeh, murahhh, bestt, terawat, bohong, hands, hr, senyawa, cahaya, bsk, iniiiii, gentong, gmna, pemakaianku, br, fact, powerskin, lidah, coverage, superr, kelain, foundi, uniknya, masingmasing, pendapat, dicium, else, banyaknya, usia, patut, aamiin, immediately, kynya, pipiku, timbulnya, nungguin, tepok, kenapakenapa, singkat, perfume, keseringan, ago, dibutuhkan, desainnya, market, loreal, terik, percobaan, daan, terbagus, lbih, komplit, menghidrasinya, bnrn, dijidat, sekalinya, broad, pacar, ev, suruh, berminat, skinkeran, harapan, tulisannya, hint, baiknya, uvauvb, malamnya, kupikir, templokin, semprotin, lubangnya, berasanya, mengempes, bangettttttt, dipipi, kit, keputihan, sampel, bngtt, berbusa, terhitung, bacabaca, excellent, where, oles, menyeimbangkan, media, dipump, mataku, channel, memakainya, spritz, rahang, agent, mi, kang, pelanpelan, agk, herb, ngeclaim, xd, daun, ragukan, sukses, bereaksi, seriusan, positif, bgd, aquafused, kompresin, bnrbnr, seimbang, aka, membasmi, let, progress, ternyta, becomes, ngaca, trust, iritasii, ditutup, melawan, sociollaa, abuabu, enjoy, fruit, impressed, broke, pokonyaaa, save, keringatan, lmyan, udara, ittt, skli, optimal, moga, pencarian, pcs, hidup, yangg, panik, diaa, ka, baurin, pyungkangyul, lmyn, cendrung, controlnya, berenti, menerus, kann, tips, decided, ngecalming, kedalam, berasnya, kuuu, gabung, keringat, v, layers, ngeresepnya, tercium, spoon, tuhh, clogged, date, expired, zat, hrga, purgingnya, tryy, terbuka, ujung, ngikutin, temukan, macet, option, mempercepat, ngembaliin, friend, mine, sprayernya, fragrancefree, helpful, prodak, sepenuhnya, ngelindungi, oils, semurah, musthave, biasany, shea, ditekan, nimbul, diseluruh, siihh, sedikitt, nyekit, take, goood, parahnya, perhatiin, rephurcase, bgtbgt, ulir, lov, makainya, enaak, ngerubah, testernya, keringin, setaun, luvvvv, healty, melibatkan, ngira, aaaa, negeri, diganti, kyak, ngademin, baunyaa, butter, setia, selera, corona, cintaaaa, menawarkan, color, hadalabo, exited, cuy, bersyukur, membuatku, rileks, pih, abisabis, daaaan, menghitam, klian, buruan, name, mendarat, usapin, noticeable, regenerasi, keterangan, sharing, bangetttttt, trigger, loving, skins, wonder, jahat, diselingi, bimbang, cuyy, pagimalam, ecommerce, kirakira, lucuk, bento, indoor, dibilas, ink, makasi, bangeetttt, mengeringkan, sheetmask, dibawabawa, tested, youu, helped, sleep, prnh, butuhin, gaabis, expectation, making, third, merubah, beliii, applicator, amni, aply, mencium, afordable, ngambek, choose, finefine, hariii, maskernya, sebel, breakoutpurging, kdg, bolong, busa, somebymi, jerawatann, exfoliatingnya, dampak, modal, kuncinya, mendang, sensai, m, diskonnya, glossy, sosial, porinya, cheaper, kuli, organic, lagiii, hrg, suit, baby, debest, diriku, dannnn, wfh, skinn, jamin, wouldnt, nendang, others, kecantikan, sangattt, kontak, bt, splendid, oia, bagusan, amannn, kubeli, sukin, likely, sepertiku, kenalan, markotop, simpan, between, perpaduan, sarannya, sekitaran, rapat, bole, sdkt, matengnya, dikombinasikan, lasts, thn, masya, mantulll, dituangin, gasalah, fortunately, someone, semangat, medicine, kulitny, ramping, alesan, oranye, annesa, research, ekspetasi, itungannya, sampingnya, both, dicobain, uji, sukaaaaaa, berjam, ampm, lulus, sdkit, lindungin, diaplikasi, aplikasikannya, isinyaa, bayangin, rangkaiannya, washing, portulaca, terbuang, semimatte, menghasilkan, affi, ketemulah, semantul, obviously, bakteri, sesuaikan, buluk, na, performance, wk, sihhhh, pertimbangan, poriku, looknya, diskonan, sumpahhh, retinoid, sblum, dsri, ngide, nyokap, rutinin, handy, desember, fell, krena, mantab, tulus, duluan, sendok, sopan, sosmed, amaze, galau, kewajah, yey, bgtu, change, harap, sia, garis, red, oksidasi, kombinasikan, bulir, lotionnya, nyobaa, fit, ma, azarine, routinenya, semprat, kardusnya, ohya, sholat, terms, ane, smoothly, bis, rempong, hitungan, wkwkkw, bayar, lainya, masukin, hand, prtama, bnran, app, overly, inimah, barengi, pyun, san, keabisan, abisss, treat, menjadikan, ahaha, diharga, otomatis, dicombine, beige, superduper, antioksidan, trend, keburu, itupun, bikinn, nabung, keeps, berpori, kosmetik, didalem, voila, kurangin, awalnyaa, modelnya, power, smp, internet, five, retak, bedabeda, bentol, belajar, seefektif, luvs, kemasanya, pewarna, kulitkuuu, niacinamidenya, yeay, beraniin, kelewat, search, gadget, konsep, turn, tubuh, minimarket, kesabaran, semalem, tambahin, worthh, sensitivitas, anyone, ngunci, hydratingg, tapiiiii, gantian, kandunganya, radikal, plg, ngompres, issue, mouisturizer, bangeeett, merusak, mendukung, mate, suggest, banged, hadiah, turunan, smaller, sturdy, exfoliasinya, cabe, buaya, keringgg, lembabbb, resep, rest, temanku, juice, putihnya, opsi, prevent, seal, selebgram, gave, japanese, pertamakali, total, kakakku, terpisah, buying, kemahalan, februari, skincarenya, berutusan, balikin, flaky, cusss, ngereview, rednessnya, setuju, easier, cocokkan, astragalus, travelfriendly, termurah, menghydrate, judulnya, ceu, kompress, perfectly, donggg, cpet, colour, often, lu, kulitnyaa, eksfoliator, cruelty, truly, angin, awalny, steril, motor, wowww, aduh, persis, banyaaak, perdana, nyaaaaa, jarnya, perbaikan, enga, kerasanya, kacau, dehhhhh, us, glucan, multi, gontaganti, tekstutnya, nyegrak, kunci, kesat, diselingin, jidatku, jerawatjerawat, infonya, kejauhan, girls, apalg, berpergian, kadarnya, moneynya, jujurr, kecill, empty, disertai, cakepp, bertemu, ngempes, hitamnya, dana, refreshed, lembapp, absorption, buatt, loveeeee, atasnya, tampilannya, jempol, marah, hebat, menangani, pencetan, blackheadku, memperhalus, miring, gem, akhirny, bentoncosmetic, sanggup, sebatas, cos, tonee, blogger, sedikittt, berkatakata, wrap, cepatt, dermatology, later, unt, beresin, regret, dsb, umunya, ba, sndiri, gita, tekstrurnya, balancing, sodara, cocokcocokan, spfpa, terpakai, picky, terjangkauu, amann, packaged, berujung, advance, pengaruhnya, dehhhh, wajag, iam, enk, dongggg, merangkap, yeayy, positifnya, banyaakk, pen, ngehalusin, hrsnya, sejarah, ngarep, mengempeskan, bbrapa, belas, hempasss, kaliiii, senampol, mengexfoliasi, texturenyaa, vetch, menahan, ajib, cerita, poriporinya, transparent, ngehydrating, huhuhuhu, semogaa, layaknya, club, ekfoliasi, kos, felix, sangatsangat, nampoll, vegetable, gantiin, barierr, boj, laa, sense, bersamaan, murcee, scrubnya, teruji, okeoke, abal, aslii, kerusakan, cadangan, yng, mencerahlan, protect, ex, selayaknya, bekasbekas, perskincare, seumur, bakalah, ademm, ngeratainnya, menggumpal, mengendap, bumps, ngeluarinnya, dewa, kuliku, bisaaa, bikim, alcoholnya, notabene, jagung, mencetnya, mantai, disimpan, banyaak, terampuh, pengemasan, tanah, ditaruh, packagenya, jakarta, terenak, kirang, fa, pokokny, disitu, acnegenic, peduli, solusinya, diratainnya, underrated, noo, contohnya, sk, jeleknya, nyeimbangin, cokelat, merapat, puji, atasi, setauku, bahasa, bluelight, oake, cepett, consider, somethinc, bukanya, digosok, cleans, klau, turun, sembuhin, ngelembabkan, produknyaaa, greasynya, abisnyaa, lantai, dipindahin, debat, rupa, lumyan, terlau, omggg, gercep, hehehehehe, okeeee, kendala, dieksfoliasi, entahh, nusuk, filternya, yall, membesar, ademmm, sperti, fliptop, udahnya, tergoda, pernh, enakkkk, dobel, tuk, istimewa, coolingnya, penemuan, jelly, dipikirpikir, fokusnya, senengg, cucimuka, alot, malemmalem, pastikan, overpowering, skrang, textureny, socoboxnya, pandangan, berlapis, menolak, tmpt, bersisa, ketahanan, space, msih, efekny, bertahun, ceraah, kujadiin, run, whitelab, kulitmu, mukak, mengompres, gi, pijet, milea, pkknya, start, menutupi, exfoliatenya, menerapkan, paduan, basically, kotorankotoran, seiring, mencerah, untukk, generasi, lgs, fregrance, pulau, seingetku, nnti, cerahhh, yuhuuu, bumil, mom, info, meredam, nuangin, nyaaa, level, partikel, benefit, gmpg, addition, japan, berbotol, meringankan, depending, sc, putihan, pejuang, jajan, several, production, sehatt, finding, drop, artikel, itll, yap, teenager, kuling, takarannya, dirasakan, powerful, ngebikin, jartebeauty, till, reviewer, pantes, layak, phyto, dominan, expoliating, cucian, langkah, akunya, basis, laah, started, bopeng, akun, samasama, tersebar, bget, moisturised, blum, mahkota, facemist, mursida, tan, guysss, complain, honey, impresion, hujan, semprotnya, memasuki, kayk, wattery, healing, su, mainmain, normaldry, jeriwi, kepincut, old, buatan, gewd, besarbesar, mucinnya, shining, menunggu, recommed, diklaim, skim, oilyyy, press, continue, true, tujuannya, tandus, byebye, hargany, consistencynya, daur, menyerahkan, diaplikasikannya, pengelupasan, besttttt, lumayanlah, googling, ngemoisturize, exfolliating, sebiji, klean, demek, kabur, nyamarin, pliss, leak, berisik, seliweran, satisfying, dibanyakin, bahas, beber, memproduksi, isiannya, kesalahan, produck, expected, oleracea, cleansernya, hadir, miss, hopeless, bisabolol, priceyy, ecofriendly, classy, rangkain, con, miripmirip, memicu, tradisional, sticker, mosturaizer, tetangga, nyarinya, pelindung, jadwal, sensitizing, zero, gg, lahhh, tight, pede, prnah, jerawatbruntusan, bla, dimanapun, fades, calms, lumayann, means, kerasaa, berminyaak, nutrition, said, desain, bisabol, ginseng, mulussss, forever, bestttt, similar, bantuan, daytime, telat, amazed, nicely, versiku, cetaphil, duo, tsb, provides, effectively, penyok, gatelgatel, decent, substitute, alchohol, bersinar, popular, smoother, uses, sunscreeen, menyarankan, clinic, mantapp, ap, fomo, berharapnya, nyerapnyaa, salicyclic, cloud, worthy, everrr, wangiwangi, coming, sok, stickiness, belilah, fiks, segerrr, diangkat, evens, diakali, rawit, suhay, ceroboh, dtg, satin, merasap, menghempas, nongreasy, teh, bersihinnya, rough, tuangin, butuhkan, deserves, ditolerir, dahhh, win, gooddd, beliiii, contact, penciuman, textures, semacem, ohh, keharusan, oriental, own, ide, instantly, tabur, oktober, biji, recently, wlpn, bangetbanget, plastiknya, juni, savior, perhatian, wahhh, kelas, sembarangan, hahahha, meja, batas, gopicky, menyukainya, seenggaknya, dokdo, mgg, silicon, kmren, cemong, match, lagilagi, berantakan, pelembabnya, mendekati, dermatologist, purchasing, pembersih, maut, sedikitsedikit, hobi, gttt, putihputih, pulak, resultnya, disemprotin, jeju, impressions, kekontrol, recommendation, menghydrating, moisturizers, throughout, axisy, januari, khasnya, banyakan, syukak, waterproff, late, bangetlah, ngejaga, ngalahin, epic, veryyy, hello, exfoliater, reaksinya, puter, within, yutub, different, porepack, cintanya, drops, sooth, liking, baurkan, ternyataaa, combioily, mnurutku, kepanasan, csrx, bag, ringkas, wajahmu, hydating, hi, menonjol, endingnya, bangeg, aspek, extremely, deeeh, mengklaim, via, moistt, pokokbya, ratarata, zonk, digabungin, harmful, makenyaa, past, pny, ngelembutin, barubaru, packingannya, nyiptain, ketahan, eco, sekolahan, disuruh, kayaa, melting, pigmentation, butirannya, pagipagi, berkilau, dibeberapa, keruh, swear, penyegar, juaraa, dikitt, fragancenya, describe, gram, ak, percayalah, pertamaa, sight, mlm, jamu, blends, konsultasi, oilyacne, mood, medium, icip, skalian, ademnya, jarangjarang, rejeki, kaliyaa, butek, berjodoh, beautiful, nonsticky, patah, biak, klu, brands, mas, bahaya, tercapai, hehehhe, ahhh, luvvvvv, koo, agi, provide, plumply, teknologi, walapun, berkembang, current, fr, orens, tanaman, berdampak, bin, pricely, sedikitpun, ampole, lemban, carean, pernag, panaspanasan, direview, je, amazingly, lobang, diatasnya, komedi, tapo, anua, sensasinya, karenaa, pertengahan, condong, usapan, beragam, racunin, gasabar, kebiasa, gmpang, pengin, silakan, menjelang, halhal, gilaa, melebar, short, netto, bungabunganya, syuka, dekil, floralnya, saa, masanya, sleek, gym, kdang, sengelembabin, pemulaa, alamii, apps, skintfc, hg, diharapkan, seems, sd, feelingnya, dibelii, beautifully, kuy, squalane, gaaaa, redakan, kesian, nunggunya, tujuan, kompresan, ituloh, radiation, kosan, gantii, redahin, sensitized, gakering, batt, translucent, salep, juaraaaa, mikirin, pendek, tekstrunya, menyukai, mkin, olesnya, ngingetin, socoid, logo, doing, sealed, dream, menyegat, bgi, dehidrasinya, ngeliatin, thinking, show, bkal, kurasa, beuhhh, diubah, katakata, terjamin, gendut, ngabisinnya, cairnya, pyung, form, micelar, sembuhnya, ngulang, berukuran, terlaluu, brightness, pakcagingnya, irritant, gabungan, menyumbat, skalii, manteb, udaa, seret, sesukaaa, medsos, yaallah, itttt, aq, dermatologically, evenly, awettt, sprti, nadeshiko, ngaplikasiin, acwell, prduk, pencampuran, segituuuu, berbarengan, mukaleher, bulet, jrg, ngelempabin, dianya, uangnya, smpek, exfoliatornya, diaaa, paten, linit, menyantumkan, mamonde, fair, dikalian, stuff, general, ceoet, keseimbangan, inisih, kekelopek, keluaran, chamomile, lunak, pengalamanku, recycle, kecintaankuu, dihari, nangkal, duer, smoothens, assegaf, diceritain, thanku, gilakkk, signifikannya, benefits, dikala, biarkan, notis, vote, coco, airpump, wkwkwkwkwkwk, launch, dilanjutkan, emak, sihdan, tinta, demen, mudaah, didompet, gangertii, dicontoh, tepar, semulus, mengekfoliasi, mid, berbekas, rating, baguuuus, greatest, halussss, ngeexfoliate, rela, buangbuang, superrr, wilayah, mauu, kuman, luuuuv, moisturazer, chemicalnya, nourishes, wudu, terbyata, perihpanas, koleksi, micro, ngeprep, oiyaaa, finee, disekitaran, keringsensitif, lindungi, handphone, fans, mencuri, tidurr, sebenarny, play, tenaga, containing, unique, butuhnya, emosi, didapetin, place, searchingsearching, pijatan, ski, puncak, reviewreviewnya, enaaaak, didirikan, menjelajah, melembabkaaan, didesain, interested, beginners, nurutku, eyecatching, tambahkan, tempel, pie, skinshield, alis, tante, nyesal, pertanda, sweat, hahahaa, terdekat, diaplilasikan, sygnya, claming, merhatiin, busy, selaluu, terjangkauuuu, kadaluarsa, ngepump, udaah, terr, ngantuk, copotan, september, kotaknya, dikenal, cukupp, fragance, didiamkan, filamentku, disangka, istirahat, bubblewrap, sebaceous, alat, tumbuhnya, femaledaily, sensitiff, surprised, mines, socio, ratingnya, balm, lembapppp, bruntusanya, kusamm, sayyy, experiencenya, gelcream, seseneng, gencetan, sikat, sie, gemuk, kadi, utuh, frustasi, lagsung, goodgood, lazy, ngebedain, bunda, clog, hslnya, bearable, ngegeser, modern, baruuu, kucel, memproteksi, catchy, liatnya, disadari, ngirit, ngeapply, layerin, hilangg, kbeauty, exfloliating, everything, packgingnya, bv, jadul, tabir, surya, ngresepnya, concentration, dahsyat, progressnya, akui, award, shine, hapus, discounted, persentasenya, silicone, sminggu, menghemat, berjuang, pajangan, wes, actual, basenya, gaperna, menipis, xixixixi, sighs, sgitu, pliket, semriwing, partikelnya, publik, diperhatikan, cintaku, rupiah, entar, meresepnya, twice, pelayanan, nope, disetiap, kerimg, ang, keganggu, meresapnyaa, bersihh, anjuran, cake, kualitasss, siasati, perihperih, acneku, testimoni, pasahal, dapatnya, objektif, hasnt, sajaaa, someday, whole, siiiih, lengketga, ssnya, dusnya, bngtttt, ditemui, jiwa, mulukmuluk, gemesh, diobatin, betuls, akuga, belangg, pre, affordablee, protes, alcoholfree, bgtsih, spy, kegelapan, oya, tektsurnya, buntusan, giniii, adiknya, dihabisin, kdng, slain, ones, kayaknyaa, nego, fullsizenya, socoxwardah, productnyaa, ngakalinnya, pacakgingnya, mukannya, coock, pinggir, sukaakk, komedokomedo, akutoner, cutee, atauuuu, puollll, ketumpahan, web, pickyrewards, dmn, difoto, yo, seutuhnya, blog, nakarnya, multiple, basicnya, walaupin, asing, kurangggg, psti, ngebland, flashsale, ihhh, mekap, staff, kuliit, ngelembapinn, sodaraku, bikinnn, harganyaaa, direkomin, blur, bangey, gaya, semuaa, kesayanganku, kenapaa, ringat, anytime, uuuu, perfumed, pastii, familiar, pengunaan, subur, hahahah, productbya, hero, reduces, bravo, setelahnyaa, bangrt, routines, meong, sayangsayang, luuvv, sumpaah, setiao, mouist, tuu, ceoat, live, royal, tik, mna, reccomend, pompa, glides, repurschase, didominasi, kerinh, paginy, jadinyaa, jggg, discontinue, menghabiskannya, ida, melembakan, saku, biat, muraah, viscous, kelopakkelopak, seuprit, komen, diatasi, keracun, potensi, filtratenya, woyyyyy, berminuak, normalku, dehaku, firts, secepatnya, temanteman, aer, exploating, adaa, sistem, komedogenik, cape, biyuu, worked, biarin, ajah, diolesin, deskripsinya, reminder, makasii, cekout, luck, salicilyc, laun, terluvvv, nourishing, dikirain, differences, poko, jelasin, penganut, poignant, nyesuain, jerawatannya, hygienis, nikah, repurcashe, dbawa, hologram, keunggulan, solat, telihat, bentons, akubagus, ehhh, mudahmudahan, regular, wowwww, kah, gituloh, esp, berjerawatku, kisaran, ngeracunin, kurng, tdr, kawan, panass, terpenuhi, carry, kyaknya, sayanya, cherry, premium, blossom, pesanan, hypoallergenic, sesering, caught, callendula, murahmurah, nyiapin, anw, semenit, reacting, starting, apart, kucinta, yessss, sets, nunjukin, bcz, mlnya, until, haridengan, berstektur, healthier, allday, biodegradable, mangga, exfolating, skyrose, silahkan, rara, pill, lolos, sh, rack, listnya, ekspoliasi, tapj, shade, recycled, cosmetically, youll, tenangin, thankfully, yeah, gooood, diurutan, large, farian, brigtening, glowinggg, menarikk, benefitnya, nyebut, investment, perna, diomongin, beside, hahahahaha, favorittt, willing, cross, faded, acrylate, here, alkyl, acrylatesc, birunya, lichen, skitar, banyaaaak, sampah, cc, lacking, recommeded, botoh, supermarket, detoksifikasi, manaa, jastip, peremajaan, barbata, daaaann, bigger, polymer, beneficial, beginning, ceper, berass, deeply, max, langsat, dried, selembut, asa, l, mengobati, menghalau, pricyy, perfectperfectperfectperfectperfectperfectperfect, kulitnyaaa, nondrying, stearyl, blackheadsdan, kehitaman, gum, xantham, pooolll, bottles, penampakan, sting, dus, everr, bulanann, checked, tes, stu, ngerawat, didagu, cenderunf, pelit, superluv, akuh, beberpa, dab, ngk, ngeri, agal, insya, kantoran, penggantinya, tang, diperuntukkan, youtuber, gabutuh, benerannya, refiner, disemprotkan, daaann, bangeeetttt, organik, kurenggg, banyakkkk, harta, betapa, pros, dunno, repuchased, presentase, seriusss, tllu, final, gangerasa, crucial, sig, diilangin, awalmya, came, berdasar, halusdan, exfol, famous, sugar, cane, soy, improving, environment, ability, sich, axis, secure, decide, shipping, pat, effek, designed, membaur, licorice, secretionnya, operasi, bisababol, paper, singkong, orderan, concept, beling, menyisakan, ngurang, definetly, scroll, november, baguuss, yauda, cepetcepet, wich, ciwi, koq, kenyell, lha, sihtapi, stiker, sirup, holygrails, aaaaaaa, pemakian, papa, komeda, sifat, komedogenic, jugateksturnya, r, berkurangnya, akupun, chemi, bebar, wajahhh, across, meyenii, stabil, lepidium, kujual, lembuuuttt, sits, gedeee, tiner, mengkilat, diaplikasiinnya, makannya, matengin, sooooo, pricee, gile, muchh, container, dicombo, jxb, purge, udab, minimalisir, coel, lembaab, soooooo, baur, menyimpulkan, retaining, produkproduknya, wait, biasaa, pleasant, plsss, skinnn, tuker, awalku, mestinya, lup, rave, person, dibikin, lighter, vers, lucukk, standart, salicyd, karton, paha, polysorbate, bubble, terset, layered, dipunya, besokan, benron, berkesudahan, pilihanku, cutest, freshness, plumped, akuuuuu, colek, diarea, inovatif, exfoliates, aaaaaa, kecampur, extractnya, beberapaa, kli, wkkw, jt, shinning, adds, enjoyed, exfolliate, talk, neutral, ckit, luber, stays, dipaiknya, kulitq, pastiii, bnaget, bun, betah, pollll, friends, berhatihati, pilihannya, enggk, wanted, six, ngelembabinn, mengikuti, curious, buyyy, piperitum, pait, hufff, gosh, kurasain, sunscreem, zanthoxylum, unlike, hopes, loppp, panasnya, jujurrr, hydrting, aspalathus, selektif, guajava, psidium, polyglutamic, linearis, rubbing, terlambat, wajaah, pulsatilla, bottlenya, exfloiating, compared, smga, karboksilat, senilai, calling, buttery, ditemuin, slot, usnea, koreana, inactive, sktr, fridge, filtasi, horor, kept, pasaran, kelen, mildnya, gakuat, yanga, park, despite, sekentel, becoming, foil, berfragrance, yup, bersabar, dikontrol, id, pairing, galama, gedek, mengejutkannya, pertamakuu, doank, daynight, cokcok, applikasikan, lecet, comedo, toneressence, dissapear, balmy, diatur, tell, kesumbat, difference, hydriating, mahall, yamg, drugstore, satisfied, saw, everywhere, cetyl, iklannya, behenyl, tolerable, added, asliiii, penutupnya, subuh, daughter, harm, awesome, ujungnya, invisible, arachidyl, dingindingin, stoknya, akirnya, labo, minyakann, kapastangan, nyegarin, mencapai, sanking, dabest, setengahnya, stiap, luamayan, adorable, tonerserum, artemisia, udahan, bekurang, doain, kea, attention, eheh, peel, smile, nyangkut, bungabunga, regime, peran, oilyku, rendaman, menghilanhkan, looooove, stocknya, eksturnya, penyelamatku, jejak, kenalin, lengkettt, musnah, terwajib, menyerapdan, diacungi, holygrailll, lengkett, kimiawi, ngelotok, ngotak, velvety, bleberan, sayy, menjatuhkan, meng, cukuo, po, remover, cosx, nempelnya, mempunya, seingatku, gerak, nggaaa, residues, mataharinya, manusia, alaminya, dak, essences, dipahami, sihtp, berbahaya, originotee, sumber, skinti, menusuk, sesukaa, packahingnya, major, kumel, kulih, dikulittt, buag, mendalam, uh, sukaaaaaaa, ratjun, lainn, pakeee, gaboleh, pertamaaa, tonerny, sll, world, pembersihan, bangeeeeeeet, smpt, penggunanya, trrus, actives, nnt, ganyengat, seyakin, incer, diakalin, simpulkan, experienced, mengurang, difficult, seampuh, tooner, steam, seeing, punggung, luas, mayoritas, segerrrr, miskin, knuckles, offerable, woww, sesuau, gedenya, nyomot, negara, china, blackwhite, pipih, ceramidenya, crot, tooo, supeeer, petalsnya, anyways, duperr, kagetnya, baguusssss, suukaaa, sda, guru, girlsss, repurchace, ingre, emangg, masyaallah, alaala, terbaguss, kilit, aturan, semprotanya, kehigiensian, ampoule, melembabin, seharii, huge, sociollanya, blackheadsnya, direkomen, apaa, progresnya, msh, jeruk, bertuliskan, ingrediants, hours, tiada, assume, exf, joss, bruntusku, pantesan, gapapaa, unutk, baguuuuus, solve, ngolesin, segeran, ngaruhh, guee, practical, bangeeeetttt, pelajarrr, adlh, kurangg, keitung, kantongku, berapaa, cma, ngambil, dipakaii, diajak, ningkatin, giti, sebelom, untik, mantan, flu, hopefully, nyebabin, sesusah, boosting, dipakaiii, hobby, diimbangi, nyentuh, textured, terpampang, tuhan, tutu, keringnyaa, cocon, ditempelin, wajahkulit, wajahkuu, usa, pabrik, kebersihan, makee, ratakan, buah, hrganya, mention, plisss, senstive, lastly, respon, pricecy, deehh, huaaaa, personal, sebelumnyaaa, puk, mile, caloncalon, acara, mulut, kerenn, impact, gentel, bwt, kilat, pedes, bisalah, sdih, atur, lembuttt, muat, consnya, redaan, bodohnya, teksturnyaaa, untuj, essenceny, dahu, gapapalah, terbakar, tugasnya, hada, laaah, kening, dikitttt, refreshes, ideal, cobaaa, soz, mon, kalinyaaa, nyelekit, memulihkan, lh, gamain, jadie, kaliann, beloved, eheheh, packanging, untun, murahhhh, boost, seoke, enaakk, berwana, disabarin, gakan, hygenis, visual, sejarang, sukaak, join, yep, wd, gueee, packed, diff, nyerepp, parno, literly, wahh, bio, sahabat, tmbh, berangsurangsur, sumpa, karuan, nyerepnyaaa, dibasahin, bete, diamkan, tengkyu, sbgi, gaiss, wjah, quiet, kandunga, occ, straight, clientku, biya, lightweightringan, dipakaikan, fun, claimntmya, standarr, matters, charm, luarnya, sudag, understand, klk, punnnn, defini, rhode, damage, csr, tidakk, hydr, concelaer, keliatannyaaa, cepen, bgss, seriuss, wateri, ade, penciptaan, growing, moisturizerlight, lowkey, pumppun, siin, humectant, goodjob, sensitiveee, skincareessential, tpii, kureng, react, nyusuin, gocap, kombinasisensitif, kulittttt, maasya, basmi, oilycombi, lengketsusah, salysilic, awalannyaa, kebayakan, jumboooonya, ngrambay, skincareterbaik, puol, hemaatt, cicacaregel, ngempesinnya, claimnyaa, calmjng, protecting, fixx, kucari, rusakbreakout, surprise, moissssttt, ngaman, mauka, memoisturize, loveloveee, repared, zaitun, ngestock, telaturnya, sensations, handedly, berjodohlah, ngelembampin, ngajak, nayaman, dptinnya, upgraded, menuliskan, tg, gabungkan, twist, murahnya, continuing, gabakalan, deliveres, compairing, lahya, pencinta, moisteriser, dearme, punyaa, bakall, pennies, affordableoutstandingmoisturizer, hopeful, kuyang, ssendiri, embryolisse, kulitnyab, memdem, ltp, trimzs, syang, bosa, va, ambilnya, harganyaaaa, kebelakang, bagoooos, woiilah, transformed, skinproeo, tryyy, oilydan, totebag, kemang, sek, soa, early, bags, kenyaal, pillingenggaknya, upbersamaan, folks, mahaiswa, lnya, wooo, kqlau, lainnn, berjuta, meradangnya, moisnya, pemalaiannya, lengketberat, wearing, reccomm, tentunyaa, duperrrrr, prodduct, ingredientsnnya, amu, ring, oklah, alwasys, reviewny, twrtarik, dripada, biyuuuu, abiesssss, sayangnyaa, strengthened, clearing, anjaiii, yowes, severe, dikiitt, hydratenya, moisturr, pilek, ted, berjodohh, bundle, orginote, jinak, kecintaancocok, huh, baikkk, ngetenganin, betulan, kekulitcepet, juarak, fokuskan, asik, vvveeeerrrryyyy, hydrationnya, akademik, dabes, kml, reallyy, anythingg, weighttt, veryy, packagingnys, terksturnya, bjsa, eksplor, diluncurkan, benerrr, cepah, sekering, mentholnya, eveerr, berlandaskan, koh, dakwah, abt, sihkarena, built, j, baaguss, addicted, beforenya, beuaty, ketutup, coveragenya, fd, massage, hheehhejeheeh, melty, keringny, indraebongfdgbzdfgfdgdfgfdgdf, shopping, lightly, age, worh, sepowerfull, amino, bernutrisi, berkelaa, nempelin, gasengaja, hyaluran, hycalucera, dpake, meragukan, loveeeeeee, sekebon, viralnya, dibuatin, exfoo, transferproof, slugging, penawaran, kerepurchase, selling, kulitapalagi, farr, gunskan, ngegrip, dicubooo, klienkuu, produksinya, gripping, vouchermu, capeee, reorder, lengkeg, among, marketingnya, dikamtong, originoteee, teken, dipakeee, yourmy, menormalkan, exist, dileher, rebahan, ukura, keringkeringnya, kegunaanya, pricenya, higienisnya, tipkul, thisss, useable, yaapp, factornya, dimukakuu, cocokjuga, lunya, herby, berminyaktoo, perskin, ngalir, teksturmya, halooo, treasure, lgsngg, lagikkkk, dim, ngecalm, sepwrtinya, underestimated, awanya, bangak, favv, gantinyaaa, become, maafnya, bekqs, segambreng, utilised, produt, vouchernyaa, berjarjar, anteng, gatauuu, ukurannyaa, orgi, cintaaaak, ngelebihin, unity, tiiap, pakkee, berkaalii, terusann, evryday, lawakan, telur, sekecang, ngenakin, nyerepnyaud, tentunyamau, tonerlightweight, kabas, tonerdibilang, brightened, yoo, liah, nonperfumed, treatments, lotioncream, ride, dipukpuk, aing, gandus, tydack, minyakku, tarus, rivewnya, terrrrbaik, menglembapin, noozle, seprot, dude, yaaw, skinacne, lovvvv, buangetttttt, hihih, inilo, kekeringan, terobati, nariknya, haruuuus, noted, totolnya, wangiwangian, keringnormal, jirrr, productproduct, replaceable, created, film, neck, palms, risitasi, produuk, cobainb, ittttt, lneiges, worthhhh, beruntusaaan, ngilangiiin, lumaaaaayan, hatumogi, tretinoin, nulisnya, ssbagus, expiry, lembuuuut, sedimennya, jerawatankulit, addict, tercampur, seprotannya, muachhhh, pyunkangg, menorehkan, slm, nyobainuda, produkpertama, berjarawat, kebersihannya, ngeradang, benjol, halusssss, tadinys, kpas, btl, touching, create, drier, ikon, spratnya, kemedoaaan, waaaaaww, jerawan, lingkungannya, complaint, terabsorbsinya, fitnes, ditawarin, misty, beraat, kombinasii, mouisturizeee, cold, graill, mingguhasilnya, mengeringsaya, potong, taru, nozzlenya, semport, sadarnya, agaknsedih, truthfully, discout, reuse, mnurt, qualitynya, tingga, benget, pinggirku, supper, labelnya, bantet, ciri, membingungkan, yeyyyyy, tandah, kebun, menutup, antyhing, squeaky, facemaking, allright, dilema, horaaaay, labgsung, nyalalu, pengunci, kucobaa, suupeer, pakamnya, overhype, yha, basket, muma, today, buildin, packedin, action, haaa, tertawa, mumpuni, wadidaw, buqt, producttt, dikombinasi, brighteningg, pot, baguuuuusssss, sometime, novitaokt, benerrrrr, awkwardly, cor, sap, birch, mureh, colak, uhuww, diutamakan, mantulita, sedekah, gempuran, serumsangat, affect, raga, ppl, nyesek, trpaksa, ngerasainnya, pudarnya, flacky, hebohnya, semuaanyaa, roll, kerut, social, dimedia, kebetulah, luvvvvpokonya, mihil, lojhhj, bangatt, cri, gan, eccomers, didapatnya, lembu, kerutan, aromaticnya, wants, oilycombination, adjustment, showing, launcing, mamah, impressionnya, mouis, brigthening, sangatvlife, changing, nggaaaa, ngelelembapinnya, fully, kaliya, nesar, produkkkkk, untui, visible, sensian, cobai, sabi, terfokus, ringannnn, frennd, pennyy, pisannn, suer, pekatgel, promagh, wherever, sehemat, segentong, favoritebaku, ininjadi, combonga, gakeitung, meredamkan, skinprepprimer, prive, repackage, reset, pewarnaparfum, raguu, temann, tulis, repuchese, ngejudge, nyaoba, boomingnya, texfurenya, emmang, hihihihiihihi, eksperasi, bagaimanaa, nyerel, ngampe, colekcolek, goooo, kebangaan, wallet, winner, aluminum, banyaj, rama, disinii, lokonya, alternative, moisturizerz, kerinf, lately, nagihhh, failed, semawar, tidurnya, sociollasuksess, nyegat, ajain, kelanjutannya, mengndung, sbnerny, serumtoner, ngseal, diperuntukan, adminnya, diangetin, plumpyhuhu, berkeluarga, bgtacne, salalu, thankss, jit, naturals, intimidating, nyalahin, pemicu, bangetttttttt, bawaan, licinberminyak, makanan, sebagiannya, terhydrate, orosuktnya, gaganggu, packinging, moisturozee, kayal, cinderung, pug, sesuain, quicker, ahahahhahahah, flowers, various, throughly, damp, mnt, cepel, notsojelly, pedis, handalkan, shame, prepp, sediakan, seperi, wanginnya, diserapnyaa, semproton, dikulitnya, terbiasanya, terkece, sooooooooooo, teracun, naturan, moisturizerny, central, animals, hangatnya, disebabkan, hilanginbnoda, menyusul, bawaannya, jugs, hormonalku, beruntuan, facenya, lengkappp, scooping, disappears, told, pumptube, pool, hample, higienitasnya, semerbak, semangka, ponds, rak, tannya, naronya, lavendernya, dimethicone, inggredientnya, kulitkuaroma, bangettaku, hemattt, build, adda, mukka, terbaiik, boosternya, enaakwangi, pagisiang, desparate, gooooooodi, termakan, bujuk, rayulah, terkstur, ertelah, favoritkuu, nyabagus, barusan, kenyalll, suuupperrr, sitting, geranium, contoh, fragrant, komponen, sekunder, gemespake, reusable, weird, sensationdan, stingy, dstep, dkulit, kerutandll, forward, superdry, tida, weirdly, contaminated, sendoknyaa, containernya, keringaging, boosted, inidan, beratlengket, pakeenyaa, moms, car, wajakhu, fungsin, man, longterm, lamaan, mya, nresep, cait, esssnce, mahhhh, ditampar, diperbaiki, teenagers, husband, mukaso, eccomerce, disayang, pakeeee, ngadet, hit, pickmeup, absord, foward, sumph, pyunkangyullll, gilaakk, mantuuull, girl, usep, kerna, melebapkan, mosturizing, absorbing, mulussssss, macetsusah, cacat, biin, aoa, sensitifnya, tahutahu, diaplikasian, bruntusanjerawatan, gangasih, ngebagusin, future, menyayangkan, ketjeh, ukurang, hehekarna, keisengan, juarakarna, ed, wellblended, mositure, sempeot, rednees, kelupaskelupas, casual, terjun, freshen, clumsy, dimau, membaikkkkk, isenglah, banyakkhawatirnya, perihgatal, tgg, bettt, bebetapa, belomterlalu, segarr, elegance, behh, berbelanja, akubikin, letoy, jederrr, membuktikan, memburu, kemanamanateksturnya, ajaaah, kulitpas, bruntusanjrwat, reviewed, sinks, distinctive, jepan, goo, haislnya, ampoulenya, menyentuh, lapisi, kegedean, pnya, teross, atopun, cerave, penyebarannya, bgtbisa, sesitif, tingkah, spritzernya, serummoisturizer, cahayaac, kasarnya, tersuka, usahin, defo, kipasgaada, fermented, seegerr, sheetnya, sehauh, bangetternyata, obsessed, ishizawa, add, heaviness, cleaning, dijepang, tercalming, kcl, holygrailku, tawarin, kjrang, dijeda, bikiin, pynkng, keanaidn, drypatch, ayuk, lembabpinnya, buanyakk, relaxingg, itaku, terntata, drip, soda, bran, acidity, coloring, kesel, tops, caused, sign, sotoy, akungelembabinnya, bgttapi, cantella, didapetinnya, mengbalikan, inifirstly, thickness, postlaser, reactive, nowadays, sists, sebenenya, dimetyl, kubandingin, unggul, sensitifdry, kucuci, kujeda, smethinc, ehhehehe, tepukan, ditimbulakn, rivalnya, favorito, trasa, kenyaltaste, sesuainya, ngelembapim, yulthe, terfavoritoo, complete, reclaim, meejmuse, didlm, termsuk, hydarating, paliiiiing, lembaabga, krusial, ngehdryate, pngen, changed, penyelamattt, rewellll, circa, percayakan, gitujadi, munculah, icon, rumayan, trnyta, hars, dibwa, ditepuktepukkan, kinclongg, genepin, belanjaan, damn, mukangelembabin, bagusmelembabkancocok, sensitifpadahal, berjerawatga, jugabikin, essencce, apaaku, dialalu, plusnyaaa, pakain, tutupan, sampingg, kelihataan, estetis, hitz, nyamannyaman, harg, akumemang, tggu, eseence, gatakut, beruntusku, tergentle, grupnya, sedikitmalah, polos, ahmasih, gunakannya, poreless, wajarlah, rival, akuuh, empuk, bangeeeeetteksturnya, nyerapnyabikin, pakeminus, sensitivity, dihadapi, npure, mudik, ciwiciwi, socialnyobanya, pict, poriaku, skipcare, daftar, beratnya, common, nipu, handle, plat, sepet, ngelembapinsuper, lebihapprov, seriussss, viola, priceytapi, pesenin, saving, slimey, definitelly, repurchaseeee, unnecessary, addictive, dipindahkan, momopuri, wake, yaps, kentalnya, rasainnya, speechless, menjalani, judge, book, gurls, barriers, sensitiftexturenya, mlml, moistlengket, balakan, kwerenn, abistt, diiringi, membantuuuuu, inflammatory, irritants, socialla, rootsnya, reminds, conclusion, things, kenyaaaal, menghilangkat, ttpi, pyunkanh, corsx, ksni, explain, yuls, doctors, creams, regularly, nyobaeh, buaggus, bungkuus, pantengin, skili, bshshshshsjsjsjsjsjsjjsjsjssjsjsjjsjssjsjsjsjsjsjsjshshshshshdhdhdhdhehshehehdhdjdhgsshhshdhdhdhdhdhdhdhshshshshshssgsgsgsgdsggd, mixed, favoritee, muluk, keku, caraku, reach, langsing, ringanaku, ngelambabpin, balut, resikonya, diikutin, mininya, berbauuu, ngasihs, inner, maduk, gitumuncul, kejora, plzz, yachh, qaqaq, loooooveee, cumn, pijat, irreplaceable, pemkaian, mantulityy, odorless, tonertherefore, named, texturewise, relatively, hydratingeffectnya, emanng, packaginh, baunha, ino, ecek, lesss, teskstur, bintikbintiknya, cocokcocokkan, wehh, bangetngaruh, dies, pokonyaga, bagtttt, sulfate, behemat, dihydrate, december, lembabteksturnya, perubahaan, siginifikan, bgtttttttt, melembaban, penah, glowinh, ngelembalin, secantik, lacoco, buay, plisssss, lovvv, kalinyaabikin, awalnyaku, againnn, nicol, teplok, mahals, ebih, ngehampasin, ujungx, harusx, terdeteksi, pokokya, lainmya, kentalll, thic, moistures, steps, meratabisa, diguyur, layanan, semog, keluarkan, gabakaln, authentic, tonnerrrrrrrrrrrrrrrrrrrrrrrrrrrrrrrrr, nyaaaaaaaaaaaaaaaa, barcode, kemarahan, admin, melayani, purifying, melepas, keluhankeluhan, waktuwaktu, trialerror, hydrasi, iniudah, acneee, exposed, productwhat, semenenangkan, colors, hilangggg, alayyyy, anggurin, menghindrasi, kehebatannya, menghilanglan, dannnnnn, ceramic, mantuuulll, gueeee, meredaaaa, masyallah, luaranya, mandicuci, fluid, enakkkkkkkkkkkkkkkkkkkkkkkkkkkkkkkkkkkkkkkkkkkkkkkkkkkkkkkkkkkkkkkkkkkkkkkkkkkkkkkkkkkkkkkkkkkkkkkkkkkkkkkkkkkkkkkk, pujaan, kesimpulanya, following, tsp, dispenses, hole, precise, grateful, knowing, paoee, nyerwp, buyi, sekaranggg, lofffff, teksturrrrrrnnya, youuuuuuuuuuuuuuuuuuuuuuuuuuuuuuuuuuuuuuuuuuu, kick, baddd, lembuuuuut, repurchasemaybee, igku, selynovika, iluv, min, hail, dahbuat, socoreview, tadnya, gtloh, sungguhan, meresqp, dkittt, nantian, wanginua, afford, skincareskincare, kombinasiin, ngresep, sgtsgt, tryin, switzal, baliknya, teksturebga, memburuk, begituuu, siangsiangnyaaa, strongbarely, decision, misttoner, sandwich, gituuuu, sebagain, kbetulan, bangetbut, ajaibnyaaa, pnting, bnykkk, hihiw, dipair, menu, kusukaa, menjurus, dupesnya, tnggal, items, hydrathing, flipnya, serumnyanourish, laindari, kuga, poduct, kangyul, gendutss, cacaanss, packangingnya, tuhhh, mencobaa, packaginnya, perasaanku, tonet, berjerewi, bubuk, endul, ttap, kulitbruntusn, kandungab, dikantongg, kerendam, enaaaaak, banting, trss, gabkin, wooosh, nyobakarena, gtuloh, wkwkk, orderanku, bulirbulir, synthetic, loooove, oo, compressed, kulitsangat, seringseringa, airr, isengin, nenekku, kompakan, ngebahas, tonerdilayer, everydaaay, gemas, lucuuuuu, flowernya, terasatoner, adakalau, exstra, menenabgkan, yr, undereye, dalemnyaa, harganyakebetulan, origin, kempis, serpihan, rait, bersiiihhh, gantigantian, spacey, belinyaa, selatan, batuk, disisi, bungaanya, dkt, ambilin, particles, pertamakuuu, bagianbagian, ngelembabinnnya, pet, rivieuw, krisantemum, sensitifgacocok, gabada, gabuay, myengat, bangetttttttttttttttttttt, jerawaten, penyuka, moisttapi, kelopakkelopaknya, reduced, debut, psoriasis, lembanb, cherryblossom, akukurang, limit, lembabnyaa, sajaa, efekkk, ngimbangin, sakura, botolll, produktrs, global, termasuknya, exfoliat, allag, ilangnyateksturnya, applyaku, interesting, greasing, kuit, calminghydrating, iritared, tep, hueheue, gemesss, wangin, relaxingnya, beteran, tergesek, wangit, dikompresnya, wajahbuat, yaiyalah, tekstunya, pemeran, fails, iykyk, cousin, myself, bangetharganya, abisnyacalming, pakaiwanginya, likes, favoritt, cocoookk, luff, calendulatapi, luuuv, yuja, keikut, merkk, bungaa, sided, exciting, meremajakan, sngt, mukatiap, callendulanya, sekilah, beauties, sebaguuuusss, treatmentpun, sekenyal, whose, fairly, pipis, nyamam, aaahh, syekaliii, seru, floating, kemerahaan, gentleness, nyebutnya, granny, memunculkan, penghapus, nyebabkan, mungkinlah, bungaan, wkkwk, ringantekstur, yearrrrs, keunikan, kuningoren, pgen, learned, temporary, breaking, bgttz, terpendam, keliatancuman, niatan, dale, bgtsesuai, cerahannya, grannys, ditepokin, kapasan, sebagussss, ab, socoboxbestof, serumnyaa, awalanya, asliiiii, lngsng, jalanin, berartijd, bgtsoalnya, pokoknyaaaa, beningnya, siangnya, nyariin, teksturrnya, nimbullin, cerahlebih, efekbkn, berkelana, nahh, inipernah, freah, hoho, ajsetetes, mawarjadi, amnya, itubotol, ceraahhhh, materialnya, ksoong, aweeeeeeet, menyerupai, dispensernya, filtrasi, saayy, nanganin, closes, family, jerawatspot, segeeerr, dianginkan, ngejelasin, efective, outs, downnn, jerawatanku, cocokkkkkk, acidan, dupes, karenapresentase, limited, edition, sakuranya, kelelahan, padah, dngen, kubaca, betaine, salicylate, garamnya, kutahan, overexfo, tip, facialnya, claymask, interest, bigung, bambu, wajahaku, nanyain, ilangpas, inggredient, berapaaakalogasalah, halnya, akumukaku, hatiiii, alhamdulillaah, gradakanmuncul, ngganggu, segardingin, eonni, panjanggede, openingnya, yutup, ditelapak, dibagi, kegolong, tipslebih, ngadih, dnegan, gituuuuu, belummm, tonwe, menyisihkan, blewek, mahalmahal, tepukin, ngarun, merajinkan, diapaapain, butylene, glycol, humectants, kitaaa, totolin, collaboration, liquidy, acidexfoliating, breaks, mad, alusss, berturutturut, washoff, kacauuuu, worried, options, acids, alternating, tend, liqiud, plums, pf, doses, seem, director, bandelku, pi, gakada, buthek, extrac, pertana, kentalbisanya, sekaarang, buanyak, diandeli, kecair, traveler, savitri, besarbesarr, timbuk, setau, ampuhdi, dedaunannya, gabeda, kangen, berjewat, kengkat, pecintan, semahal, kekalimantan, dibandung, dikalimamtqm, oilly, hilangkomedojuha, binggo, menghianatiku, wagelaseeh, dongi, produkrepurchase, exfoxliating, warjah, overreaction, persedian, tercantum, pagia, klaupun, nyrep, vibrant, barrierohiyaa, bareable, eumm, bg, teskturnyaa, ngehydrasi, ingrediens, minute, patting, awalnyague, ramai, mengexfoliatingnya, spotspot, muuuuchhh, berbenturan, henti, printed, bleaching, chemicals, treefree, aslo, terpikat, mengalir, humektan, sehinga, formulasilan, mewat, berhati, realize, stopped, nemi, mengunakan, peracidan, bangetcepet, premenstrual, alert, mukaleherbelakang, friebies, milddddd, nolongin, bandellll, hyram, komentar, desemberr, nympe, ngrsa, diidung, jarangbiasanya, kondangan, dicetak, puberty, exfotliating, fanisadp, purchases, beruntungnya, berdamai, ingridientwise, lineup, mulusannn, muncull, kecewaa, berjenis, treenya, ais, salicylid, sadd, headku, terkejoed, fanisaa, lokasi, sukaakkkk, yaahh, mantuls, itsokayyy, mbamba, cekatcekit, ampu, nyutan, dipermukaan, kutetesi, fragranceoils, terarah, miiiilllddd, tralu, dokternya, bermingguminggu, ngebatu, lembutenak, adeeem, persnailan, wahahaha, terlallu, begginer, mengcalming, bobruntusan, nakutnakutin, oper, higeinis, volcanic, sooting, padaal, fdn, kapasin, mereview, smingguan, enah, kenotice, gimnaa, eoni, nyiba, bats, mancay, teksur, pyoba, clanser, nggatau, nggaberani, orangggg, jerawski, lighttt, kesinisini, beb, aloeveranyatapi, tertaeik, trialnya, kepanasanpengen, seperangkat, teejangkau, harassh, eksfloating, eksfolating, teteupp, cocoklahh, saviour, elah, repairing, kerasgreat, yaaampun, diusapusap, shrink, signifikasi, packacinggnya, dibooster, henat, travelnya, include, mempertemukanku, oneteksturnya, semejak, stepnya, mukaselain, hydratingnot, facelumayan, diselang, darn, prtma, hemaddd, duet, iriiiiiit, pkk, emnk, penelitian, dikhususkan, lancome, maasyaalloh, ngeexfloat, mengempistrs, bapaktipe, cowokku, manfaatkan, produsennya, nyedian, permasalah, cekatcekitnya, faveee, taulah, tandanya, palinggg, atc, bagusrexturenya, mao, dikenalin, pakaiin, esoknya, khsus, doubke, glowgang, menggosok, hdah, smuanya, pemakan, karema, push, olesoles, kuwotorrr, kesempatannya, ditagih, fasial, lendirnya, direpurchase, wajahpun, brenti, favoritkuuuhhh, meresaparomanya, putihmilia, breakoutbreakout, freebie, bc, sparkjoynya, nyamannya, heronya, kompleks, bhasaliclyc, acidjadi, sensitifdia, nyadia, verabelum, beruntusaan, kusukaaa, lembapproduk, carrot, amaaaan, bersarang, reducing, setahuku, woles, tipiss, jumpai, halusan, afandiary, gifted, packagong, kekentelan, sz, pembeliannya, ndusel, kucing, mucinya, excessive, membebaskan, adala, tulisantulisan, yee, hasilnyawajah, mildly, mengexfoliate, ngelakuin, tengahtengahnya, fragnant, suggested, default, malempagi, gokiel, euy, coyyyy, tonerkutuang, pipitapi, lagitonernya, pencapaian, hilangkan, ghibahin, keringkan, yaakk, temuiiinnn, legaaaa, setengahnyaa, kontrolnya, tranvel, contentnya, packagingnua, fia, calicylic, feb, adeeeem, buanyaaakkk, okenya, cakeeepppp, dibotolnya, nake, disalin, percentage, brown, cleaned, oilwater, jump, cares, decreasing, sensitifkubaru, apatapi, kemerahanga, jugaaku, cocokmudahan, akuefek, dihasilkan, halis, extraordinary, rub, dozens, diekstraksi, emptied, badaq, naudzubillah, bgtttttttttt, bu, shay, surely, rias, sangaaaat, exfoliated, yeaay, nguraang, nyemprotinnya, kelantai, bisabisa, miraculously, pumpung, sampailah, nyerapnys, ganimbulin, sewatery, tergilagila, bentonnn, typeku, hydratng, beks, nyamantul, bgtttteksturnya, akueksfoliatinghydrating, semunggu, purito, abp, kesayangann, kapasnyaa, semnjk, salicylyc, woth, membasahi, kilut, kapasku, nampil, rescue, thatsss, pemakainan, menghilangg, status, sls, poriepori, exfoliatingtoner, hydratingtoner, yas, jelekjelek, bekos, wkwkexfoliating, reasonable, spectacular, daaa, warung, skng, clutch, daper, paskal, woyyy, pribadiku, diberbagai, gapengen, kepedean, ngebaurinnya, wkeke, dibersihinnya, bikib, tujukan, pruduk, hukumnya, ttus, diblendd, peradaban, bohongg, likeee, compatible, dibulan, cepeet, teksturenyaa, kokodu, cck, ngeblock, dot, gemoy, loveable, sunscreenga, tonermoist, spreading, skintypeku, magical, pertolongan, mengilap, gebap, thickmoisturizing, sunblocknya, darurat, advisor, lamakelamaan, menyusahkan, wahite, above, kantorserta, nitip, oxidises, termudah, sebagusbitu, inioke, sunblocks, iconic, tasya, sengajaun, dibilqng, kedean, ninja, sunscreentekstur, iniiiini, jarinya, batam, initially, tones, duly, nyempil, whitecaseringan, takar, mreka, dpakenya, yesh, shelves, atm, gerahhh, biaa, perahu, peach, coconut, utoo, locve, meriahh, pasca, dibawahnya, diusapkan, yaagak, behhh, smg, yaaaay, bagusestetik, ngebaur, activity, lembutttt, menggemaskan, bersaing, summer, supa, matahri, recomm, papasan, sunspray, jegrag, dilayerpun, makeupga, kusamga, whitecastutk, bawabeli, mk, dipakenyaaaa, yellow, simplepraktis, membekas, kuningnya, becyek, almond, centellanya, blantang, okeminyak, ukurannyaaa, gemez, cukupppp, breakoutsuper, letak, amazinggggg, blontong, barus, pisang, ilfil, underneath, bagussssssss, suksessss, sociollanyaaaaa, mantappppppp, ditracking, balal, bleberrrr, whatanotherlocalbrand, cobasunscreen, sprayso, pemakai, tepuktepukkayanya, afforfable, bangetlaaah, tanned, murceeee, mouisturizing, outside, scorching, hes, thoo, worksss, youknow, farasya, persunscreenan, jauuuhhh, diposisi, wipe, tonersoaked, known, onto, sbgai, diulas, exfoliantnya, easly, including, tinbumps, smootheri, facei, bed, renewed, pengaplikasianya, vicious, formulation, spesifications, anang, foamy, dosis, terkecilrendah, tinglingcekit, merak, hinyaiii, termantul, responded, directly, supply, mcm, ketarikkering, jugaaman, minyaak, thk, naaaahhh, adl, sebelummya, kasat, matanyaa, friction, oilyresilient, bentonaloe, barbabadensis, lilbit, sekaligusbisa, gapakai, dense, underover, crunchy, neither, liked, lots, vuat, bersihkan, bopurging, dihemat, inidia, usapkan, earth, antiaging, fading, lifting, stamp, onfire, patungan, oxfo, apaaaa, overseas, serendah, nourished, plumping, aftereffect, panasterbakar, iritasiberjerawat, antiinflamasi, sentosa, lega, memakan, passed, outing, mediumlight, faundation, hbrid, awan, dighosting, lebu, shields, gagitu, rays, onthego, embrace, sunkissed, worryfree, sunscreenessentials, berry, moneys, pricyer, eventho, berjerawattt, plumnya, laahhh, milktp, aromawangi, ajatidak, jarawat, gilaan, wih, tintednya, children, holigrail, sanessa, meinggalkan, ditingkatkan, signsture, blendharga, gleracia, kedikitan, drug, rungan, drive, peernah, mempemgaruhi, higienisdia, ajahh, jrang, skipp, formulated, pssst, dongker, daaaaan, afdol, caircair, tekstir, pokokmya, collection, ensuring, perfectlight, applies, lengketgreasy, kujadikan, direapply, atapun, panya, tests, bynkan, crease, storage, hariand, bangwtv, entent, standout, presentation, joy, plain, mandet, kejemur, gooooood, ciaoooooo, pertamaaaaa, jatuhhh, sociobox, keluarinnya, kantok, dispread, lagu, wkkwkwwk, laluuu, perlayer, seteah, bakala, indahnya, iznillah, sbntr, syekaliiii, kelebihanmengandung, panasperih, merakyat, wlupun, klaimny, whitecastnyaaa, terjangkai, hatii, bereksperimen, mencampur, trmsk, ukrn, emanv, ketinggalan, kolaborasi, benyek, wateryenak, lamasaranku, pertamatama, jelaaas, yaaaang, affordebel, bidadari, verry, crumbling, kejar, kejaran, bocah, keseell, poool, grandong, comedogenicnya, setipa, gagall, membati, banhet, terjangkauuuuuuu, giniiii, lohhhhhh, sengatan, baruku, pakejadi, fat, tzoneku, inirecomend, berseri, meant, hebatt, sekaleeeeeeeeee, mataharisaat, diringan, jugaaaaakayanya, naro, ketgihan, bagusssssssssss, kuoit, pancaran, packingcoba, duahari, bi, afterfinishny, spreadabilitynya, ngoleksi, susa, nyman, combiku, mke, genangan, gicu, buidable, greasyyyy, masin, idr, aktivitasku, didepan, laptophp, terusterusan, whote, hum, dipaparkan, capcuss, hloo, skinlike, sunscreenskincare, diadu, setara, plusssss, sukabgt, meluber, watergel, texturethicknesspackaging, selengket, efeek, lengkag, dimasukin, andalaquuh, jahad, dioleskan, plasti, uapnya, wardahs, cocoookkk, buaaaat, kulitttt, meredakaaan, ceria, socoboxku, rednesss, sagitu, bagos, utuk, mengembangkan, komplen, ditoleransi, dompetable, filter, dikulitga, wowwwwww, diindoor, eitss, mukaga, hihiuntuk, yrs, oldyg, untu, ngegumpal, sewajarnya, oengirimannya, dehidrated, eman, kupencet, digarisin, lembutteksture, sungguhlah, uap, ngucek, guysssssssssssssssssssssss, aquanyh, wardahbeauty, sip, yaacinta, ads, anakpun, invicible, clogs, casted, monyet, damaged, hwaa, allergies, glide, lancip, reapplies, minesnya, ultra, certain, sebegimana, investasi, exercising, basahberminyak, teksturenyabwarna, bola, riwayat, gesekan, mams, kacanya, puanas, kk, moiseture, gelkarna, ringanga, whitesact, productnyasoalnya, toddler, infant, areas, sedikiit, child, pengplikasikan, brandnya, pembuatan, wangiiiiii, golf, maksa, suprisinglyyy, untjk, grab, diskonada, allahuakbar, maleeess, tuntutan, timer, efektivitasannya, nyengatpanas, kekelingan, keramik, luvvvvvvvvvv, ngedip, datengnya, sikecil, lilla, nemuinnya, nyabyang, squezze, gasama, ngt, secompack, bibit, ketelan, useful, blkgan, applly, sofar, gampanga, gentongan, poresku, pokonyah, yaiti, adekeh, keberadaan, informasi, sehariandan, tanp, menganjurkan, dioutdoor, whitecastnyaa, dmna, gakpapa, mukaspf, dimaafkan, terbarus, kusamaromanya, ngelembap, brou, matteee, mukaaaaa, produkny, berminyaaak, tekanan, belinyah, ne, menghaluskannya, hiii, baguuuuuuuussssssssssssss, monggo, jauuuhh, lightwardah, pakau, greasi, sunscreennnnn, claimny, didobel, terlaluuuuu, hanis, xociolla, ngeclog, creamskincare, sawomatang, ro, enaa, sensitifkuu, sunscrrenya, sof, okei, timpah, onkir, thermo, buildable, titaniumzinc, oxide, vivo, sesuaila, sesayang, kt, bangetsih, ponakan, hadilnya, ultraviolet, auv, menghikangkan, suncsreen, cp, pekerja, hydratingcooling, tentram, hot, slippery, secooling, kentara, hajar, duperrr, nyatugk, menenang, diperkenalkan, memaximalkan, berkelas, mendesain, basahin, diluarnya, tq, daddy, lifestyle, alku, dehidrasiku, lessoily, favorable, sepuas, dibotol, makenyaaa, tapiiiiii, mengganti, duluaan, bagusdia, memudarrrrrrrrrr, aloeveranyaend, siku, bgtdan, bbb, sediit, lake, halushalus, ngejar, telinga, habit, whiteheadku, lass, bentarr, fulll, ampir, bagys, mengurangu, wahgelaseh, udahlah, eaaaa, sekeras, menangis, implementing, gotten, siputnya, acnee, cicaplast, kubawa, stgh, materials, huhuhuu, ngapain, peetama, philosophy, relies, naturederived, testing, ketekan, structures, moderately, duhh, gentlest, completed, malessezia, recyclable, planning, stage, mission, practices, tumpahnya, separable, jelasinnyaaa, pemakaiiann, skine, perskinkeran, thanksssss, favorites, salab, berkulit, sebotolnya, mayannnn, ngikis, poripun, thatmaybethis, rethink, delighted, iriiitt, kinclonggg, huwow, porii, jjang, dikunci, realized, yahasil, gmpng, mngkn, cintany, terpilihlah, likeyy, dryness, aplikasiiin, smoothy, didunia, generous, kgk, ush, tnya, pmkaian, krang, lebh, thun, alusin, nghydrate, dngb, beststtt, expoliator, nyelametin, diformulasiin, attached, setiapn, akrab, gasss, iritasikemerahan, haluslembut, xminggu, bisabisanya, exfoliasii, sembpet, heehhe, pynkan, yl, kecairan, call, bgtsdh, astaga, rajinin, diperkaya, avail, berries, baguuuuuuuuus, hasionya, menginggalkan, tutin, terlihattt, healed, bekerjanya, usinya, stku, dailyuse, ngeksfoliate, bernanah, finishny, deliver, awhile, dislike, senka, pollution, prfer, haricmiiw, sejenisnya, switch, tujuanku, langsungkalau, kepakai, besoknha, nuempel, unexpectedly, yutuber, milianya, perfectperfectperfectperfectperfectperfect, lamgsung, sukakarna, son, budgetku, struktur, kalopun, walalupun, choosed, yayg, un, jadigak, tahta, lulit, cenut, sellau, berminyaku, nyamum, timpali, kemajuan, lamalam, menclok, webnya, matiku, jgagak, ketii, diperoleh, atai, eksfonay, mengempis, sihteksturnya, murni, akuthis, thanksss, kupernah, sebelumnyalagi, tonerbini, discountnya, exception, akuhhh, kusemaman, pumpnha, jellyish, ise, bangetttttttttttttt, niatin, semild, fullnya, ketiii, miracle, mengehempas, mukapun, keputusan, kilangan, dilupa, ygfavorit, glowingjerawat, eror, jgg, tightening, solubel, dikapasnya, dikiiiit, ea, pakainyagak, mkn, tangankapas, tonique, overexfoliate, ktnya, numro, quarantine, alove, integrity, triling, don, rsa, trusted, cauter, sebelumm, gitukan, pour, repurcese, rprp, soapy, cheek, sesenengg, hubungin, terpengaruh, shout, inside, meee, cure, pergipergi, thanx, breeding, termanjur, et, ygkering, revitalift, freshly, rekomendasinya, iniluv, ensures, palmscotton, telatenin, clinical, tercinta, direpurcase, nntn, digemari, spent, bhauser, jaraaaaang, cucokkkk, whilst, mkek, kandungn, elastis, dblendga, sista, whiteheadblackhead, kedapetan, gtgabikin, sbenernya, cosrxs, finnaly, sangaaaattt, allrounder, alhamdullilah, effectivenessnya, ekstream, produuuctt, alternatifnya, licensed, tumbuhan, segentle, marks, merambah, cenat, utube, kepleset, ajab, thisbut, pengangkatan, konsistennya, glowly, hshshs, berminyaksetelah, coklatabu, hariroduct, kandungann, corx, supermild, iiittt, removing, skinluv, tmasuk, wooww, gabikij, overhydrating, masalahku, kelar, kuganti, bertapa, exfolitiator, loooovvveeee, rusakkemerahan, dikukut, memnag, socoboxx, ngirimin, ngumpulin, ngerekomendasiin, ohmaygod, disebutin, juiced, oilfree, jejerawat, huehehehe, diapdet, socoboxxx, regeneration, sekinclong, menangkat, kutus, vegetables, nglembapin, saythankyou, daguku, tonernyaakhirnya, ilangrecommended, hdlb, pickyreview, kulihat, reactions, variants, able, further, semaksimal, tonenr, mandipun, dipaduin, sensitivedia, seperempat, hempasin, bersihhh, barbandesis, hyalurionic, beuh, wajih, pengan, produknyasemoga, jerawatbut, jgaa, bentonpicky, aktip, nyeri, seejauh, ean, emmm, maaahhh, menyerapmeurutku, diedit, buildup, semsitif, eczema, benerbeber, diapain, routinennya, bentoncosmeticscom, determinants, blockage, kulie, optimally, confused, choosing, determined, tends, contents, palm, hows, keringcekat, deffo, flareup, ditekennya, seriesnya, hydroxy, functions, included, mdf, carenyatrnyata, bgtalhamdulillahreorder, onlinenya, servisnya, berbagi, eczemaku, kumat, mungkan, written, slip, confirmed, secrets, aromnya, pasalnya, meh, pendampingnya, complaining, cuii, opportunity, preservatives, rxfoliasinya, adjust, beberapakalitapi, ininyaman, sensitifberminyak, berjerawatsejauh, ajayang, baginya, lembabdan, ngebingungin, youve, melembabkanno, alrd, swab, avoid, penetrating, shrinks, bosan, matchnya, bekasnnya, sukaaak, beruntusann, wrapnya, stickyleave, branda, hidrate, eu, uni, aktifivas, ngehabisinnya, nongolnya, sos, usek, samplenya, caor, potentially, wondering, sekalu, coooy, discovered, gradakantp, sdan, awalan, entengg, breakoutkarena, harua, sukakalo, menghilangtrs, badly, sangaaatttt, expnya, salacylic, perskinceran, ngresap, telapan, segituan, burning, ringaaaaaaan, previously, poreminimizing, sound, le, barely, separately, ngeklaim, akualebay, megandung, idungku, lagikomedonya, gituwhitehead, diselangseling, expert, batch, sik, dibland, demiapaaa, ininaku, sensifit, candra, lagimakenya, memperhatikan, penampilan, dongs, bergelut, entertain, nongkrong, santainya, ayah, acv, gjtu, warnah, biasnya, termild, kuuuu, hehewe, sisss, bare, juya, repurchasenomau, tuhya, tapin, mengeksfoliate, tembut, rajinnya, ceritanya, keringmungkin, ditame, mukarasanya, anniversary, bioderma, msaffi, uenak, komedoperlahan, pumpuntuk, rehydrate, duperuntukan, terluar, fellxo, airylite, bpom, ingredentsnya, antri, terlepas, ngebersiin, kencengan, woow, lainnyameskipun, lembabcerah, wakwkwakkwak, iini, sending, hargannya, gimananya, skincarelg, hariaku, menurutkutoner, patience, yayyyy, superrrrr, sedikittttt, menjanjikannya, dijadii, maksimaldan, lembutsuka, bertexture, komores, belasan, andalanque, sekaranghasilnya, dimukakutp, tapit, mengkompensasi, nyadar, pigmentasi, mingkem, kecapai, tembus, bangetmeski, tembusnya, multitalent, priecy, lines, sirna, nyabar, drycombination, higienic, decreases, comedos, surfaced, menyedarkan, ssuuukaaaaaaa, pagipun, didara, siiihh, tadaaaa, diinget, phnya, golongan, pengemasannya, dechhh, bangettrus, mejik, hates, bhas, wardahxsociolla, ditest, lie, ataupum, kecik, kecerahannya, didapatkan, nikahnya, melengkapi, mily, bngttcocok, aspect, hoping, girlies, spotku, colder, retention, weather, lamgsumg, yanb, effectivee, bahanny, hahahahha, langsg, reallll, cancels, looked, process, achibe, peny, ricee, mkasih, cab, yahud, sengelembapin, ricewater, inidari, wrote, moree, realy, tkt, cerahanbikin, halussukaa, downsidenya, dries, buyyyy, ceraaah, agakk, repurhase, mahaaal, mature, lest, bangettnext, goodini, klalau, direfill, lipatnyayangbukuran, traveliing, brigthen, tryc, kiehls, lgg, rush, mayybe, nyaayaa, wonderful, completely, collagen, setenang, befungsi, lmao, idt, ngeceharin, hakus, cocoklah, teus, unboxing, lembutnya, progresses, looovvee, french, muchhhhh, mrs, jakartabogor, paginga, ongkos, boroos, menyaingi, rare, remehin, tingal, splendiid, masoookkk, gototoner, tiny, glassy, soldout, repurchasr, cerahaan, welsh, james, ditambaj, ai, jatohny, seriesny, faintly, sweet, cookies, sembuhsudah, wajahq, sociollasebenernya, junkies, ngerekomen, growth, tumpahtumpah, dibolakbalik, mengapung, dicobacoba, shinny, sizs, hidrated, rekomed, million, ysng, dicobaa, ssuka, ituuuuu, ngoles, pembuktin, problemnya, somewhere, gitumencerahkan, memverahkan, hihihiii, applikasi, istri, jagonya, loveess, dropped, hnya, te, tanyain, verrry, normalcombi, dopame, experiences, mecerahkan, yesssh, yeessh, mencerahkanny, terlihaaaat, takjub, maukan, cumann, kayaaa, mulusss, semuanyaa, bakalaan, terhempasssss, balurkan, haiii, runtutan, setelahnyaahmmmmmmmmmmmm, siihhhh, ngengat, meringkes, trsa, lmbab, dibatam, besarr, selana, kekumpul, acnebruntusan, apllicatornya, esssence, asliii, tisue, information, reseller, bulak, kebentur, welcome, universe, peragakan, iyaaaa, hehehehehheheheheh, mencerahkann, akuupengirimannha, sewarm, kooo, isokey, kkadu, berbaur, jungkir, disqueeze, nyamannn, waaahhhh, keliling, ditolelir, iniuntuk, weei, belm, berharapsangat, sukakkkkkk, berminyakkk, seterusnyaa, skincarepun, basicskinid, galengket, terjawab, amatpadahal, kesentuh, teruskan, niacinamideretinolahabha, tungguin, kileng, nonacnegenci, yaituu, jendol, penasaranku, sistuh, setelapak, intolerant, matengdan, pakagingnya, dipemakaian, yesterday, ceapt, iniiimungkin, sejam, blotting, gantinya, jerawatjerawatku, kekapas, refreshingnya, yea, powdernya, nonkomedogenik, tertariklah, overtime, booo, baguuuuuuus, bekasi, smapai, adembikin, itkarna, left, moiatur, bngetdari, dijadikam, peking, yuhu, bagoos, exfonyaa, dikotak, nyicip, moisttttt, cetaknya, kisah, sensitivee, gamechanger, boosts, radiance, cobq, bamgettt, nkt, tbeir, grailll, wara, wiri, scentsmell, hahhaha, jugasampe, aura, uuuuu, compress, paarrraah, biy, chas, rekomendas, akhirnyaa, yamenurutku, diblendingdiratakan, ajaaberminyak, akunge, saatabis, terjangkauini, kesukaaaan, through, convinient, yaamain, maskipun, gituuuharganya, berolahraga, krem, jdiin, warm, pst, combinationoily, lapar, nyisain, matalagi, menyerappun, trserap, karakteristik, minimalisnya, blok, tidakmelainkan, diwajahganingkalin, pakainyakulit, smw, majumundur, gilaaaa, skinkarisma, tll, forsure, puolllll, jyga, punkangyul, sesimpel, maintance, pencipta, seabrek, loff, pkenya, mendambadambakan, kupas, thdp, jsjsnssd, perume, tpy, kebangun, bakunya, apkikator, terburuburu, pictures, miniature, pyunkangyull, twiter, terhura, hydrationnyam, kesebar, basemakeup, mantepp, offer, cs, post, thissss, partical, nov, holygrailnya, diramu, august, nozzle, franiaminzala, bahannyaa, browsing, hyerate, penjelasan, belakangnya, mudab, berhari, enaaaa, tajem, jaih, sekarnag, imp, yullll, aoke, spesifikasi, noone, hyping, imoo, niatku, badannya, navy, kepala, terpikirkan, meniatkan, wakes, sam, nano, kwkwkw, kakaku, brandlokal, kwkwkwk, dng, terbantu, peluang, pisann, rusuh, idup, kerancunan, mutual, iuga, ngehyrdrate, nfhm, ngelupasnya, obatherbaljamu, obatin, keangkatt, ditepukan, thankyouuu, msi, fhmaa, agents, geda, near, ngehydratejuga, mositurizing, specify, particular, generally, fase, melewati, mantuliti, berjeriwit, polan, ngredeain, variab, akhirakhir, menghadapi, bump, talut, teruta, harapanku, glycolic, aerrrrr, gilaaaaaaaa, anjurannya, restockrestock, ceuuu, antioxidants, specific, kecintaaanku, lemayan, azaaaa, rosacea, bentukanya, journey, checking, nyebarnya, pkein, capet, gauge, bath, daepet, lembabkulitky, manageable, wudhy, texturings, units, prubahan, reapplied, trrnyata, stopping, suitability, whether, users, preferences, selec, bue, hihihijijijij, isii, kemeren, widely, vary, fellas, dipakelebut, tonerapa, favoriteku, purely, kegerahan, seoertinya, plumpp, gehe, taste, looksnyaa, hilanggg, dearestt, oiluy, feelmya, expensiveeeee, mediocre, mukanyaaa, firstly, kesukaanmu, bagis, toneer, buagussss, sesukaaaa, goodluck, guuyss, benwr, radaa, repurch, wajahkuuu, hahaa, setiapppp, cantikkk, walaukun, repurchaseteksturnya, bangedddd, baguuusss, kmrm, wkwwkwk, smoothes, malehong, cong, mgu, semingguterus, pertimbanganku, lengkel, convince, terika, sehalus, ampuhhhh, kusamjuga, strongmust, puchase, sgtttt, bngttt, boothnya, staple, stocked, necessary, jajaran, brake, definetely, holygrailllll, extracts, beneeran, hrgaa, brintik, clars, adeena, drawn, innovative, sebeluk, come, nan, semsitive, bbl, luxurious, scrambled, egg, paripurna, seendul, dipercaya, oroce, dibaca, frag, deference, cosrex, tirex, melembabkannnn, simplee, contaminate, serjng, makeupku, benr, laluu, skincaran, kiss, pricier, jugapokoknya, pennytapi, kosongnya, eeeuuy, bahnya, prmbelian, waijib, definately, packaing, looovee, proper, sensitize, diruang, ngelopek, higenjs, juat, ksh, rotten, raktis, vertical, probs, mentok, pengaplikasiaannya, inceran, except, skincarejunur, mouise, nganggur, oiky, wanting, milkyyy, sooner, oneeeee, pemakaiannnya, eat, mewakilin, bintangmahayanacom, kualitass, sihthe, keluatan, sutra, became, glowt, kerana, menyejukkan, iswear, raved, kubilang, ketahihan, possible, strongly, guyssss, beliiiii, froms, mosturized, belik, duduk, burns, gacukup, ngecerahinnya, leaved, influencers, wooow, tnggl, maintaining, meeee, httpswwwtokopediacompklstore, overrated, keraeat, isengnya, nihhh, hmmmmm, gitusih, tonernyamungkin, penghabisan, maximalwalaupun, ngempesinmenghempaskan, muraaaaah, buuut, merahnyaaa, dahlah, kult, tokopedia, miringlebih, ti, bengong, terbaikterbest, bgtjadi, sihsukaaaa, botolterima, menciptakan, pertimbangannya, eaaa, ngandelin, pekalongan, yahhh, termantullllll, tonerrrr, ringannya, refreshment, atikarizkyd, reapet, nightmare, sakittttt, sesakit, dimasak, jauhhh, menjauhi, seuuus, bagibagi, itungitung, beramal, ager, ketahui, aammiinn, continuously, levelnya, asumsiku, ngadat, nyiprat, valve, nuangnya, dare, overexfoliation, seringkali, ngha, brudulpilling, basicly, hollygrail, bagusutk, grapeseed, ukuranny, kenangan, panuan, sulphur, pressed, healthylook, memng, nyobaaaa, rugiii, gedeeee, ngerataiinnya, lembabuntuk, sebumku, setingkat, panasgerah, redam, pucat, tuiya, pkek, remedy, appear, nyaits, abisan, seproduk, kembaliin, elsheskinnya, nyegerinnya, kaliam, meruncing, silicot, broken, samaproduk, lobe, dripd, bangetbiasanya, trsan, lembabsuka, haslnya, haluuss, peelingnya, cepeeett, ngngkat, pelepasan, menghianati, occasional, greeny, lembutkenyal, selaluuu, nyicipin, lippen, ngangka, mengcover, terxtyrenya, sebualn, tinernya, ngerbersihin, abisssss, peredaan, jerawatnyaa, smallmediumsampe, perawatannya, kcil, tertulis, euyyy, excess, beuhhhh, keliaatan, subhanallah, designya, tambahannya, sesnsitive, treatmentmya, selanjutnyaa, negatively, blemishes, decreased, runs, tabung, mode, req, larinya, hikin, ditahan, bertahansih, dipackaging, outdoorsemi, militer, surprisssiiinggglyyy, dikejarkejar, luwar, binasalebay, enaaaakkkk, tektusrnya, purgingbooily, berselancar, bestiee, niihhh, ray, soooomuchhhh, lembaga, elektronik, dilapis, efffect, kebayangnya, yt, faces, bangeeeeeetttt, fluorescent, jariyaa, kao, truve, kenak, shes, lives, hilalnya, nakar, glownya, thxxxxxdxx, inovasinya, kinan, hidrasiku, ngambang, klenyeeer, ngelirik, ngedumpel, sepedaan, lopp, sesederhana, ngesetkering, probio, pacaran, andd, ngebeli, zaman, ngehilangin, elemen, membantuku, healthyglowy, dermatologi, formulasikan, pakeein, tote, diam, berparfum, linea, blended, makesure, blandable, essencs, alcoholits, rekomendasiintapi, terhidrasimemang, cheers, dirikuuu, niveaku, obvi, rec, longlasting, finishnyaa, lighweight, freee, cintah, teksturnhya, berbukanbulan, beratmungkin, keringkalo, points, account, shaking, putul, jahara, jugaaaaaa, nurulmulyaputri, bnton, baek, padsnya, kebanyakkan, gakayak, ajaah, ngitung, botolbener, akungangkat, jerawatsampe, jugaaalways, lbab, lbut, mememenuhi, segila, aou, menjinak, kesegel, aeon, sentul, tuangkan, ssuuukkaa, ngempeskan, trevel, potent, mmm, ekspektasikan, tiptop, repurchage, dicobalumayan, tenangwajah, gtuaromanya, qajah, waaaaaaaaw, mihilll, tercetak, ran, hoarder, huff, bertransformasi, thailand, board, tersegel, fatty, terthe, gakbisa, aldo, slay, ditype, distore, promising, menyeral, whitacase, gabis, produce, pencerahannya, cobaaaaaa, es, portable, tameng, waterbase, sepewe, miragile, allhamdulillah, enakkkjadiii, pernahhh, reliable, matahariii, texturs, makeny, tanteku, wabah, ngaplikasikannya, dibangun, dsociolla, sumscren, whoever, aware, obsession, tunggudi, wjib, seworks, bothering, heat, kemasana, kitah, tee, bbsunscreen, berceceran, ajasihh, terukur, smriwing, burned, maunya, dewit, yaks, wkwkwkkwwk, kecewaaa, ass, thatll, tad, digunakaan, sunscreenessential, trip, dropletsnya, reaply, gasnya, kebaca, lengkapi, kerasssss, specifically, runcing, nggada, sentuhan, terringan, makeupfor, terunik, worries, keluarr, loooveee, dominasi, signaturenya, makeupwarna, poulll, blending, membelinya, hinyaii, lost, count, pokoknua, sunscreennn, oiliness, ovrall, tenangggg, ngubah, whitecastt, sunscrenn, weenak, suerrr, sansi, tine, switching, suprisinglyy, pavi, tolelir, disamping, sangt, avordable, whitecasts, anywhere, vanillascent, terantiribet, indra, warnya, gapunya, jadu, hayookk, bagin, ringaaaan, kulitlu, kmrni, cakeb, masterpieceee, eyecathing, ngarahinnya, tunggutunggu, offers, biking, seinget, vanila, twicedaily, chinese, traditional, orientalherbal, meruntuhkan, nempell, beneraan, grease, refreshingcpt, menyerapharga, okeso, persiapan, lainnyabotolnya, kebanyakn, nygerin, mantuul, yuul, socalled, hypedup, textueenya, appreciate, euka, kipas, suffocating, backarmcovering, allow, exceed, ngegym, finest, latest, excuses, purse, dilirik, secured, sups, reluctant, baunyq, mempersimple, gooo, spraying, lengan, reallly, boat, ups, settle, ethanol, vacation, dibandi, kuningcream, streak, foundationku, alittle, buyer, outdoornya, resistant, rundown, swam, banana, powderr, molly, texturee, segudang, freaking, pokoonya, sayangg, bruntuslembabga, komedoluv, tambahh, ahabhanya, membawa, meminimalkam, mengikis, pucet, bangettcepat, jualnya, reaktif, kebanyaka, smoooooottthhh, senyesek, pemeriksaan, dibandara, seamaze, akurasai, wohooo, inisukak, pekatkental, pagimalm, sedikin, loveeeeee, uhh, mbk, putrimelati, walaopun, tenanggg, satupun, runtuh, keringsembuh, bebel, kuuuuuuuu, mudahnya, regarding, ajibbb, cannot, peeps, gakebanyakan, gakekurangan, scared, causing, superrrr, fash, mmmhhhawalnya, combined, reaaally, sangatdisayangkan, berhak, whislist, persentasi, aplikasiinya, aweettt, wey, disk, orangakhirnya, twalaaa, bai, komedoyg, betebaran, catatan, namanyaa, makeku, dosawajah, semacamnya, penggemar, ekstraknya, miliah, miliaku, jaraaang, knowledge, diikuti, aree, daiky, kaloo, kekk, walaupunnn, dibandinginn, era, tekskurnya, ketangan, selaludibawa, lembablembab, skinc, menetralkan, ajaj, nandain, menurutkukerja, menikmati, mengagetkan, greesy, yaang, costs, skinpreppp, ssoooo, gorrgg, hanget, ambles, tipisss, airrrr, gampanh, gageser, chemie, persuncreenan, shsunscreen, surprises, mengsexih, murcekkkk, cakeupppp, nangkring, banaget, ditakar, donts, terlihatt, nyekitnyekit, dismon, untill, ooo, benci, dos, menyediakan, berdebu, pertam, cekir, gituch, seexcited, mempertimbangkan, itan, dehringan, jh, beuuuuuh, pewe, mupon, mrka, pars, gesek, bodoamat, gosoknya, cmiww, cyinn, pluusss, eits, padukan, cekitnya, tpiiii, yaw, kexklo, cleanserkyknya, stiky'"
      ]
     },
     "execution_count": 30,
     "metadata": {},
     "output_type": "execute_result"
    }
   ],
   "source": [
    "', '.join(word_freq_df['word'].to_list())"
   ]
  },
  {
   "cell_type": "code",
   "execution_count": 31,
   "metadata": {},
   "outputs": [],
   "source": [
    "words_to_remove = word_freq_df['word'].head(100).tolist()"
   ]
  },
  {
   "cell_type": "code",
   "execution_count": 32,
   "metadata": {},
   "outputs": [],
   "source": [
    "negative_words = [\n",
    "    # Skin problems\n",
    "    'jerawat', 'iritasi', 'gatal', 'breakout', 'bintik', 'bruntusan', 'komedo', 'kusam', 'berminyak',\n",
    "    'merah', 'perih', 'panas', 'kemerahan', 'berjerawat', 'beruntusan', 'berkomedo', 'noda', 'flek',\n",
    "    \n",
    "    # Product issues\n",
    "    'lengket', 'mengelupas', 'berminyak', 'kering', 'kasar', 'berat', 'tebal', 'keras',\n",
    "    'whitecast', 'putih', 'pilling', 'menggumpal', 'mengkilap', 'berminyak',\n",
    "    \n",
    "    # Negative reactions\n",
    "    'alergi', 'sensitif', 'reaksi', 'ruam', 'bengkak', 'memerah', 'kusam', 'gelap',\n",
    "    \n",
    "    # Negative sentiments\n",
    "    'kecewa', 'nyesel', 'buruk', 'mahal', 'mengecewakan', 'buang', 'rugi', 'zonk', 'gagal',\n",
    "    'jelek', 'parah', 'sia', 'buang', 'boros', 'susah', 'aneh', 'kurang', 'tidak', 'enggak',\n",
    "    'males', 'bete', 'benci', 'jangan', 'hindari', 'skip', 'stop',\n",
    "    \n",
    "    # Performance issues\n",
    "    'lambat', 'lama', 'memburuk', 'memperburuk', 'membekas', 'menghitam', 'menumpuk',\n",
    "    'percuma', 'sia', 'buang', 'habis', 'cepet', 'boros', 'banyak', 'sedikit',\n",
    "    \n",
    "    # Negative intensifiers\n",
    "    'sangat', 'banget', 'terlalu', 'super', 'parah', 'sekali'\n",
    "]"
   ]
  },
  {
   "cell_type": "code",
   "execution_count": 33,
   "metadata": {},
   "outputs": [],
   "source": [
    "def clean_text(text, sentiment):\n",
    "    # Get preprocessed words\n",
    "    words = text.split()\n",
    "    \n",
    "    if sentiment == 'positive':\n",
    "        # For positive reviews, remove positive words unless they're part of negative context\n",
    "        words = [word for word in words if (word not in words_to_remove) or (word not in negative_words)]\n",
    "    elif sentiment == 'neutral':\n",
    "        # For neutral reviews, keep all words but emphasize negative ones\n",
    "        words = [word for word in words if word not in words_to_remove]\n",
    "    # For negative reviews, keep all words as is\n",
    "    \n",
    "    return ' '.join(words)\n",
    "\n",
    "# Apply to DataFrame\n",
    "df['processed_review'] = df.apply(lambda x: clean_text(x['processed_review'], x['sentiment']), axis=1)"
   ]
  },
  {
   "cell_type": "code",
   "execution_count": 34,
   "metadata": {},
   "outputs": [
    {
     "data": {
      "text/html": [
       "<div>\n",
       "<style scoped>\n",
       "    .dataframe tbody tr th:only-of-type {\n",
       "        vertical-align: middle;\n",
       "    }\n",
       "\n",
       "    .dataframe tbody tr th {\n",
       "        vertical-align: top;\n",
       "    }\n",
       "\n",
       "    .dataframe thead th {\n",
       "        text-align: right;\n",
       "    }\n",
       "</style>\n",
       "<table border=\"1\" class=\"dataframe\">\n",
       "  <thead>\n",
       "    <tr style=\"text-align: right;\">\n",
       "      <th></th>\n",
       "      <th>product_url</th>\n",
       "      <th>rating</th>\n",
       "      <th>review</th>\n",
       "      <th>scraped_at</th>\n",
       "      <th>sentiment</th>\n",
       "      <th>processed_review</th>\n",
       "    </tr>\n",
       "  </thead>\n",
       "  <tbody>\n",
       "    <tr>\n",
       "      <th>0</th>\n",
       "      <td>https://www.sociolla.com/face-cream-lotion/16544-sky-rose-moisturizer</td>\n",
       "      <td>4.8</td>\n",
       "      <td>udah minggu pake honestly ngerasa bagus banget sempet bingung yg blue moon condong beli teksturnya ga tebel tp pakenya jgn kalo tipe muka berminyak lembab banget cocok</td>\n",
       "      <td>2025-01-29 14:16:01</td>\n",
       "      <td>positive</td>\n",
       "      <td>udah minggu pake honestly ngerasa bagus sempet bingung yg blue moon condong beli teksturnya ga tebel tp pakenya jgn kalo tipe muka lembab cocok</td>\n",
       "    </tr>\n",
       "    <tr>\n",
       "      <th>1</th>\n",
       "      <td>https://www.sociolla.com/face-cream-lotion/16544-sky-rose-moisturizer</td>\n",
       "      <td>4.8</td>\n",
       "      <td>pakai claim nya melembabkan kulit wajah diperuntukan dry skin rasakan efeknya melembabkan pakai malam bangun tidur wajah moist gak sampe berminyak banget kulit wajah keliatan glowing alhamdulilah gak keluhan anehaneh kulit sensitif so far suka ganti moisturizer coba karna gak cocok hehehe</td>\n",
       "      <td>2025-01-29 14:16:01</td>\n",
       "      <td>positive</td>\n",
       "      <td>pakai claim nya melembabkan kulit wajah diperuntukan dry skin rasakan efeknya melembabkan pakai malam bangun tidur wajah moist gak sampe kulit wajah keliatan glowing alhamdulilah gak keluhan anehaneh kulit so far suka ganti moisturizer coba karna gak cocok hehehe</td>\n",
       "    </tr>\n",
       "    <tr>\n",
       "      <th>2</th>\n",
       "      <td>https://www.sociolla.com/face-cream-lotion/16544-sky-rose-moisturizer</td>\n",
       "      <td>5.0</td>\n",
       "      <td>beli produk emang nyari moisturizer trus pas dateng suka banget sm packagingnya spatula trus lucu aja gitu cocok kulitku halus kulitku kombinasi cenderung berminyak gitu ga bikin berminyak sih ga bikin jerawatan bruntusan so far sukaa</td>\n",
       "      <td>2025-01-29 14:16:01</td>\n",
       "      <td>positive</td>\n",
       "      <td>beli produk emang nyari moisturizer trus pas dateng suka sm packagingnya spatula trus lucu aja gitu cocok kulitku halus kulitku kombinasi cenderung gitu ga bikin sih ga bikin jerawatan bruntusan so far sukaa</td>\n",
       "    </tr>\n",
       "    <tr>\n",
       "      <th>8</th>\n",
       "      <td>https://www.sociolla.com/face-cream-lotion/16544-sky-rose-moisturizer</td>\n",
       "      <td>3.8</td>\n",
       "      <td>kulitku yg super berminyak teksturny lumayan pekat jd mesti pake tipis banget biasany pake utk ngseal skin care malem kalo pake exfo serumtoner paginy lumayan lembab gak bikin kering dgn hargany sbnerny worth it ngefek tp krna tekstur trlalu thick jd bikin rawan over hidrasi kulitku and yess suka packaging yg pake karton daur ulang</td>\n",
       "      <td>2025-01-29 14:16:24</td>\n",
       "      <td>positive</td>\n",
       "      <td>kulitku yg teksturny lumayan pekat jd mesti pake tipis biasany pake utk ngseal skin care malem kalo pake exfo serumtoner paginy lumayan lembab gak bikin dgn hargany sbnerny worth it ngefek tp krna tekstur trlalu thick jd bikin rawan over hidrasi kulitku and yess suka packaging yg pake karton daur ulang</td>\n",
       "    </tr>\n",
       "    <tr>\n",
       "      <th>11</th>\n",
       "      <td>https://www.sociolla.com/face-cream-lotion/16544-sky-rose-moisturizer</td>\n",
       "      <td>5.0</td>\n",
       "      <td>nyoba produk mois nya jenis gtu yg satunya mengndung alkohol pilih non alkohol semoga aja cocok review kelanjutannya pake thanks</td>\n",
       "      <td>2025-01-29 14:16:24</td>\n",
       "      <td>positive</td>\n",
       "      <td>nyoba produk mois nya jenis gtu yg satunya mengndung alkohol pilih non alkohol semoga aja cocok review kelanjutannya pake thanks</td>\n",
       "    </tr>\n",
       "  </tbody>\n",
       "</table>\n",
       "</div>"
      ],
      "text/plain": [
       "                                                              product_url  \\\n",
       "0   https://www.sociolla.com/face-cream-lotion/16544-sky-rose-moisturizer   \n",
       "1   https://www.sociolla.com/face-cream-lotion/16544-sky-rose-moisturizer   \n",
       "2   https://www.sociolla.com/face-cream-lotion/16544-sky-rose-moisturizer   \n",
       "8   https://www.sociolla.com/face-cream-lotion/16544-sky-rose-moisturizer   \n",
       "11  https://www.sociolla.com/face-cream-lotion/16544-sky-rose-moisturizer   \n",
       "\n",
       "    rating  \\\n",
       "0      4.8   \n",
       "1      4.8   \n",
       "2      5.0   \n",
       "8      3.8   \n",
       "11     5.0   \n",
       "\n",
       "                                                                                                                                                                                                                                                                                                                                           review  \\\n",
       "0                                                                                                                                                                         udah minggu pake honestly ngerasa bagus banget sempet bingung yg blue moon condong beli teksturnya ga tebel tp pakenya jgn kalo tipe muka berminyak lembab banget cocok   \n",
       "1                                               pakai claim nya melembabkan kulit wajah diperuntukan dry skin rasakan efeknya melembabkan pakai malam bangun tidur wajah moist gak sampe berminyak banget kulit wajah keliatan glowing alhamdulilah gak keluhan anehaneh kulit sensitif so far suka ganti moisturizer coba karna gak cocok hehehe   \n",
       "2                                                                                                      beli produk emang nyari moisturizer trus pas dateng suka banget sm packagingnya spatula trus lucu aja gitu cocok kulitku halus kulitku kombinasi cenderung berminyak gitu ga bikin berminyak sih ga bikin jerawatan bruntusan so far sukaa   \n",
       "8   kulitku yg super berminyak teksturny lumayan pekat jd mesti pake tipis banget biasany pake utk ngseal skin care malem kalo pake exfo serumtoner paginy lumayan lembab gak bikin kering dgn hargany sbnerny worth it ngefek tp krna tekstur trlalu thick jd bikin rawan over hidrasi kulitku and yess suka packaging yg pake karton daur ulang   \n",
       "11                                                                                                                                                                                                               nyoba produk mois nya jenis gtu yg satunya mengndung alkohol pilih non alkohol semoga aja cocok review kelanjutannya pake thanks   \n",
       "\n",
       "             scraped_at sentiment  \\\n",
       "0   2025-01-29 14:16:01  positive   \n",
       "1   2025-01-29 14:16:01  positive   \n",
       "2   2025-01-29 14:16:01  positive   \n",
       "8   2025-01-29 14:16:24  positive   \n",
       "11  2025-01-29 14:16:24  positive   \n",
       "\n",
       "                                                                                                                                                                                                                                                                                                   processed_review  \n",
       "0                                                                                                                                                                   udah minggu pake honestly ngerasa bagus sempet bingung yg blue moon condong beli teksturnya ga tebel tp pakenya jgn kalo tipe muka lembab cocok  \n",
       "1                                           pakai claim nya melembabkan kulit wajah diperuntukan dry skin rasakan efeknya melembabkan pakai malam bangun tidur wajah moist gak sampe kulit wajah keliatan glowing alhamdulilah gak keluhan anehaneh kulit so far suka ganti moisturizer coba karna gak cocok hehehe  \n",
       "2                                                                                                   beli produk emang nyari moisturizer trus pas dateng suka sm packagingnya spatula trus lucu aja gitu cocok kulitku halus kulitku kombinasi cenderung gitu ga bikin sih ga bikin jerawatan bruntusan so far sukaa  \n",
       "8   kulitku yg teksturny lumayan pekat jd mesti pake tipis biasany pake utk ngseal skin care malem kalo pake exfo serumtoner paginy lumayan lembab gak bikin dgn hargany sbnerny worth it ngefek tp krna tekstur trlalu thick jd bikin rawan over hidrasi kulitku and yess suka packaging yg pake karton daur ulang  \n",
       "11                                                                                                                                                                                 nyoba produk mois nya jenis gtu yg satunya mengndung alkohol pilih non alkohol semoga aja cocok review kelanjutannya pake thanks  "
      ]
     },
     "execution_count": 34,
     "metadata": {},
     "output_type": "execute_result"
    }
   ],
   "source": [
    "df.head()"
   ]
  },
  {
   "cell_type": "code",
   "execution_count": 35,
   "metadata": {},
   "outputs": [
    {
     "data": {
      "text/plain": [
       "count    13900.000000\n",
       "mean        23.599568\n",
       "std         16.877302\n",
       "min          0.000000\n",
       "25%         13.000000\n",
       "50%         20.000000\n",
       "75%         29.000000\n",
       "max        340.000000\n",
       "Name: processed_review, dtype: float64"
      ]
     },
     "execution_count": 35,
     "metadata": {},
     "output_type": "execute_result"
    }
   ],
   "source": [
    "# Preview length of reviews\n",
    "df['processed_review'].apply(lambda sent: len(sent.split())).describe()"
   ]
  },
  {
   "cell_type": "code",
   "execution_count": 49,
   "metadata": {},
   "outputs": [],
   "source": [
    "# Define constants first\n",
    "MAX_LENGTH = 23\n",
    "VOCAB_SIZE = 13_900\n",
    "\n",
    "# Initialize tokenizer\n",
    "tokenizer = Tokenizer(num_words=VOCAB_SIZE, oov_token='<OOV>')\n",
    "\n",
    "# Choose one column for processing (either 'cleaned_review' or 'processed_review')\n",
    "# Here we'll use 'cleaned_review' as it seems to be the final version\n",
    "tokenizer.fit_on_texts(df['processed_review'])\n",
    "\n",
    "# Create sequences and pad them\n",
    "sequences = tokenizer.texts_to_sequences(df['processed_review'])\n",
    "padded_sequences = pad_sequences(sequences, maxlen=MAX_LENGTH, padding='post')"
   ]
  },
  {
   "cell_type": "code",
   "execution_count": 50,
   "metadata": {},
   "outputs": [],
   "source": [
    "# Split data\n",
    "X = padded_sequences\n",
    "y = df['sentiment']\n",
    "X_train, X_temp, y_train, y_temp = train_test_split(X, y, test_size=0.2, random_state=42)\n",
    "X_val, X_test, y_val, y_test = train_test_split(X_temp, y_temp, test_size=0.5, random_state=42)"
   ]
  },
  {
   "cell_type": "code",
   "execution_count": 51,
   "metadata": {},
   "outputs": [
    {
     "data": {
      "text/plain": [
       "(13900, 6)"
      ]
     },
     "execution_count": 51,
     "metadata": {},
     "output_type": "execute_result"
    }
   ],
   "source": [
    "df.shape"
   ]
  },
  {
   "cell_type": "code",
   "execution_count": 52,
   "metadata": {},
   "outputs": [
    {
     "name": "stdout",
     "output_type": "stream",
     "text": [
      "X_train: (11120, 23)\n",
      "y_train: (11120,)\n",
      "X_val: (1390, 23)\n",
      "y_val: (1390,)\n",
      "X_test: (1390, 23)\n",
      "y_test: (1390,)\n"
     ]
    }
   ],
   "source": [
    "print(\"X_train:\", X_train.shape)\n",
    "print(\"y_train:\", y_train.shape)\n",
    "print(\"X_val:\", X_val.shape)\n",
    "print(\"y_val:\", y_val.shape)\n",
    "print(\"X_test:\", X_test.shape)\n",
    "print(\"y_test:\", y_test.shape)"
   ]
  },
  {
   "cell_type": "code",
   "execution_count": 57,
   "metadata": {},
   "outputs": [],
   "source": [
    "# Define unified training function\n",
    "def train_model_unified(model_type, X_train, X_val, y_train, y_val, vocab_size, max_len=MAX_LENGTH):\n",
    "\n",
    "    class_weights = compute_class_weight(\n",
    "        'balanced', classes=np.unique(y_train), y=y_train\n",
    "    )\n",
    "    class_weight_dict = dict(zip(np.unique(y_train), class_weights))\n",
    "    print(\"Class Weight (Balance): \", class_weight_dict)\n",
    "    \n",
    "    # Convert labels to categorical\n",
    "    le = LabelEncoder()\n",
    "    y_train_encoded = le.fit_transform(y_train)\n",
    "    y_val_encoded = le.transform(y_val)\n",
    "    \n",
    "    y_train_cat = tf.keras.utils.to_categorical(y_train_encoded)\n",
    "    y_val_cat = tf.keras.utils.to_categorical(y_val_encoded)\n",
    "    \n",
    "    # Create model based on type\n",
    "    if model_type == 'lstm':\n",
    "        model = create_lstm_model(vocab_size, max_len=max_len)\n",
    "    elif model_type == 'cnn':\n",
    "        model = create_cnn_model(vocab_size, max_len=max_len)\n",
    "    elif model_type == 'gru':\n",
    "        model = create_gru_model(vocab_size, max_len=max_len)\n",
    "\n",
    "    # Preview model architecture\n",
    "    print(model.summary())\n",
    "    \n",
    "    early_stopping = EarlyStopping(\n",
    "        monitor='val_accuracy',\n",
    "        patience=10,\n",
    "        restore_best_weights=True\n",
    "    )\n",
    "    \n",
    "    reduce_lr = ReduceLROnPlateau(\n",
    "        monitor='val_loss',\n",
    "        factor=0.2,\n",
    "        patience=5,\n",
    "        min_lr=0.00001\n",
    "    )\n",
    "    \n",
    "    history = model.fit(\n",
    "        X_train, y_train_cat,\n",
    "        epochs=10,\n",
    "        batch_size=16,\n",
    "        validation_data=(X_val, y_val_cat),\n",
    "        class_weight=class_weight_dict,\n",
    "        callbacks=[early_stopping, reduce_lr]\n",
    "    )\n",
    "    \n",
    "    return model, le, history\n",
    "\n",
    "# Define model architectures of LSTM\n",
    "def create_lstm_model(vocab_size, embedding_dim=64, max_len=100):\n",
    "    model = Sequential([\n",
    "        Embedding(vocab_size, embedding_dim, input_length=max_len),\n",
    "        LSTM(16, dropout=0.1, return_sequences=True),\n",
    "        GlobalMaxPooling1D(),\n",
    "        Dense(3, activation='softmax')\n",
    "    ])\n",
    "    model.compile(\n",
    "        loss='categorical_crossentropy', \n",
    "        optimizer=\"adam\",\n",
    "        metrics=['accuracy']\n",
    "    )\n",
    "    return model\n",
    "\n",
    "# Define model architectures of CNN\n",
    "def create_cnn_model(vocab_size, embedding_dim=300, max_len=300):\n",
    "    model = Sequential([\n",
    "        Embedding(vocab_size, embedding_dim, input_length=max_len),\n",
    "        SpatialDropout1D(0.2),\n",
    "        Conv1D(512, 5, activation='relu', padding='same'),\n",
    "        BatchNormalization(),\n",
    "        MaxPooling1D(2),\n",
    "        Conv1D(512, 3, activation='relu', padding='same'),\n",
    "        BatchNormalization(),\n",
    "        MaxPooling1D(2),\n",
    "        Conv1D(256, 3, activation='relu', padding='same'),\n",
    "        BatchNormalization(),\n",
    "        GlobalMaxPooling1D(),\n",
    "        Dense(1024, activation='relu'),\n",
    "        BatchNormalization(),\n",
    "        Dropout(0.4),\n",
    "        Dense(512, activation='relu'),\n",
    "        BatchNormalization(),\n",
    "        Dropout(0.3),\n",
    "        Dense(3, activation='softmax')\n",
    "    ])\n",
    "    model.compile(loss='categorical_crossentropy',\n",
    "                 optimizer=Adam(learning_rate=0.0001),\n",
    "                 metrics=['accuracy'])\n",
    "    return model\n",
    "\n",
    "# Define model architectures of GRU\n",
    "def create_gru_model(vocab_size, embedding_dim=300, max_len=300):\n",
    "    model = Sequential([\n",
    "        Embedding(vocab_size, embedding_dim, input_length=max_len),\n",
    "        SpatialDropout1D(0.2),\n",
    "        Bidirectional(GRU(512, return_sequences=True)),\n",
    "        Bidirectional(GRU(256)),\n",
    "        Dense(1024, activation='relu'),\n",
    "        BatchNormalization(),\n",
    "        Dropout(0.4),\n",
    "        Dense(512, activation='relu'),\n",
    "        BatchNormalization(),\n",
    "        Dropout(0.3),\n",
    "        Dense(256, activation='relu'),\n",
    "        Dropout(0.2),\n",
    "        Dense(3, activation='softmax')\n",
    "    ])\n",
    "    model.compile(loss='categorical_crossentropy',\n",
    "                 optimizer=Adam(learning_rate=0.0001),\n",
    "                 metrics=['accuracy'])\n",
    "    return model"
   ]
  },
  {
   "cell_type": "code",
   "execution_count": 58,
   "metadata": {},
   "outputs": [
    {
     "name": "stdout",
     "output_type": "stream",
     "text": [
      "Total Vocab Size: 15699\n"
     ]
    }
   ],
   "source": [
    "# Train all models\n",
    "vocab_size = len(tokenizer.word_index) + 1\n",
    "print(\"Total Vocab Size:\", vocab_size)"
   ]
  },
  {
   "cell_type": "code",
   "execution_count": 59,
   "metadata": {},
   "outputs": [
    {
     "name": "stdout",
     "output_type": "stream",
     "text": [
      "Class Weight (Balance):  {'negative': 1.023093200846444, 'neutral': 1.011092925986543, 'positive': 0.9675454624554076}\n"
     ]
    },
    {
     "name": "stderr",
     "output_type": "stream",
     "text": [
      "/Library/Frameworks/Python.framework/Versions/3.9/lib/python3.9/site-packages/keras/src/layers/core/embedding.py:90: UserWarning: Argument `input_length` is deprecated. Just remove it.\n",
      "  warnings.warn(\n"
     ]
    },
    {
     "data": {
      "text/html": [
       "<pre style=\"white-space:pre;overflow-x:auto;line-height:normal;font-family:Menlo,'DejaVu Sans Mono',consolas,'Courier New',monospace\"><span style=\"font-weight: bold\">Model: \"sequential_3\"</span>\n",
       "</pre>\n"
      ],
      "text/plain": [
       "\u001b[1mModel: \"sequential_3\"\u001b[0m\n"
      ]
     },
     "metadata": {},
     "output_type": "display_data"
    },
    {
     "data": {
      "text/html": [
       "<pre style=\"white-space:pre;overflow-x:auto;line-height:normal;font-family:Menlo,'DejaVu Sans Mono',consolas,'Courier New',monospace\">┏━━━━━━━━━━━━━━━━━━━━━━━━━━━━━━━━━┳━━━━━━━━━━━━━━━━━━━━━━━━┳━━━━━━━━━━━━━━━┓\n",
       "┃<span style=\"font-weight: bold\"> Layer (type)                    </span>┃<span style=\"font-weight: bold\"> Output Shape           </span>┃<span style=\"font-weight: bold\">       Param # </span>┃\n",
       "┡━━━━━━━━━━━━━━━━━━━━━━━━━━━━━━━━━╇━━━━━━━━━━━━━━━━━━━━━━━━╇━━━━━━━━━━━━━━━┩\n",
       "│ embedding_3 (<span style=\"color: #0087ff; text-decoration-color: #0087ff\">Embedding</span>)         │ ?                      │   <span style=\"color: #00af00; text-decoration-color: #00af00\">0</span> (unbuilt) │\n",
       "├─────────────────────────────────┼────────────────────────┼───────────────┤\n",
       "│ lstm_2 (<span style=\"color: #0087ff; text-decoration-color: #0087ff\">LSTM</span>)                   │ ?                      │   <span style=\"color: #00af00; text-decoration-color: #00af00\">0</span> (unbuilt) │\n",
       "├─────────────────────────────────┼────────────────────────┼───────────────┤\n",
       "│ global_max_pooling1d_3          │ ?                      │             <span style=\"color: #00af00; text-decoration-color: #00af00\">0</span> │\n",
       "│ (<span style=\"color: #0087ff; text-decoration-color: #0087ff\">GlobalMaxPooling1D</span>)            │                        │               │\n",
       "├─────────────────────────────────┼────────────────────────┼───────────────┤\n",
       "│ dense_5 (<span style=\"color: #0087ff; text-decoration-color: #0087ff\">Dense</span>)                 │ ?                      │   <span style=\"color: #00af00; text-decoration-color: #00af00\">0</span> (unbuilt) │\n",
       "└─────────────────────────────────┴────────────────────────┴───────────────┘\n",
       "</pre>\n"
      ],
      "text/plain": [
       "┏━━━━━━━━━━━━━━━━━━━━━━━━━━━━━━━━━┳━━━━━━━━━━━━━━━━━━━━━━━━┳━━━━━━━━━━━━━━━┓\n",
       "┃\u001b[1m \u001b[0m\u001b[1mLayer (type)                   \u001b[0m\u001b[1m \u001b[0m┃\u001b[1m \u001b[0m\u001b[1mOutput Shape          \u001b[0m\u001b[1m \u001b[0m┃\u001b[1m \u001b[0m\u001b[1m      Param #\u001b[0m\u001b[1m \u001b[0m┃\n",
       "┡━━━━━━━━━━━━━━━━━━━━━━━━━━━━━━━━━╇━━━━━━━━━━━━━━━━━━━━━━━━╇━━━━━━━━━━━━━━━┩\n",
       "│ embedding_3 (\u001b[38;5;33mEmbedding\u001b[0m)         │ ?                      │   \u001b[38;5;34m0\u001b[0m (unbuilt) │\n",
       "├─────────────────────────────────┼────────────────────────┼───────────────┤\n",
       "│ lstm_2 (\u001b[38;5;33mLSTM\u001b[0m)                   │ ?                      │   \u001b[38;5;34m0\u001b[0m (unbuilt) │\n",
       "├─────────────────────────────────┼────────────────────────┼───────────────┤\n",
       "│ global_max_pooling1d_3          │ ?                      │             \u001b[38;5;34m0\u001b[0m │\n",
       "│ (\u001b[38;5;33mGlobalMaxPooling1D\u001b[0m)            │                        │               │\n",
       "├─────────────────────────────────┼────────────────────────┼───────────────┤\n",
       "│ dense_5 (\u001b[38;5;33mDense\u001b[0m)                 │ ?                      │   \u001b[38;5;34m0\u001b[0m (unbuilt) │\n",
       "└─────────────────────────────────┴────────────────────────┴───────────────┘\n"
      ]
     },
     "metadata": {},
     "output_type": "display_data"
    },
    {
     "data": {
      "text/html": [
       "<pre style=\"white-space:pre;overflow-x:auto;line-height:normal;font-family:Menlo,'DejaVu Sans Mono',consolas,'Courier New',monospace\"><span style=\"font-weight: bold\"> Total params: </span><span style=\"color: #00af00; text-decoration-color: #00af00\">0</span> (0.00 B)\n",
       "</pre>\n"
      ],
      "text/plain": [
       "\u001b[1m Total params: \u001b[0m\u001b[38;5;34m0\u001b[0m (0.00 B)\n"
      ]
     },
     "metadata": {},
     "output_type": "display_data"
    },
    {
     "data": {
      "text/html": [
       "<pre style=\"white-space:pre;overflow-x:auto;line-height:normal;font-family:Menlo,'DejaVu Sans Mono',consolas,'Courier New',monospace\"><span style=\"font-weight: bold\"> Trainable params: </span><span style=\"color: #00af00; text-decoration-color: #00af00\">0</span> (0.00 B)\n",
       "</pre>\n"
      ],
      "text/plain": [
       "\u001b[1m Trainable params: \u001b[0m\u001b[38;5;34m0\u001b[0m (0.00 B)\n"
      ]
     },
     "metadata": {},
     "output_type": "display_data"
    },
    {
     "data": {
      "text/html": [
       "<pre style=\"white-space:pre;overflow-x:auto;line-height:normal;font-family:Menlo,'DejaVu Sans Mono',consolas,'Courier New',monospace\"><span style=\"font-weight: bold\"> Non-trainable params: </span><span style=\"color: #00af00; text-decoration-color: #00af00\">0</span> (0.00 B)\n",
       "</pre>\n"
      ],
      "text/plain": [
       "\u001b[1m Non-trainable params: \u001b[0m\u001b[38;5;34m0\u001b[0m (0.00 B)\n"
      ]
     },
     "metadata": {},
     "output_type": "display_data"
    },
    {
     "name": "stdout",
     "output_type": "stream",
     "text": [
      "None\n",
      "Epoch 1/10\n",
      "\u001b[1m695/695\u001b[0m \u001b[32m━━━━━━━━━━━━━━━━━━━━\u001b[0m\u001b[37m\u001b[0m \u001b[1m5s\u001b[0m 6ms/step - accuracy: 0.7219 - loss: 0.6347 - val_accuracy: 0.9669 - val_loss: 0.1182 - learning_rate: 0.0010\n",
      "Epoch 2/10\n",
      "\u001b[1m695/695\u001b[0m \u001b[32m━━━━━━━━━━━━━━━━━━━━\u001b[0m\u001b[37m\u001b[0m \u001b[1m4s\u001b[0m 6ms/step - accuracy: 0.9808 - loss: 0.0765 - val_accuracy: 0.9914 - val_loss: 0.0442 - learning_rate: 0.0010\n",
      "Epoch 3/10\n",
      "\u001b[1m695/695\u001b[0m \u001b[32m━━━━━━━━━━━━━━━━━━━━\u001b[0m\u001b[37m\u001b[0m \u001b[1m4s\u001b[0m 6ms/step - accuracy: 0.9973 - loss: 0.0191 - val_accuracy: 0.9863 - val_loss: 0.0473 - learning_rate: 0.0010\n",
      "Epoch 4/10\n",
      "\u001b[1m695/695\u001b[0m \u001b[32m━━━━━━━━━━━━━━━━━━━━\u001b[0m\u001b[37m\u001b[0m \u001b[1m4s\u001b[0m 6ms/step - accuracy: 0.9995 - loss: 0.0060 - val_accuracy: 0.9856 - val_loss: 0.0495 - learning_rate: 0.0010\n",
      "Epoch 5/10\n",
      "\u001b[1m695/695\u001b[0m \u001b[32m━━━━━━━━━━━━━━━━━━━━\u001b[0m\u001b[37m\u001b[0m \u001b[1m4s\u001b[0m 6ms/step - accuracy: 0.9998 - loss: 0.0029 - val_accuracy: 0.9856 - val_loss: 0.0505 - learning_rate: 0.0010\n",
      "Epoch 6/10\n",
      "\u001b[1m695/695\u001b[0m \u001b[32m━━━━━━━━━━━━━━━━━━━━\u001b[0m\u001b[37m\u001b[0m \u001b[1m4s\u001b[0m 6ms/step - accuracy: 0.9993 - loss: 0.0030 - val_accuracy: 0.9827 - val_loss: 0.0682 - learning_rate: 0.0010\n",
      "Epoch 7/10\n",
      "\u001b[1m695/695\u001b[0m \u001b[32m━━━━━━━━━━━━━━━━━━━━\u001b[0m\u001b[37m\u001b[0m \u001b[1m4s\u001b[0m 6ms/step - accuracy: 0.9996 - loss: 0.0033 - val_accuracy: 0.9863 - val_loss: 0.0506 - learning_rate: 0.0010\n",
      "Epoch 8/10\n",
      "\u001b[1m695/695\u001b[0m \u001b[32m━━━━━━━━━━━━━━━━━━━━\u001b[0m\u001b[37m\u001b[0m \u001b[1m4s\u001b[0m 6ms/step - accuracy: 1.0000 - loss: 0.0011 - val_accuracy: 0.9863 - val_loss: 0.0569 - learning_rate: 2.0000e-04\n",
      "Epoch 9/10\n",
      "\u001b[1m695/695\u001b[0m \u001b[32m━━━━━━━━━━━━━━━━━━━━\u001b[0m\u001b[37m\u001b[0m \u001b[1m4s\u001b[0m 6ms/step - accuracy: 1.0000 - loss: 7.9186e-04 - val_accuracy: 0.9863 - val_loss: 0.0613 - learning_rate: 2.0000e-04\n",
      "Epoch 10/10\n",
      "\u001b[1m695/695\u001b[0m \u001b[32m━━━━━━━━━━━━━━━━━━━━\u001b[0m\u001b[37m\u001b[0m \u001b[1m4s\u001b[0m 6ms/step - accuracy: 1.0000 - loss: 6.8084e-04 - val_accuracy: 0.9871 - val_loss: 0.0649 - learning_rate: 2.0000e-04\n"
     ]
    }
   ],
   "source": [
    "# Train LSTM\n",
    "model1, le1, history1 = train_model_unified('lstm', X_train, X_val, y_train, y_val, vocab_size=15_000)"
   ]
  },
  {
   "cell_type": "code",
   "execution_count": 60,
   "metadata": {},
   "outputs": [
    {
     "name": "stdout",
     "output_type": "stream",
     "text": [
      "Class Weight (Balance):  {'negative': 1.023093200846444, 'neutral': 1.011092925986543, 'positive': 0.9675454624554076}\n"
     ]
    },
    {
     "name": "stderr",
     "output_type": "stream",
     "text": [
      "/Library/Frameworks/Python.framework/Versions/3.9/lib/python3.9/site-packages/keras/src/layers/core/embedding.py:90: UserWarning: Argument `input_length` is deprecated. Just remove it.\n",
      "  warnings.warn(\n"
     ]
    },
    {
     "data": {
      "text/html": [
       "<pre style=\"white-space:pre;overflow-x:auto;line-height:normal;font-family:Menlo,'DejaVu Sans Mono',consolas,'Courier New',monospace\"><span style=\"font-weight: bold\">Model: \"sequential_4\"</span>\n",
       "</pre>\n"
      ],
      "text/plain": [
       "\u001b[1mModel: \"sequential_4\"\u001b[0m\n"
      ]
     },
     "metadata": {},
     "output_type": "display_data"
    },
    {
     "data": {
      "text/html": [
       "<pre style=\"white-space:pre;overflow-x:auto;line-height:normal;font-family:Menlo,'DejaVu Sans Mono',consolas,'Courier New',monospace\">┏━━━━━━━━━━━━━━━━━━━━━━━━━━━━━━━━━┳━━━━━━━━━━━━━━━━━━━━━━━━┳━━━━━━━━━━━━━━━┓\n",
       "┃<span style=\"font-weight: bold\"> Layer (type)                    </span>┃<span style=\"font-weight: bold\"> Output Shape           </span>┃<span style=\"font-weight: bold\">       Param # </span>┃\n",
       "┡━━━━━━━━━━━━━━━━━━━━━━━━━━━━━━━━━╇━━━━━━━━━━━━━━━━━━━━━━━━╇━━━━━━━━━━━━━━━┩\n",
       "│ embedding_4 (<span style=\"color: #0087ff; text-decoration-color: #0087ff\">Embedding</span>)         │ ?                      │   <span style=\"color: #00af00; text-decoration-color: #00af00\">0</span> (unbuilt) │\n",
       "├─────────────────────────────────┼────────────────────────┼───────────────┤\n",
       "│ spatial_dropout1d_1             │ ?                      │             <span style=\"color: #00af00; text-decoration-color: #00af00\">0</span> │\n",
       "│ (<span style=\"color: #0087ff; text-decoration-color: #0087ff\">SpatialDropout1D</span>)              │                        │               │\n",
       "├─────────────────────────────────┼────────────────────────┼───────────────┤\n",
       "│ conv1d_3 (<span style=\"color: #0087ff; text-decoration-color: #0087ff\">Conv1D</span>)               │ ?                      │   <span style=\"color: #00af00; text-decoration-color: #00af00\">0</span> (unbuilt) │\n",
       "├─────────────────────────────────┼────────────────────────┼───────────────┤\n",
       "│ batch_normalization_5           │ ?                      │   <span style=\"color: #00af00; text-decoration-color: #00af00\">0</span> (unbuilt) │\n",
       "│ (<span style=\"color: #0087ff; text-decoration-color: #0087ff\">BatchNormalization</span>)            │                        │               │\n",
       "├─────────────────────────────────┼────────────────────────┼───────────────┤\n",
       "│ max_pooling1d_2 (<span style=\"color: #0087ff; text-decoration-color: #0087ff\">MaxPooling1D</span>)  │ ?                      │             <span style=\"color: #00af00; text-decoration-color: #00af00\">0</span> │\n",
       "├─────────────────────────────────┼────────────────────────┼───────────────┤\n",
       "│ conv1d_4 (<span style=\"color: #0087ff; text-decoration-color: #0087ff\">Conv1D</span>)               │ ?                      │   <span style=\"color: #00af00; text-decoration-color: #00af00\">0</span> (unbuilt) │\n",
       "├─────────────────────────────────┼────────────────────────┼───────────────┤\n",
       "│ batch_normalization_6           │ ?                      │   <span style=\"color: #00af00; text-decoration-color: #00af00\">0</span> (unbuilt) │\n",
       "│ (<span style=\"color: #0087ff; text-decoration-color: #0087ff\">BatchNormalization</span>)            │                        │               │\n",
       "├─────────────────────────────────┼────────────────────────┼───────────────┤\n",
       "│ max_pooling1d_3 (<span style=\"color: #0087ff; text-decoration-color: #0087ff\">MaxPooling1D</span>)  │ ?                      │             <span style=\"color: #00af00; text-decoration-color: #00af00\">0</span> │\n",
       "├─────────────────────────────────┼────────────────────────┼───────────────┤\n",
       "│ conv1d_5 (<span style=\"color: #0087ff; text-decoration-color: #0087ff\">Conv1D</span>)               │ ?                      │   <span style=\"color: #00af00; text-decoration-color: #00af00\">0</span> (unbuilt) │\n",
       "├─────────────────────────────────┼────────────────────────┼───────────────┤\n",
       "│ batch_normalization_7           │ ?                      │   <span style=\"color: #00af00; text-decoration-color: #00af00\">0</span> (unbuilt) │\n",
       "│ (<span style=\"color: #0087ff; text-decoration-color: #0087ff\">BatchNormalization</span>)            │                        │               │\n",
       "├─────────────────────────────────┼────────────────────────┼───────────────┤\n",
       "│ global_max_pooling1d_4          │ ?                      │             <span style=\"color: #00af00; text-decoration-color: #00af00\">0</span> │\n",
       "│ (<span style=\"color: #0087ff; text-decoration-color: #0087ff\">GlobalMaxPooling1D</span>)            │                        │               │\n",
       "├─────────────────────────────────┼────────────────────────┼───────────────┤\n",
       "│ dense_6 (<span style=\"color: #0087ff; text-decoration-color: #0087ff\">Dense</span>)                 │ ?                      │   <span style=\"color: #00af00; text-decoration-color: #00af00\">0</span> (unbuilt) │\n",
       "├─────────────────────────────────┼────────────────────────┼───────────────┤\n",
       "│ batch_normalization_8           │ ?                      │   <span style=\"color: #00af00; text-decoration-color: #00af00\">0</span> (unbuilt) │\n",
       "│ (<span style=\"color: #0087ff; text-decoration-color: #0087ff\">BatchNormalization</span>)            │                        │               │\n",
       "├─────────────────────────────────┼────────────────────────┼───────────────┤\n",
       "│ dropout_2 (<span style=\"color: #0087ff; text-decoration-color: #0087ff\">Dropout</span>)             │ ?                      │             <span style=\"color: #00af00; text-decoration-color: #00af00\">0</span> │\n",
       "├─────────────────────────────────┼────────────────────────┼───────────────┤\n",
       "│ dense_7 (<span style=\"color: #0087ff; text-decoration-color: #0087ff\">Dense</span>)                 │ ?                      │   <span style=\"color: #00af00; text-decoration-color: #00af00\">0</span> (unbuilt) │\n",
       "├─────────────────────────────────┼────────────────────────┼───────────────┤\n",
       "│ batch_normalization_9           │ ?                      │   <span style=\"color: #00af00; text-decoration-color: #00af00\">0</span> (unbuilt) │\n",
       "│ (<span style=\"color: #0087ff; text-decoration-color: #0087ff\">BatchNormalization</span>)            │                        │               │\n",
       "├─────────────────────────────────┼────────────────────────┼───────────────┤\n",
       "│ dropout_3 (<span style=\"color: #0087ff; text-decoration-color: #0087ff\">Dropout</span>)             │ ?                      │             <span style=\"color: #00af00; text-decoration-color: #00af00\">0</span> │\n",
       "├─────────────────────────────────┼────────────────────────┼───────────────┤\n",
       "│ dense_8 (<span style=\"color: #0087ff; text-decoration-color: #0087ff\">Dense</span>)                 │ ?                      │   <span style=\"color: #00af00; text-decoration-color: #00af00\">0</span> (unbuilt) │\n",
       "└─────────────────────────────────┴────────────────────────┴───────────────┘\n",
       "</pre>\n"
      ],
      "text/plain": [
       "┏━━━━━━━━━━━━━━━━━━━━━━━━━━━━━━━━━┳━━━━━━━━━━━━━━━━━━━━━━━━┳━━━━━━━━━━━━━━━┓\n",
       "┃\u001b[1m \u001b[0m\u001b[1mLayer (type)                   \u001b[0m\u001b[1m \u001b[0m┃\u001b[1m \u001b[0m\u001b[1mOutput Shape          \u001b[0m\u001b[1m \u001b[0m┃\u001b[1m \u001b[0m\u001b[1m      Param #\u001b[0m\u001b[1m \u001b[0m┃\n",
       "┡━━━━━━━━━━━━━━━━━━━━━━━━━━━━━━━━━╇━━━━━━━━━━━━━━━━━━━━━━━━╇━━━━━━━━━━━━━━━┩\n",
       "│ embedding_4 (\u001b[38;5;33mEmbedding\u001b[0m)         │ ?                      │   \u001b[38;5;34m0\u001b[0m (unbuilt) │\n",
       "├─────────────────────────────────┼────────────────────────┼───────────────┤\n",
       "│ spatial_dropout1d_1             │ ?                      │             \u001b[38;5;34m0\u001b[0m │\n",
       "│ (\u001b[38;5;33mSpatialDropout1D\u001b[0m)              │                        │               │\n",
       "├─────────────────────────────────┼────────────────────────┼───────────────┤\n",
       "│ conv1d_3 (\u001b[38;5;33mConv1D\u001b[0m)               │ ?                      │   \u001b[38;5;34m0\u001b[0m (unbuilt) │\n",
       "├─────────────────────────────────┼────────────────────────┼───────────────┤\n",
       "│ batch_normalization_5           │ ?                      │   \u001b[38;5;34m0\u001b[0m (unbuilt) │\n",
       "│ (\u001b[38;5;33mBatchNormalization\u001b[0m)            │                        │               │\n",
       "├─────────────────────────────────┼────────────────────────┼───────────────┤\n",
       "│ max_pooling1d_2 (\u001b[38;5;33mMaxPooling1D\u001b[0m)  │ ?                      │             \u001b[38;5;34m0\u001b[0m │\n",
       "├─────────────────────────────────┼────────────────────────┼───────────────┤\n",
       "│ conv1d_4 (\u001b[38;5;33mConv1D\u001b[0m)               │ ?                      │   \u001b[38;5;34m0\u001b[0m (unbuilt) │\n",
       "├─────────────────────────────────┼────────────────────────┼───────────────┤\n",
       "│ batch_normalization_6           │ ?                      │   \u001b[38;5;34m0\u001b[0m (unbuilt) │\n",
       "│ (\u001b[38;5;33mBatchNormalization\u001b[0m)            │                        │               │\n",
       "├─────────────────────────────────┼────────────────────────┼───────────────┤\n",
       "│ max_pooling1d_3 (\u001b[38;5;33mMaxPooling1D\u001b[0m)  │ ?                      │             \u001b[38;5;34m0\u001b[0m │\n",
       "├─────────────────────────────────┼────────────────────────┼───────────────┤\n",
       "│ conv1d_5 (\u001b[38;5;33mConv1D\u001b[0m)               │ ?                      │   \u001b[38;5;34m0\u001b[0m (unbuilt) │\n",
       "├─────────────────────────────────┼────────────────────────┼───────────────┤\n",
       "│ batch_normalization_7           │ ?                      │   \u001b[38;5;34m0\u001b[0m (unbuilt) │\n",
       "│ (\u001b[38;5;33mBatchNormalization\u001b[0m)            │                        │               │\n",
       "├─────────────────────────────────┼────────────────────────┼───────────────┤\n",
       "│ global_max_pooling1d_4          │ ?                      │             \u001b[38;5;34m0\u001b[0m │\n",
       "│ (\u001b[38;5;33mGlobalMaxPooling1D\u001b[0m)            │                        │               │\n",
       "├─────────────────────────────────┼────────────────────────┼───────────────┤\n",
       "│ dense_6 (\u001b[38;5;33mDense\u001b[0m)                 │ ?                      │   \u001b[38;5;34m0\u001b[0m (unbuilt) │\n",
       "├─────────────────────────────────┼────────────────────────┼───────────────┤\n",
       "│ batch_normalization_8           │ ?                      │   \u001b[38;5;34m0\u001b[0m (unbuilt) │\n",
       "│ (\u001b[38;5;33mBatchNormalization\u001b[0m)            │                        │               │\n",
       "├─────────────────────────────────┼────────────────────────┼───────────────┤\n",
       "│ dropout_2 (\u001b[38;5;33mDropout\u001b[0m)             │ ?                      │             \u001b[38;5;34m0\u001b[0m │\n",
       "├─────────────────────────────────┼────────────────────────┼───────────────┤\n",
       "│ dense_7 (\u001b[38;5;33mDense\u001b[0m)                 │ ?                      │   \u001b[38;5;34m0\u001b[0m (unbuilt) │\n",
       "├─────────────────────────────────┼────────────────────────┼───────────────┤\n",
       "│ batch_normalization_9           │ ?                      │   \u001b[38;5;34m0\u001b[0m (unbuilt) │\n",
       "│ (\u001b[38;5;33mBatchNormalization\u001b[0m)            │                        │               │\n",
       "├─────────────────────────────────┼────────────────────────┼───────────────┤\n",
       "│ dropout_3 (\u001b[38;5;33mDropout\u001b[0m)             │ ?                      │             \u001b[38;5;34m0\u001b[0m │\n",
       "├─────────────────────────────────┼────────────────────────┼───────────────┤\n",
       "│ dense_8 (\u001b[38;5;33mDense\u001b[0m)                 │ ?                      │   \u001b[38;5;34m0\u001b[0m (unbuilt) │\n",
       "└─────────────────────────────────┴────────────────────────┴───────────────┘\n"
      ]
     },
     "metadata": {},
     "output_type": "display_data"
    },
    {
     "data": {
      "text/html": [
       "<pre style=\"white-space:pre;overflow-x:auto;line-height:normal;font-family:Menlo,'DejaVu Sans Mono',consolas,'Courier New',monospace\"><span style=\"font-weight: bold\"> Total params: </span><span style=\"color: #00af00; text-decoration-color: #00af00\">0</span> (0.00 B)\n",
       "</pre>\n"
      ],
      "text/plain": [
       "\u001b[1m Total params: \u001b[0m\u001b[38;5;34m0\u001b[0m (0.00 B)\n"
      ]
     },
     "metadata": {},
     "output_type": "display_data"
    },
    {
     "data": {
      "text/html": [
       "<pre style=\"white-space:pre;overflow-x:auto;line-height:normal;font-family:Menlo,'DejaVu Sans Mono',consolas,'Courier New',monospace\"><span style=\"font-weight: bold\"> Trainable params: </span><span style=\"color: #00af00; text-decoration-color: #00af00\">0</span> (0.00 B)\n",
       "</pre>\n"
      ],
      "text/plain": [
       "\u001b[1m Trainable params: \u001b[0m\u001b[38;5;34m0\u001b[0m (0.00 B)\n"
      ]
     },
     "metadata": {},
     "output_type": "display_data"
    },
    {
     "data": {
      "text/html": [
       "<pre style=\"white-space:pre;overflow-x:auto;line-height:normal;font-family:Menlo,'DejaVu Sans Mono',consolas,'Courier New',monospace\"><span style=\"font-weight: bold\"> Non-trainable params: </span><span style=\"color: #00af00; text-decoration-color: #00af00\">0</span> (0.00 B)\n",
       "</pre>\n"
      ],
      "text/plain": [
       "\u001b[1m Non-trainable params: \u001b[0m\u001b[38;5;34m0\u001b[0m (0.00 B)\n"
      ]
     },
     "metadata": {},
     "output_type": "display_data"
    },
    {
     "name": "stdout",
     "output_type": "stream",
     "text": [
      "None\n",
      "Epoch 1/10\n",
      "\u001b[1m695/695\u001b[0m \u001b[32m━━━━━━━━━━━━━━━━━━━━\u001b[0m\u001b[37m\u001b[0m \u001b[1m37s\u001b[0m 51ms/step - accuracy: 0.6048 - loss: 1.0470 - val_accuracy: 0.8288 - val_loss: 0.4501 - learning_rate: 1.0000e-04\n",
      "Epoch 2/10\n",
      "\u001b[1m695/695\u001b[0m \u001b[32m━━━━━━━━━━━━━━━━━━━━\u001b[0m\u001b[37m\u001b[0m \u001b[1m31s\u001b[0m 45ms/step - accuracy: 0.8650 - loss: 0.3541 - val_accuracy: 0.9597 - val_loss: 0.1157 - learning_rate: 1.0000e-04\n",
      "Epoch 3/10\n",
      "\u001b[1m695/695\u001b[0m \u001b[32m━━━━━━━━━━━━━━━━━━━━\u001b[0m\u001b[37m\u001b[0m \u001b[1m34s\u001b[0m 49ms/step - accuracy: 0.9417 - loss: 0.1631 - val_accuracy: 0.9791 - val_loss: 0.0823 - learning_rate: 1.0000e-04\n",
      "Epoch 4/10\n",
      "\u001b[1m695/695\u001b[0m \u001b[32m━━━━━━━━━━━━━━━━━━━━\u001b[0m\u001b[37m\u001b[0m \u001b[1m34s\u001b[0m 49ms/step - accuracy: 0.9624 - loss: 0.1075 - val_accuracy: 0.9791 - val_loss: 0.0905 - learning_rate: 1.0000e-04\n",
      "Epoch 5/10\n",
      "\u001b[1m695/695\u001b[0m \u001b[32m━━━━━━━━━━━━━━━━━━━━\u001b[0m\u001b[37m\u001b[0m \u001b[1m34s\u001b[0m 49ms/step - accuracy: 0.9759 - loss: 0.0705 - val_accuracy: 0.9842 - val_loss: 0.0749 - learning_rate: 1.0000e-04\n",
      "Epoch 6/10\n",
      "\u001b[1m695/695\u001b[0m \u001b[32m━━━━━━━━━━━━━━━━━━━━\u001b[0m\u001b[37m\u001b[0m \u001b[1m35s\u001b[0m 50ms/step - accuracy: 0.9797 - loss: 0.0632 - val_accuracy: 0.9856 - val_loss: 0.0734 - learning_rate: 1.0000e-04\n",
      "Epoch 7/10\n",
      "\u001b[1m695/695\u001b[0m \u001b[32m━━━━━━━━━━━━━━━━━━━━\u001b[0m\u001b[37m\u001b[0m \u001b[1m34s\u001b[0m 49ms/step - accuracy: 0.9814 - loss: 0.0587 - val_accuracy: 0.9770 - val_loss: 0.1077 - learning_rate: 1.0000e-04\n",
      "Epoch 8/10\n",
      "\u001b[1m695/695\u001b[0m \u001b[32m━━━━━━━━━━━━━━━━━━━━\u001b[0m\u001b[37m\u001b[0m \u001b[1m34s\u001b[0m 48ms/step - accuracy: 0.9843 - loss: 0.0444 - val_accuracy: 0.9741 - val_loss: 0.1133 - learning_rate: 1.0000e-04\n",
      "Epoch 9/10\n",
      "\u001b[1m695/695\u001b[0m \u001b[32m━━━━━━━━━━━━━━━━━━━━\u001b[0m\u001b[37m\u001b[0m \u001b[1m34s\u001b[0m 49ms/step - accuracy: 0.9876 - loss: 0.0363 - val_accuracy: 0.9892 - val_loss: 0.0485 - learning_rate: 1.0000e-04\n",
      "Epoch 10/10\n",
      "\u001b[1m695/695\u001b[0m \u001b[32m━━━━━━━━━━━━━━━━━━━━\u001b[0m\u001b[37m\u001b[0m \u001b[1m34s\u001b[0m 49ms/step - accuracy: 0.9856 - loss: 0.0429 - val_accuracy: 0.9863 - val_loss: 0.0587 - learning_rate: 1.0000e-04\n"
     ]
    }
   ],
   "source": [
    "# Train CNN\n",
    "model2, le2, history2 = train_model_unified('cnn', X_train, X_val, y_train, y_val, vocab_size=15_000)"
   ]
  },
  {
   "cell_type": "code",
   "execution_count": 61,
   "metadata": {},
   "outputs": [
    {
     "name": "stdout",
     "output_type": "stream",
     "text": [
      "Class Weight (Balance):  {'negative': 1.023093200846444, 'neutral': 1.011092925986543, 'positive': 0.9675454624554076}\n"
     ]
    },
    {
     "name": "stderr",
     "output_type": "stream",
     "text": [
      "/Library/Frameworks/Python.framework/Versions/3.9/lib/python3.9/site-packages/keras/src/layers/core/embedding.py:90: UserWarning: Argument `input_length` is deprecated. Just remove it.\n",
      "  warnings.warn(\n"
     ]
    },
    {
     "data": {
      "text/html": [
       "<pre style=\"white-space:pre;overflow-x:auto;line-height:normal;font-family:Menlo,'DejaVu Sans Mono',consolas,'Courier New',monospace\"><span style=\"font-weight: bold\">Model: \"sequential_5\"</span>\n",
       "</pre>\n"
      ],
      "text/plain": [
       "\u001b[1mModel: \"sequential_5\"\u001b[0m\n"
      ]
     },
     "metadata": {},
     "output_type": "display_data"
    },
    {
     "data": {
      "text/html": [
       "<pre style=\"white-space:pre;overflow-x:auto;line-height:normal;font-family:Menlo,'DejaVu Sans Mono',consolas,'Courier New',monospace\">┏━━━━━━━━━━━━━━━━━━━━━━━━━━━━━━━━━┳━━━━━━━━━━━━━━━━━━━━━━━━┳━━━━━━━━━━━━━━━┓\n",
       "┃<span style=\"font-weight: bold\"> Layer (type)                    </span>┃<span style=\"font-weight: bold\"> Output Shape           </span>┃<span style=\"font-weight: bold\">       Param # </span>┃\n",
       "┡━━━━━━━━━━━━━━━━━━━━━━━━━━━━━━━━━╇━━━━━━━━━━━━━━━━━━━━━━━━╇━━━━━━━━━━━━━━━┩\n",
       "│ embedding_5 (<span style=\"color: #0087ff; text-decoration-color: #0087ff\">Embedding</span>)         │ ?                      │   <span style=\"color: #00af00; text-decoration-color: #00af00\">0</span> (unbuilt) │\n",
       "├─────────────────────────────────┼────────────────────────┼───────────────┤\n",
       "│ spatial_dropout1d_2             │ ?                      │             <span style=\"color: #00af00; text-decoration-color: #00af00\">0</span> │\n",
       "│ (<span style=\"color: #0087ff; text-decoration-color: #0087ff\">SpatialDropout1D</span>)              │                        │               │\n",
       "├─────────────────────────────────┼────────────────────────┼───────────────┤\n",
       "│ bidirectional (<span style=\"color: #0087ff; text-decoration-color: #0087ff\">Bidirectional</span>)   │ ?                      │   <span style=\"color: #00af00; text-decoration-color: #00af00\">0</span> (unbuilt) │\n",
       "├─────────────────────────────────┼────────────────────────┼───────────────┤\n",
       "│ bidirectional_1 (<span style=\"color: #0087ff; text-decoration-color: #0087ff\">Bidirectional</span>) │ ?                      │   <span style=\"color: #00af00; text-decoration-color: #00af00\">0</span> (unbuilt) │\n",
       "├─────────────────────────────────┼────────────────────────┼───────────────┤\n",
       "│ dense_9 (<span style=\"color: #0087ff; text-decoration-color: #0087ff\">Dense</span>)                 │ ?                      │   <span style=\"color: #00af00; text-decoration-color: #00af00\">0</span> (unbuilt) │\n",
       "├─────────────────────────────────┼────────────────────────┼───────────────┤\n",
       "│ batch_normalization_10          │ ?                      │   <span style=\"color: #00af00; text-decoration-color: #00af00\">0</span> (unbuilt) │\n",
       "│ (<span style=\"color: #0087ff; text-decoration-color: #0087ff\">BatchNormalization</span>)            │                        │               │\n",
       "├─────────────────────────────────┼────────────────────────┼───────────────┤\n",
       "│ dropout_4 (<span style=\"color: #0087ff; text-decoration-color: #0087ff\">Dropout</span>)             │ ?                      │             <span style=\"color: #00af00; text-decoration-color: #00af00\">0</span> │\n",
       "├─────────────────────────────────┼────────────────────────┼───────────────┤\n",
       "│ dense_10 (<span style=\"color: #0087ff; text-decoration-color: #0087ff\">Dense</span>)                │ ?                      │   <span style=\"color: #00af00; text-decoration-color: #00af00\">0</span> (unbuilt) │\n",
       "├─────────────────────────────────┼────────────────────────┼───────────────┤\n",
       "│ batch_normalization_11          │ ?                      │   <span style=\"color: #00af00; text-decoration-color: #00af00\">0</span> (unbuilt) │\n",
       "│ (<span style=\"color: #0087ff; text-decoration-color: #0087ff\">BatchNormalization</span>)            │                        │               │\n",
       "├─────────────────────────────────┼────────────────────────┼───────────────┤\n",
       "│ dropout_5 (<span style=\"color: #0087ff; text-decoration-color: #0087ff\">Dropout</span>)             │ ?                      │             <span style=\"color: #00af00; text-decoration-color: #00af00\">0</span> │\n",
       "├─────────────────────────────────┼────────────────────────┼───────────────┤\n",
       "│ dense_11 (<span style=\"color: #0087ff; text-decoration-color: #0087ff\">Dense</span>)                │ ?                      │   <span style=\"color: #00af00; text-decoration-color: #00af00\">0</span> (unbuilt) │\n",
       "├─────────────────────────────────┼────────────────────────┼───────────────┤\n",
       "│ dropout_6 (<span style=\"color: #0087ff; text-decoration-color: #0087ff\">Dropout</span>)             │ ?                      │             <span style=\"color: #00af00; text-decoration-color: #00af00\">0</span> │\n",
       "├─────────────────────────────────┼────────────────────────┼───────────────┤\n",
       "│ dense_12 (<span style=\"color: #0087ff; text-decoration-color: #0087ff\">Dense</span>)                │ ?                      │   <span style=\"color: #00af00; text-decoration-color: #00af00\">0</span> (unbuilt) │\n",
       "└─────────────────────────────────┴────────────────────────┴───────────────┘\n",
       "</pre>\n"
      ],
      "text/plain": [
       "┏━━━━━━━━━━━━━━━━━━━━━━━━━━━━━━━━━┳━━━━━━━━━━━━━━━━━━━━━━━━┳━━━━━━━━━━━━━━━┓\n",
       "┃\u001b[1m \u001b[0m\u001b[1mLayer (type)                   \u001b[0m\u001b[1m \u001b[0m┃\u001b[1m \u001b[0m\u001b[1mOutput Shape          \u001b[0m\u001b[1m \u001b[0m┃\u001b[1m \u001b[0m\u001b[1m      Param #\u001b[0m\u001b[1m \u001b[0m┃\n",
       "┡━━━━━━━━━━━━━━━━━━━━━━━━━━━━━━━━━╇━━━━━━━━━━━━━━━━━━━━━━━━╇━━━━━━━━━━━━━━━┩\n",
       "│ embedding_5 (\u001b[38;5;33mEmbedding\u001b[0m)         │ ?                      │   \u001b[38;5;34m0\u001b[0m (unbuilt) │\n",
       "├─────────────────────────────────┼────────────────────────┼───────────────┤\n",
       "│ spatial_dropout1d_2             │ ?                      │             \u001b[38;5;34m0\u001b[0m │\n",
       "│ (\u001b[38;5;33mSpatialDropout1D\u001b[0m)              │                        │               │\n",
       "├─────────────────────────────────┼────────────────────────┼───────────────┤\n",
       "│ bidirectional (\u001b[38;5;33mBidirectional\u001b[0m)   │ ?                      │   \u001b[38;5;34m0\u001b[0m (unbuilt) │\n",
       "├─────────────────────────────────┼────────────────────────┼───────────────┤\n",
       "│ bidirectional_1 (\u001b[38;5;33mBidirectional\u001b[0m) │ ?                      │   \u001b[38;5;34m0\u001b[0m (unbuilt) │\n",
       "├─────────────────────────────────┼────────────────────────┼───────────────┤\n",
       "│ dense_9 (\u001b[38;5;33mDense\u001b[0m)                 │ ?                      │   \u001b[38;5;34m0\u001b[0m (unbuilt) │\n",
       "├─────────────────────────────────┼────────────────────────┼───────────────┤\n",
       "│ batch_normalization_10          │ ?                      │   \u001b[38;5;34m0\u001b[0m (unbuilt) │\n",
       "│ (\u001b[38;5;33mBatchNormalization\u001b[0m)            │                        │               │\n",
       "├─────────────────────────────────┼────────────────────────┼───────────────┤\n",
       "│ dropout_4 (\u001b[38;5;33mDropout\u001b[0m)             │ ?                      │             \u001b[38;5;34m0\u001b[0m │\n",
       "├─────────────────────────────────┼────────────────────────┼───────────────┤\n",
       "│ dense_10 (\u001b[38;5;33mDense\u001b[0m)                │ ?                      │   \u001b[38;5;34m0\u001b[0m (unbuilt) │\n",
       "├─────────────────────────────────┼────────────────────────┼───────────────┤\n",
       "│ batch_normalization_11          │ ?                      │   \u001b[38;5;34m0\u001b[0m (unbuilt) │\n",
       "│ (\u001b[38;5;33mBatchNormalization\u001b[0m)            │                        │               │\n",
       "├─────────────────────────────────┼────────────────────────┼───────────────┤\n",
       "│ dropout_5 (\u001b[38;5;33mDropout\u001b[0m)             │ ?                      │             \u001b[38;5;34m0\u001b[0m │\n",
       "├─────────────────────────────────┼────────────────────────┼───────────────┤\n",
       "│ dense_11 (\u001b[38;5;33mDense\u001b[0m)                │ ?                      │   \u001b[38;5;34m0\u001b[0m (unbuilt) │\n",
       "├─────────────────────────────────┼────────────────────────┼───────────────┤\n",
       "│ dropout_6 (\u001b[38;5;33mDropout\u001b[0m)             │ ?                      │             \u001b[38;5;34m0\u001b[0m │\n",
       "├─────────────────────────────────┼────────────────────────┼───────────────┤\n",
       "│ dense_12 (\u001b[38;5;33mDense\u001b[0m)                │ ?                      │   \u001b[38;5;34m0\u001b[0m (unbuilt) │\n",
       "└─────────────────────────────────┴────────────────────────┴───────────────┘\n"
      ]
     },
     "metadata": {},
     "output_type": "display_data"
    },
    {
     "data": {
      "text/html": [
       "<pre style=\"white-space:pre;overflow-x:auto;line-height:normal;font-family:Menlo,'DejaVu Sans Mono',consolas,'Courier New',monospace\"><span style=\"font-weight: bold\"> Total params: </span><span style=\"color: #00af00; text-decoration-color: #00af00\">0</span> (0.00 B)\n",
       "</pre>\n"
      ],
      "text/plain": [
       "\u001b[1m Total params: \u001b[0m\u001b[38;5;34m0\u001b[0m (0.00 B)\n"
      ]
     },
     "metadata": {},
     "output_type": "display_data"
    },
    {
     "data": {
      "text/html": [
       "<pre style=\"white-space:pre;overflow-x:auto;line-height:normal;font-family:Menlo,'DejaVu Sans Mono',consolas,'Courier New',monospace\"><span style=\"font-weight: bold\"> Trainable params: </span><span style=\"color: #00af00; text-decoration-color: #00af00\">0</span> (0.00 B)\n",
       "</pre>\n"
      ],
      "text/plain": [
       "\u001b[1m Trainable params: \u001b[0m\u001b[38;5;34m0\u001b[0m (0.00 B)\n"
      ]
     },
     "metadata": {},
     "output_type": "display_data"
    },
    {
     "data": {
      "text/html": [
       "<pre style=\"white-space:pre;overflow-x:auto;line-height:normal;font-family:Menlo,'DejaVu Sans Mono',consolas,'Courier New',monospace\"><span style=\"font-weight: bold\"> Non-trainable params: </span><span style=\"color: #00af00; text-decoration-color: #00af00\">0</span> (0.00 B)\n",
       "</pre>\n"
      ],
      "text/plain": [
       "\u001b[1m Non-trainable params: \u001b[0m\u001b[38;5;34m0\u001b[0m (0.00 B)\n"
      ]
     },
     "metadata": {},
     "output_type": "display_data"
    },
    {
     "name": "stdout",
     "output_type": "stream",
     "text": [
      "None\n",
      "Epoch 1/10\n",
      "\u001b[1m695/695\u001b[0m \u001b[32m━━━━━━━━━━━━━━━━━━━━\u001b[0m\u001b[37m\u001b[0m \u001b[1m106s\u001b[0m 148ms/step - accuracy: 0.6159 - loss: 0.9121 - val_accuracy: 0.9439 - val_loss: 0.1663 - learning_rate: 1.0000e-04\n",
      "Epoch 2/10\n",
      "\u001b[1m695/695\u001b[0m \u001b[32m━━━━━━━━━━━━━━━━━━━━\u001b[0m\u001b[37m\u001b[0m \u001b[1m116s\u001b[0m 167ms/step - accuracy: 0.9264 - loss: 0.2057 - val_accuracy: 0.9748 - val_loss: 0.0823 - learning_rate: 1.0000e-04\n",
      "Epoch 3/10\n",
      "\u001b[1m695/695\u001b[0m \u001b[32m━━━━━━━━━━━━━━━━━━━━\u001b[0m\u001b[37m\u001b[0m \u001b[1m113s\u001b[0m 162ms/step - accuracy: 0.9679 - loss: 0.0921 - val_accuracy: 0.9806 - val_loss: 0.0631 - learning_rate: 1.0000e-04\n",
      "Epoch 4/10\n",
      "\u001b[1m695/695\u001b[0m \u001b[32m━━━━━━━━━━━━━━━━━━━━\u001b[0m\u001b[37m\u001b[0m \u001b[1m111s\u001b[0m 160ms/step - accuracy: 0.9841 - loss: 0.0454 - val_accuracy: 0.9885 - val_loss: 0.0494 - learning_rate: 1.0000e-04\n",
      "Epoch 5/10\n",
      "\u001b[1m695/695\u001b[0m \u001b[32m━━━━━━━━━━━━━━━━━━━━\u001b[0m\u001b[37m\u001b[0m \u001b[1m112s\u001b[0m 161ms/step - accuracy: 0.9919 - loss: 0.0285 - val_accuracy: 0.9820 - val_loss: 0.1080 - learning_rate: 1.0000e-04\n",
      "Epoch 6/10\n",
      "\u001b[1m695/695\u001b[0m \u001b[32m━━━━━━━━━━━━━━━━━━━━\u001b[0m\u001b[37m\u001b[0m \u001b[1m111s\u001b[0m 160ms/step - accuracy: 0.9898 - loss: 0.0290 - val_accuracy: 0.9871 - val_loss: 0.0584 - learning_rate: 1.0000e-04\n",
      "Epoch 7/10\n",
      "\u001b[1m695/695\u001b[0m \u001b[32m━━━━━━━━━━━━━━━━━━━━\u001b[0m\u001b[37m\u001b[0m \u001b[1m115s\u001b[0m 165ms/step - accuracy: 0.9894 - loss: 0.0331 - val_accuracy: 0.9863 - val_loss: 0.0502 - learning_rate: 1.0000e-04\n",
      "Epoch 8/10\n",
      "\u001b[1m695/695\u001b[0m \u001b[32m━━━━━━━━━━━━━━━━━━━━\u001b[0m\u001b[37m\u001b[0m \u001b[1m115s\u001b[0m 165ms/step - accuracy: 0.9959 - loss: 0.0123 - val_accuracy: 0.9835 - val_loss: 0.0784 - learning_rate: 1.0000e-04\n",
      "Epoch 9/10\n",
      "\u001b[1m695/695\u001b[0m \u001b[32m━━━━━━━━━━━━━━━━━━━━\u001b[0m\u001b[37m\u001b[0m \u001b[1m119s\u001b[0m 171ms/step - accuracy: 0.9923 - loss: 0.0259 - val_accuracy: 0.9525 - val_loss: 0.1793 - learning_rate: 1.0000e-04\n",
      "Epoch 10/10\n",
      "\u001b[1m695/695\u001b[0m \u001b[32m━━━━━━━━━━━━━━━━━━━━\u001b[0m\u001b[37m\u001b[0m \u001b[1m115s\u001b[0m 165ms/step - accuracy: 0.9979 - loss: 0.0079 - val_accuracy: 0.9871 - val_loss: 0.0546 - learning_rate: 2.0000e-05\n"
     ]
    }
   ],
   "source": [
    "# Train GRU\n",
    "model3, le3, history3 = train_model_unified('gru', X_train, X_val, y_train, y_val, vocab_size=15_000)"
   ]
  },
  {
   "cell_type": "code",
   "execution_count": 62,
   "metadata": {},
   "outputs": [],
   "source": [
    "# Evaluate models\n",
    "def evaluate_model(model, X_test, y_test, le):\n",
    "\n",
    "    # Predict\n",
    "    y_pred = model.predict(X_test)\n",
    "    y_pred_classes = np.argmax(y_pred, axis=1)\n",
    "    y_test_encoded = le.transform(y_test)\n",
    "    \n",
    "    # Calculate and display classification report with focus on recall\n",
    "    print(\"\\nClassification Report (focus on recall):\")\n",
    "    print(classification_report(y_test_encoded, y_pred_classes, \n",
    "                              target_names=['negative', 'neutral', 'positive'],\n",
    "                              zero_division=0))\n",
    "    \n",
    "    # Create confusion matrix with recall values\n",
    "    cm = confusion_matrix(y_test_encoded, y_pred_classes)\n",
    "    recall_values = np.diag(cm) / np.sum(cm, axis=1)\n",
    "    \n",
    "    # Plot confusion matrix\n",
    "    plt.figure(figsize=(10,8))\n",
    "    sns.heatmap(cm, annot=True, fmt='d', cmap='Blues',\n",
    "                xticklabels=['negative', 'neutral', 'positive'],\n",
    "                yticklabels=['negative', 'neutral', 'positive'])\n",
    "    plt.title('Confusion Matrix')\n",
    "    plt.ylabel('True Label')\n",
    "    plt.xlabel('Predicted Label')\n",
    "    plt.show()\n",
    "    \n",
    "    # Plot recall per class\n",
    "    plt.figure(figsize=(8,6))\n",
    "    sns.barplot(x=['negative', 'neutral', 'positive'], \n",
    "                y=recall_values)\n",
    "    plt.title('Recall Score per Class')\n",
    "    plt.ylabel('Recall Score')\n",
    "    plt.xlabel('Sentiment Class')\n",
    "    plt.ylim(0, 1)\n",
    "    for i, v in enumerate(recall_values):\n",
    "        plt.text(i, v + 0.01, f'{v:.3f}', ha='center')\n",
    "    plt.show()\n",
    "    \n",
    "    # Print recall scores\n",
    "    print(\"\\nRecall Scores per Class:\")\n",
    "    for class_name, recall in zip(['Negative', 'Neutral', 'Positive'], recall_values):\n",
    "        print(f\"{class_name}: {recall:.3f}\")\n",
    "\n",
    "    # Preview miss classified sample data\n",
    "    miss_classified_idx = y_pred_classes != y_test_encoded\n",
    "    miss_classified_texts = X_test[miss_classified_idx]\n",
    "    actual_labels = y_test[miss_classified_idx]\n",
    "    predicted_labels = le.inverse_transform(y_pred_classes[miss_classified_idx])\n",
    "    print(\"\\nMiss Classified Samples:\")\n",
    "    print(\"-\" * 100)\n",
    "    for i in range(min(20, len(miss_classified_texts))):\n",
    "        print(f\"Text: {tokenizer.sequences_to_texts([miss_classified_texts[i]])}\")\n",
    "        print(f\"Actual Label: {actual_labels.iloc[i]}\")\n",
    "        print(f\"Predicted Label: {predicted_labels[i]}\")\n",
    "        print(\"-\" * 100)"
   ]
  },
  {
   "cell_type": "code",
   "execution_count": 63,
   "metadata": {},
   "outputs": [
    {
     "name": "stdout",
     "output_type": "stream",
     "text": [
      "\n",
      "Evaluating BiLSTM Model:\n",
      "\u001b[1m44/44\u001b[0m \u001b[32m━━━━━━━━━━━━━━━━━━━━\u001b[0m\u001b[37m\u001b[0m \u001b[1m0s\u001b[0m 3ms/step\n",
      "\n",
      "Classification Report (focus on recall):\n",
      "              precision    recall  f1-score   support\n",
      "\n",
      "    negative       0.99      0.99      0.99       426\n",
      "     neutral       1.00      0.99      1.00       466\n",
      "    positive       0.99      0.99      0.99       498\n",
      "\n",
      "    accuracy                           0.99      1390\n",
      "   macro avg       0.99      0.99      0.99      1390\n",
      "weighted avg       0.99      0.99      0.99      1390\n",
      "\n"
     ]
    },
    {
     "data": {
      "image/png": "[encoded data removed]",
      "text/plain": [
       "<Figure size 1000x800 with 2 Axes>"
      ]
     },
     "metadata": {},
     "output_type": "display_data"
    },
    {
     "data": {
      "image/png": "[encoded data removed]",
      "text/plain": [
       "<Figure size 800x600 with 1 Axes>"
      ]
     },
     "metadata": {},
     "output_type": "display_data"
    },
    {
     "name": "stdout",
     "output_type": "stream",
     "text": [
      "\n",
      "Recall Scores per Class:\n",
      "Negative: 0.993\n",
      "Neutral: 0.991\n",
      "Positive: 0.992\n",
      "\n",
      "Miss Classified Samples:\n",
      "----------------------------------------------------------------------------------------------------\n",
      "Text: ['rentan beruntus titik maksimal itupun hilang ambil pusing breakout dahiku bersih beruntus seneng ketemu kondisi beruntus dateng periode munculnya titik hilang selesai periode']\n",
      "Actual Label: neutral\n",
      "Predicted Label: positive\n",
      "----------------------------------------------------------------------------------------------------\n",
      "Text: ['sunscreen teraman pake barengan ponakan ku tekstur nya thick sih effort dikit blend nya ga whitecast nya finishnya lembab <OOV> <OOV> <OOV> <OOV>']\n",
      "Actual Label: positive\n",
      "Predicted Label: negative\n",
      "----------------------------------------------------------------------------------------------------\n",
      "Text: ['kayak yg essence toner cuman bentukannya spray bener kayak air suka spray nya efektif essence toner cocok yg oily skin yg nggak moisture']\n",
      "Actual Label: negative\n",
      "Predicted Label: positive\n",
      "----------------------------------------------------------------------------------------------------\n",
      "Text: ['igomanotih jam semoga liverpool juara balas balasan christophertulus jam juara musim lalumanchester city liverpool nilai poin pekan english premier league musim <OOV> <OOV>']\n",
      "Actual Label: neutral\n",
      "Predicted Label: positive\n",
      "----------------------------------------------------------------------------------------------------\n",
      "Text: ['overall suka produk sayangnya baunya strong teksturnya thick dipake semalam paginya shine nya gitu bikin segi fungsi oke very hydrating <OOV> <OOV> <OOV>']\n",
      "Actual Label: positive\n",
      "Predicted Label: negative\n",
      "----------------------------------------------------------------------------------------------------\n",
      "Text: ['kayak yg essence toner cuman bentukannya spray bener kayak air suka spray nya efektif essence toner cocok yg oily skin yg nggak moisture']\n",
      "Actual Label: negative\n",
      "Predicted Label: positive\n",
      "----------------------------------------------------------------------------------------------------\n",
      "Text: ['mendukung kebersihan sungai melibatkan chery omoda e sportel bali triathlon jakarta color run festival mendukung kegiatan <OOV> <OOV> <OOV> <OOV> <OOV> <OOV> <OOV>']\n",
      "Actual Label: neutral\n",
      "Predicted Label: positive\n",
      "----------------------------------------------------------------------------------------------------\n",
      "Text: ['tidur pas gua pake toner tuh adem pas diusap pake kapas lo tau kotoran keangkat woy canggih bener dah toner ga ngerti yaallah']\n",
      "Actual Label: positive\n",
      "Predicted Label: negative\n",
      "----------------------------------------------------------------------------------------------------\n",
      "Text: ['ya just okay aja kulit hydrating sih gampang nyerep nya texture nya thick somehow dry skin <OOV> <OOV> <OOV> <OOV> <OOV> <OOV> <OOV>']\n",
      "Actual Label: positive\n",
      "Predicted Label: negative\n",
      "----------------------------------------------------------------------------------------------------\n",
      "Text: ['love hate toner kalo habis pake wajah alus jeda sehari komedo baunya gak menyengat nyaman sih work <OOV> <OOV> <OOV> <OOV> <OOV> <OOV>']\n",
      "Actual Label: negative\n",
      "Predicted Label: positive\n",
      "----------------------------------------------------------------------------------------------------\n",
      "Text: ['salicylic acid star ingredientnya snail mucin glycerine betaglucan aloe vera dll fragrancefree ukurannya guede yaa ml cobain ml botol takut fullsizenya ngasih bravo']\n",
      "Actual Label: neutral\n",
      "Predicted Label: positive\n",
      "----------------------------------------------------------------------------------------------------\n",
      "------------------------------------------------------------------------------------------------------------------------------------------------------\n",
      "\n",
      "Evaluating CNN Model:\n",
      "\u001b[1m44/44\u001b[0m \u001b[32m━━━━━━━━━━━━━━━━━━━━\u001b[0m\u001b[37m\u001b[0m \u001b[1m1s\u001b[0m 14ms/step\n",
      "\n",
      "Classification Report (focus on recall):\n",
      "              precision    recall  f1-score   support\n",
      "\n",
      "    negative       1.00      1.00      1.00       426\n",
      "     neutral       0.98      0.99      0.99       466\n",
      "    positive       0.99      0.98      0.99       498\n",
      "\n",
      "    accuracy                           0.99      1390\n",
      "   macro avg       0.99      0.99      0.99      1390\n",
      "weighted avg       0.99      0.99      0.99      1390\n",
      "\n"
     ]
    },
    {
     "data": {
      "image/png": "[encoded data removed]",
      "text/plain": [
       "<Figure size 1000x800 with 2 Axes>"
      ]
     },
     "metadata": {},
     "output_type": "display_data"
    },
    {
     "data": {
      "image/png": "[encoded data removed]",
      "text/plain": [
       "<Figure size 800x600 with 1 Axes>"
      ]
     },
     "metadata": {},
     "output_type": "display_data"
    },
    {
     "name": "stdout",
     "output_type": "stream",
     "text": [
      "\n",
      "Recall Scores per Class:\n",
      "Negative: 1.000\n",
      "Neutral: 0.994\n",
      "Positive: 0.980\n",
      "\n",
      "Miss Classified Samples:\n",
      "----------------------------------------------------------------------------------------------------\n",
      "Text: ['teksturenya watery warna kuning packingnya flip tumpah tumpah lbh ngeluarin prduknya belom ngaruh kupake sehabis fw ngangkat sisa kotoran <OOV> <OOV> <OOV> <OOV>']\n",
      "Actual Label: neutral\n",
      "Predicted Label: positive\n",
      "----------------------------------------------------------------------------------------------------\n",
      "Text: ['moisturizer kebangaan moisturizer sangatvlife changing sekalii ngebuat bruntusan muka ku pudar sih love <OOV> <OOV> <OOV> <OOV> <OOV> <OOV> <OOV> <OOV> <OOV> <OOV>']\n",
      "Actual Label: positive\n",
      "Predicted Label: neutral\n",
      "----------------------------------------------------------------------------------------------------\n",
      "Text: ['bagussss sekalii yg tadinys kek kebun skrng tandah gandus alias tinggal bekas ny aja yeyyyyy thank youu pyunkangg muachhhh i love you <OOV>']\n",
      "Actual Label: positive\n",
      "Predicted Label: neutral\n",
      "----------------------------------------------------------------------------------------------------\n",
      "Text: ['cocok texturenya cair suka padat kental sisanya oke sesuai harganya packagingnya ok warnanya ok <OOV> <OOV> <OOV> <OOV> <OOV> <OOV> <OOV> <OOV> <OOV>']\n",
      "Actual Label: positive\n",
      "Predicted Label: neutral\n",
      "----------------------------------------------------------------------------------------------------\n",
      "Text: ['sunscreen teraman pake barengan ponakan ku tekstur nya thick sih effort dikit blend nya ga whitecast nya finishnya lembab <OOV> <OOV> <OOV> <OOV>']\n",
      "Actual Label: positive\n",
      "Predicted Label: negative\n",
      "----------------------------------------------------------------------------------------------------\n",
      "Text: ['pemakaian botol pertamaa tinggal segini setiapppp bangun tidur muka bersih cerah nggak kusammm memutihkan yaa cantikkk top pokoknya <OOV> <OOV> <OOV> <OOV> <OOV>']\n",
      "Actual Label: positive\n",
      "Predicted Label: neutral\n",
      "----------------------------------------------------------------------------------------------------\n",
      "Text: ['nyerap finishnya powder finish lembut botolnya loh susah ngeluarin produknya kebanyakan kesikitan tumpah plis secair botol pump botol gini susah ngatur biar keluarin']\n",
      "Actual Label: neutral\n",
      "Predicted Label: positive\n",
      "----------------------------------------------------------------------------------------------------\n",
      "Text: ['diblend jg toneup tingkat cerah keputihan texture directionnya reapply jam mslhnya tuh reapply susah diblend hint putihnya putih jg sampe belang aplg hairlinenya']\n",
      "Actual Label: neutral\n",
      "Predicted Label: positive\n",
      "----------------------------------------------------------------------------------------------------\n",
      "Text: ['pakai uda dri keracunan wkwk abis pakai inii love bangett suerrr teksturnyaa weenak bangett lovee loveee <OOV> <OOV> <OOV> <OOV> <OOV> <OOV> <OOV>']\n",
      "Actual Label: positive\n",
      "Predicted Label: neutral\n",
      "----------------------------------------------------------------------------------------------------\n",
      "Text: ['kecintaan akuuu enak ga keset pake bruntusan ilang jerawatku mengecil nyerap jugaa pokoknya loveeeeee <OOV> <OOV> <OOV> <OOV> <OOV> <OOV> <OOV> <OOV> <OOV>']\n",
      "Actual Label: positive\n",
      "Predicted Label: neutral\n",
      "----------------------------------------------------------------------------------------------------\n",
      "Text: ['ya just okay aja kulit hydrating sih gampang nyerep nya texture nya thick somehow dry skin <OOV> <OOV> <OOV> <OOV> <OOV> <OOV> <OOV>']\n",
      "Actual Label: positive\n",
      "Predicted Label: negative\n",
      "----------------------------------------------------------------------------------------------------\n",
      "Text: ['toner ssuuukkaa efektif mengurangi komedo mencegah ngempeskan ngangkat sisa kotoran yg tertinggal stlah cuci muka packingnya trevel friendly <OOV> <OOV> <OOV> <OOV> <OOV>']\n",
      "Actual Label: positive\n",
      "Predicted Label: neutral\n",
      "----------------------------------------------------------------------------------------------------\n",
      "Text: ['beli online murah promo produknya bagus harganya terjangkau kemasannya simple tranvel friendly mudah dibawa <OOV> <OOV> <OOV> <OOV> <OOV> <OOV> <OOV> <OOV> <OOV>']\n",
      "Actual Label: positive\n",
      "Predicted Label: neutral\n",
      "----------------------------------------------------------------------------------------------------\n",
      "------------------------------------------------------------------------------------------------------------------------------------------------------\n",
      "\n",
      "Evaluating GRU Model:\n",
      "\u001b[1m44/44\u001b[0m \u001b[32m━━━━━━━━━━━━━━━━━━━━\u001b[0m\u001b[37m\u001b[0m \u001b[1m3s\u001b[0m 60ms/step\n",
      "\n",
      "Classification Report (focus on recall):\n",
      "              precision    recall  f1-score   support\n",
      "\n",
      "    negative       1.00      1.00      1.00       426\n",
      "     neutral       1.00      0.99      0.99       466\n",
      "    positive       0.99      0.99      0.99       498\n",
      "\n",
      "    accuracy                           0.99      1390\n",
      "   macro avg       0.99      0.99      0.99      1390\n",
      "weighted avg       0.99      0.99      0.99      1390\n",
      "\n"
     ]
    },
    {
     "data": {
      "image/png": "[encoded data removed]",
      "text/plain": [
       "<Figure size 1000x800 with 2 Axes>"
      ]
     },
     "metadata": {},
     "output_type": "display_data"
    },
    {
     "data": {
      "image/png": "[encoded data removed]",
      "text/plain": [
       "<Figure size 800x600 with 1 Axes>"
      ]
     },
     "metadata": {},
     "output_type": "display_data"
    },
    {
     "name": "stdout",
     "output_type": "stream",
     "text": [
      "\n",
      "Recall Scores per Class:\n",
      "Negative: 0.998\n",
      "Neutral: 0.991\n",
      "Positive: 0.992\n",
      "\n",
      "Miss Classified Samples:\n",
      "----------------------------------------------------------------------------------------------------\n",
      "Text: ['rentan beruntus titik maksimal itupun hilang ambil pusing breakout dahiku bersih beruntus seneng ketemu kondisi beruntus dateng periode munculnya titik hilang selesai periode']\n",
      "Actual Label: neutral\n",
      "Predicted Label: positive\n",
      "----------------------------------------------------------------------------------------------------\n",
      "Text: ['sunscreen teraman pake barengan ponakan ku tekstur nya thick sih effort dikit blend nya ga whitecast nya finishnya lembab <OOV> <OOV> <OOV> <OOV>']\n",
      "Actual Label: positive\n",
      "Predicted Label: negative\n",
      "----------------------------------------------------------------------------------------------------\n",
      "Text: ['daily ngga narik lbh moisturizing bngt krn kandungan aloe vera lbh kyk essence nya pyun kang yul membantu ngurangin minyak berlebih dimuka mencegah']\n",
      "Actual Label: positive\n",
      "Predicted Label: neutral\n",
      "----------------------------------------------------------------------------------------------------\n",
      "Text: ['soso baja murah segitu sehari bhanya rendah cuman baunya ganggu ngilangin blackwhite heads ampuh soso <OOV> <OOV> <OOV> <OOV> <OOV> <OOV> <OOV> <OOV>']\n",
      "Actual Label: neutral\n",
      "Predicted Label: positive\n",
      "----------------------------------------------------------------------------------------------------\n",
      "Text: ['muka cenderung oily cocok pake toner beli ml krn coba dl cocok pemakaian sebulan jd im gonna repurchace this toner once toner habis']\n",
      "Actual Label: positive\n",
      "Predicted Label: negative\n",
      "----------------------------------------------------------------------------------------------------\n",
      "Text: ['liquid menyerupai gel kandungan utamanya aloe vera dispensernya berbentuk pump botolnya lumayan isinya ml pakai dituang tangan diusap wajah dituang kapas diusap wajah']\n",
      "Actual Label: positive\n",
      "Predicted Label: neutral\n",
      "----------------------------------------------------------------------------------------------------\n",
      "Text: ['kali cobain enak bgt teksturnya aplikasiin wajah gampang kulit lembab kenyal jadiin base makeup bagus <OOV> <OOV> <OOV> <OOV> <OOV> <OOV> <OOV> <OOV>']\n",
      "Actual Label: negative\n",
      "Predicted Label: positive\n",
      "----------------------------------------------------------------------------------------------------\n",
      "Text: ['lupa review okeh mayan terbukti bantu eksfoliasi cumaaa kebanyakan keseringan trus bantu dgn bruntusan bangeeet oiya sukanya kapas apply sayangny mancrut pencetnya hati']\n",
      "Actual Label: neutral\n",
      "Predicted Label: positive\n",
      "----------------------------------------------------------------------------------------------------\n",
      "Text: ['terbaiiiiiiik exfoliating mengandung iritasi samsek mengandung aloe vera calming hidrasi merah sesuka loh udh botol udh nyetok krn takut keabisan terbaik si <OOV>']\n",
      "Actual Label: neutral\n",
      "Predicted Label: positive\n",
      "----------------------------------------------------------------------------------------------------\n",
      "------------------------------------------------------------------------------------------------------------------------------------------------------\n"
     ]
    }
   ],
   "source": [
    "# Evaluate each model\n",
    "models = {\n",
    "    'BiLSTM': model1, \n",
    "    'CNN': model2, \n",
    "    'GRU': model3\n",
    "}\n",
    "for name, model in models.items():\n",
    "    print(f\"\\nEvaluating {name} Model:\")\n",
    "    evaluate_model(model, X_test, y_test, le1)  # Using le1 as they should be equivalent\n",
    "    print(\"---\" * 50)"
   ]
  },
  {
   "cell_type": "code",
   "execution_count": 64,
   "metadata": {},
   "outputs": [
    {
     "name": "stderr",
     "output_type": "stream",
     "text": [
      "WARNING:absl:You are saving your model as an HDF5 file via `model.save()` or `keras.saving.save_model(model)`. This file format is considered legacy. We recommend using instead the native Keras format, e.g. `model.save('my_model.keras')` or `keras.saving.save_model(model, 'my_model.keras')`. \n"
     ]
    },
    {
     "name": "stdout",
     "output_type": "stream",
     "text": [
      "Model saved as 'best_model.h5'\n",
      "Tokenizer saved as 'tokenizer.pkl'\n",
      "Label encoder saved as 'label_encoder.pkl'\n"
     ]
    }
   ],
   "source": [
    "# Save the model and necessary components\n",
    "model3.save('best_model.h5')\n",
    "import pickle\n",
    "with open('tokenizer.pkl', 'wb') as handle:\n",
    "    pickle.dump(tokenizer, handle)\n",
    "with open('label_encoder.pkl', 'wb') as handle:\n",
    "    pickle.dump(le1, handle)\n",
    "    \n",
    "\n",
    "print(\"Model saved as 'best_model.h5'\")\n",
    "print(\"Tokenizer saved as 'tokenizer.pkl'\")\n",
    "print(\"Label encoder saved as 'label_encoder.pkl'\")"
   ]
  }
 ],
 "metadata": {
  "kernelspec": {
   "display_name": "Python 3",
   "language": "python",
   "name": "python3"
  },
  "language_info": {
   "codemirror_mode": {
    "name": "ipython",
    "version": 3
   },
   "file_extension": ".py",
   "mimetype": "text/x-python",
   "name": "python",
   "nbconvert_exporter": "python",
   "pygments_lexer": "ipython3",
   "version": "3.9.13"
  }
 },
 "nbformat": 4,
 "nbformat_minor": 2
}
